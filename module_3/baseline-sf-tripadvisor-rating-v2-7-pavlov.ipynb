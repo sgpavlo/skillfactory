{
 "cells": [
  {
   "cell_type": "markdown",
   "metadata": {},
   "source": [
    "![](https://www.pata.org/wp-content/uploads/2014/09/TripAdvisor_Logo-300x119.png)\n",
    "# Predict TripAdvisor Rating\n",
    "## В этом соревновании нам предстоит предсказать рейтинг ресторана в TripAdvisor\n",
    "**По ходу задачи:**\n",
    "* Прокачаем работу с pandas\n",
    "* Научимся работать с Kaggle Notebooks\n",
    "* Поймем как делать предобработку различных данных\n",
    "* Научимся работать с пропущенными данными (Nan)\n",
    "* Познакомимся с различными видами кодирования признаков\n",
    "* Немного попробуем [Feature Engineering](https://ru.wikipedia.org/wiki/Конструирование_признаков) (генерировать новые признаки)\n",
    "* И совсем немного затронем ML\n",
    "* И многое другое...   \n",
    "\n",
    "\n",
    "\n",
    "### И самое важное, все это вы сможете сделать самостоятельно!\n",
    "\n",
    "*Этот Ноутбук являетсся Примером/Шаблоном к этому соревнованию (Baseline) и не служит готовым решением!*   \n",
    "Вы можете использовать его как основу для построения своего решения.\n",
    "\n",
    "> что такое baseline решение, зачем оно нужно и почему предоставлять baseline к соревнованию стало важным стандартом на kaggle и других площадках.   \n",
    "**baseline** создается больше как шаблон, где можно посмотреть как происходит обращение с входящими данными и что нужно получить на выходе. При этом МЛ начинка может быть достаточно простой, просто для примера. Это помогает быстрее приступить к самому МЛ, а не тратить ценное время на чисто инженерные задачи. \n",
    "Также baseline являеться хорошей опорной точкой по метрике. Если твое решение хуже baseline - ты явно делаешь что-то не то и стоит попробовать другой путь) \n",
    "\n",
    "В контексте нашего соревнования baseline идет с небольшими примерами того, что можно делать с данными, и с инструкцией, что делать дальше, чтобы улучшить результат.  Вообще готовым решением это сложно назвать, так как используются всего 2 самых простых признака (а остальные исключаются)."
   ]
  },
  {
   "cell_type": "markdown",
   "metadata": {},
   "source": [
    "# import"
   ]
  },
  {
   "cell_type": "code",
   "execution_count": 1,
   "metadata": {
    "_cell_guid": "b1076dfc-b9ad-4769-8c92-a6c4dae69d19",
    "_uuid": "8f2839f25d086af736a60e9eeb907d3b93b6e0e5",
    "execution": {
     "iopub.execute_input": "2021-10-17T09:51:51.506287Z",
     "iopub.status.busy": "2021-10-17T09:51:51.505717Z",
     "iopub.status.idle": "2021-10-17T09:51:54.281515Z",
     "shell.execute_reply": "2021-10-17T09:51:54.280622Z",
     "shell.execute_reply.started": "2021-10-17T09:51:51.506220Z"
    }
   },
   "outputs": [
    {
     "name": "stdout",
     "output_type": "stream",
     "text": [
      "/kaggle/input/sf-dst-restaurant-rating/sample_submission.csv\n",
      "/kaggle/input/sf-dst-restaurant-rating/main_task.csv\n",
      "/kaggle/input/sf-dst-restaurant-rating/kaggle_task.csv\n"
     ]
    }
   ],
   "source": [
    "# This Python 3 environment comes with many helpful analytics libraries installed\n",
    "# It is defined by the kaggle/python docker image: https://github.com/kaggle/docker-python\n",
    "# For example, here's several helpful packages to load in \n",
    "\n",
    "import numpy as np # linear algebra\n",
    "import pandas as pd # data processing, CSV file I/O (e.g. pd.read_csv)\n",
    "\n",
    "import matplotlib.pyplot as plt\n",
    "import seaborn as sns \n",
    "%matplotlib inline\n",
    "import collections\n",
    "\n",
    "# Загружаем специальный удобный инструмент для разделения датасета:\n",
    "from sklearn.model_selection import train_test_split\n",
    "from sklearn.preprocessing import LabelEncoder # инструмент для кодирования категориальных признаков\n",
    "\n",
    "# Input data files are available in the \"../input/\" directory.\n",
    "# For example, running this (by clicking run or pressing Shift+Enter) will list all files under the input directory\n",
    "\n",
    "import os\n",
    "for dirname, _, filenames in os.walk('/kaggle/input'):\n",
    "    for filename in filenames:\n",
    "        print(os.path.join(dirname, filename))\n",
    "\n",
    "# Any results you write to the current directory are saved as output."
   ]
  },
  {
   "cell_type": "code",
   "execution_count": 2,
   "metadata": {
    "execution": {
     "iopub.execute_input": "2021-10-17T09:51:56.459852Z",
     "iopub.status.busy": "2021-10-17T09:51:56.459343Z",
     "iopub.status.idle": "2021-10-17T09:51:56.463994Z",
     "shell.execute_reply": "2021-10-17T09:51:56.463247Z",
     "shell.execute_reply.started": "2021-10-17T09:51:56.459781Z"
    }
   },
   "outputs": [],
   "source": [
    "# всегда фиксируйте RANDOM_SEED, чтобы ваши эксперименты были воспроизводимы!\n",
    "RANDOM_SEED = 42"
   ]
  },
  {
   "cell_type": "code",
   "execution_count": 3,
   "metadata": {
    "execution": {
     "iopub.execute_input": "2021-10-17T09:52:03.732090Z",
     "iopub.status.busy": "2021-10-17T09:52:03.731646Z",
     "iopub.status.idle": "2021-10-17T09:52:06.936790Z",
     "shell.execute_reply": "2021-10-17T09:52:06.935595Z",
     "shell.execute_reply.started": "2021-10-17T09:52:03.732047Z"
    }
   },
   "outputs": [],
   "source": [
    "# зафиксируем версию пакетов, чтобы эксперименты были воспроизводимы:\n",
    "!pip freeze > requirements.txt"
   ]
  },
  {
   "cell_type": "markdown",
   "metadata": {},
   "source": [
    "# DATA"
   ]
  },
  {
   "cell_type": "code",
   "execution_count": 4,
   "metadata": {
    "_cell_guid": "79c7e3d0-c299-4dcb-8224-4455121ee9b0",
    "_uuid": "d629ff2d2480ee46fbb7e2d37f6b5fab8052498a",
    "execution": {
     "iopub.execute_input": "2021-10-17T09:52:08.440369Z",
     "iopub.status.busy": "2021-10-17T09:52:08.440034Z",
     "iopub.status.idle": "2021-10-17T09:52:08.833011Z",
     "shell.execute_reply": "2021-10-17T09:52:08.832285Z",
     "shell.execute_reply.started": "2021-10-17T09:52:08.440309Z"
    }
   },
   "outputs": [],
   "source": [
    "DATA_DIR = '/kaggle/input/sf-dst-restaurant-rating/'\n",
    "df_train = pd.read_csv(DATA_DIR+'/main_task.csv')\n",
    "df_test = pd.read_csv(DATA_DIR+'kaggle_task.csv')\n",
    "sample_submission = pd.read_csv(DATA_DIR+'/sample_submission.csv')"
   ]
  },
  {
   "cell_type": "code",
   "execution_count": 5,
   "metadata": {
    "execution": {
     "iopub.execute_input": "2021-10-17T09:52:10.619103Z",
     "iopub.status.busy": "2021-10-17T09:52:10.618735Z",
     "iopub.status.idle": "2021-10-17T09:52:10.657654Z",
     "shell.execute_reply": "2021-10-17T09:52:10.656681Z",
     "shell.execute_reply.started": "2021-10-17T09:52:10.619039Z"
    }
   },
   "outputs": [
    {
     "name": "stdout",
     "output_type": "stream",
     "text": [
      "<class 'pandas.core.frame.DataFrame'>\n",
      "RangeIndex: 40000 entries, 0 to 39999\n",
      "Data columns (total 10 columns):\n",
      "Restaurant_id        40000 non-null object\n",
      "City                 40000 non-null object\n",
      "Cuisine Style        30717 non-null object\n",
      "Ranking              40000 non-null float64\n",
      "Rating               40000 non-null float64\n",
      "Price Range          26114 non-null object\n",
      "Number of Reviews    37457 non-null float64\n",
      "Reviews              40000 non-null object\n",
      "URL_TA               40000 non-null object\n",
      "ID_TA                40000 non-null object\n",
      "dtypes: float64(3), object(7)\n",
      "memory usage: 3.1+ MB\n"
     ]
    }
   ],
   "source": [
    "df_train.info()"
   ]
  },
  {
   "cell_type": "code",
   "execution_count": 6,
   "metadata": {
    "execution": {
     "iopub.execute_input": "2021-10-17T09:52:13.277240Z",
     "iopub.status.busy": "2021-10-17T09:52:13.276913Z",
     "iopub.status.idle": "2021-10-17T09:52:13.301704Z",
     "shell.execute_reply": "2021-10-17T09:52:13.301037Z",
     "shell.execute_reply.started": "2021-10-17T09:52:13.277193Z"
    }
   },
   "outputs": [
    {
     "data": {
      "text/html": [
       "<div>\n",
       "<style scoped>\n",
       "    .dataframe tbody tr th:only-of-type {\n",
       "        vertical-align: middle;\n",
       "    }\n",
       "\n",
       "    .dataframe tbody tr th {\n",
       "        vertical-align: top;\n",
       "    }\n",
       "\n",
       "    .dataframe thead th {\n",
       "        text-align: right;\n",
       "    }\n",
       "</style>\n",
       "<table border=\"1\" class=\"dataframe\">\n",
       "  <thead>\n",
       "    <tr style=\"text-align: right;\">\n",
       "      <th></th>\n",
       "      <th>Restaurant_id</th>\n",
       "      <th>City</th>\n",
       "      <th>Cuisine Style</th>\n",
       "      <th>Ranking</th>\n",
       "      <th>Rating</th>\n",
       "      <th>Price Range</th>\n",
       "      <th>Number of Reviews</th>\n",
       "      <th>Reviews</th>\n",
       "      <th>URL_TA</th>\n",
       "      <th>ID_TA</th>\n",
       "    </tr>\n",
       "  </thead>\n",
       "  <tbody>\n",
       "    <tr>\n",
       "      <th>0</th>\n",
       "      <td>id_5569</td>\n",
       "      <td>Paris</td>\n",
       "      <td>['European', 'French', 'International']</td>\n",
       "      <td>5570.0</td>\n",
       "      <td>3.5</td>\n",
       "      <td>$$ - $$$</td>\n",
       "      <td>194.0</td>\n",
       "      <td>[['Good food at your doorstep', 'A good hotel ...</td>\n",
       "      <td>/Restaurant_Review-g187147-d1912643-Reviews-R_...</td>\n",
       "      <td>d1912643</td>\n",
       "    </tr>\n",
       "    <tr>\n",
       "      <th>1</th>\n",
       "      <td>id_1535</td>\n",
       "      <td>Stockholm</td>\n",
       "      <td>NaN</td>\n",
       "      <td>1537.0</td>\n",
       "      <td>4.0</td>\n",
       "      <td>NaN</td>\n",
       "      <td>10.0</td>\n",
       "      <td>[['Unique cuisine', 'Delicious Nepalese food']...</td>\n",
       "      <td>/Restaurant_Review-g189852-d7992032-Reviews-Bu...</td>\n",
       "      <td>d7992032</td>\n",
       "    </tr>\n",
       "    <tr>\n",
       "      <th>2</th>\n",
       "      <td>id_352</td>\n",
       "      <td>London</td>\n",
       "      <td>['Japanese', 'Sushi', 'Asian', 'Grill', 'Veget...</td>\n",
       "      <td>353.0</td>\n",
       "      <td>4.5</td>\n",
       "      <td>$$$$</td>\n",
       "      <td>688.0</td>\n",
       "      <td>[['Catch up with friends', 'Not exceptional'],...</td>\n",
       "      <td>/Restaurant_Review-g186338-d8632781-Reviews-RO...</td>\n",
       "      <td>d8632781</td>\n",
       "    </tr>\n",
       "    <tr>\n",
       "      <th>3</th>\n",
       "      <td>id_3456</td>\n",
       "      <td>Berlin</td>\n",
       "      <td>NaN</td>\n",
       "      <td>3458.0</td>\n",
       "      <td>5.0</td>\n",
       "      <td>NaN</td>\n",
       "      <td>3.0</td>\n",
       "      <td>[[], []]</td>\n",
       "      <td>/Restaurant_Review-g187323-d1358776-Reviews-Es...</td>\n",
       "      <td>d1358776</td>\n",
       "    </tr>\n",
       "    <tr>\n",
       "      <th>4</th>\n",
       "      <td>id_615</td>\n",
       "      <td>Munich</td>\n",
       "      <td>['German', 'Central European', 'Vegetarian Fri...</td>\n",
       "      <td>621.0</td>\n",
       "      <td>4.0</td>\n",
       "      <td>$$ - $$$</td>\n",
       "      <td>84.0</td>\n",
       "      <td>[['Best place to try a Bavarian food', 'Nice b...</td>\n",
       "      <td>/Restaurant_Review-g187309-d6864963-Reviews-Au...</td>\n",
       "      <td>d6864963</td>\n",
       "    </tr>\n",
       "  </tbody>\n",
       "</table>\n",
       "</div>"
      ],
      "text/plain": [
       "  Restaurant_id       City                                      Cuisine Style  \\\n",
       "0       id_5569      Paris            ['European', 'French', 'International']   \n",
       "1       id_1535  Stockholm                                                NaN   \n",
       "2        id_352     London  ['Japanese', 'Sushi', 'Asian', 'Grill', 'Veget...   \n",
       "3       id_3456     Berlin                                                NaN   \n",
       "4        id_615     Munich  ['German', 'Central European', 'Vegetarian Fri...   \n",
       "\n",
       "   Ranking  Rating Price Range  Number of Reviews  \\\n",
       "0   5570.0     3.5    $$ - $$$              194.0   \n",
       "1   1537.0     4.0         NaN               10.0   \n",
       "2    353.0     4.5        $$$$              688.0   \n",
       "3   3458.0     5.0         NaN                3.0   \n",
       "4    621.0     4.0    $$ - $$$               84.0   \n",
       "\n",
       "                                             Reviews  \\\n",
       "0  [['Good food at your doorstep', 'A good hotel ...   \n",
       "1  [['Unique cuisine', 'Delicious Nepalese food']...   \n",
       "2  [['Catch up with friends', 'Not exceptional'],...   \n",
       "3                                           [[], []]   \n",
       "4  [['Best place to try a Bavarian food', 'Nice b...   \n",
       "\n",
       "                                              URL_TA     ID_TA  \n",
       "0  /Restaurant_Review-g187147-d1912643-Reviews-R_...  d1912643  \n",
       "1  /Restaurant_Review-g189852-d7992032-Reviews-Bu...  d7992032  \n",
       "2  /Restaurant_Review-g186338-d8632781-Reviews-RO...  d8632781  \n",
       "3  /Restaurant_Review-g187323-d1358776-Reviews-Es...  d1358776  \n",
       "4  /Restaurant_Review-g187309-d6864963-Reviews-Au...  d6864963  "
      ]
     },
     "execution_count": 6,
     "metadata": {},
     "output_type": "execute_result"
    }
   ],
   "source": [
    "df_train.head(5)"
   ]
  },
  {
   "cell_type": "code",
   "execution_count": 7,
   "metadata": {
    "execution": {
     "iopub.execute_input": "2021-10-17T09:52:16.067949Z",
     "iopub.status.busy": "2021-10-17T09:52:16.067513Z",
     "iopub.status.idle": "2021-10-17T09:52:16.080003Z",
     "shell.execute_reply": "2021-10-17T09:52:16.078915Z",
     "shell.execute_reply.started": "2021-10-17T09:52:16.067908Z"
    }
   },
   "outputs": [
    {
     "name": "stdout",
     "output_type": "stream",
     "text": [
      "<class 'pandas.core.frame.DataFrame'>\n",
      "RangeIndex: 10000 entries, 0 to 9999\n",
      "Data columns (total 9 columns):\n",
      "Restaurant_id        10000 non-null object\n",
      "City                 10000 non-null object\n",
      "Cuisine Style        7693 non-null object\n",
      "Ranking              10000 non-null float64\n",
      "Price Range          6525 non-null object\n",
      "Number of Reviews    9343 non-null float64\n",
      "Reviews              9998 non-null object\n",
      "URL_TA               10000 non-null object\n",
      "ID_TA                10000 non-null object\n",
      "dtypes: float64(2), object(7)\n",
      "memory usage: 703.2+ KB\n"
     ]
    }
   ],
   "source": [
    "df_test.info()"
   ]
  },
  {
   "cell_type": "code",
   "execution_count": 8,
   "metadata": {
    "execution": {
     "iopub.execute_input": "2021-10-17T09:52:19.346478Z",
     "iopub.status.busy": "2021-10-17T09:52:19.346131Z",
     "iopub.status.idle": "2021-10-17T09:52:19.363553Z",
     "shell.execute_reply": "2021-10-17T09:52:19.362815Z",
     "shell.execute_reply.started": "2021-10-17T09:52:19.346423Z"
    }
   },
   "outputs": [
    {
     "data": {
      "text/html": [
       "<div>\n",
       "<style scoped>\n",
       "    .dataframe tbody tr th:only-of-type {\n",
       "        vertical-align: middle;\n",
       "    }\n",
       "\n",
       "    .dataframe tbody tr th {\n",
       "        vertical-align: top;\n",
       "    }\n",
       "\n",
       "    .dataframe thead th {\n",
       "        text-align: right;\n",
       "    }\n",
       "</style>\n",
       "<table border=\"1\" class=\"dataframe\">\n",
       "  <thead>\n",
       "    <tr style=\"text-align: right;\">\n",
       "      <th></th>\n",
       "      <th>Restaurant_id</th>\n",
       "      <th>City</th>\n",
       "      <th>Cuisine Style</th>\n",
       "      <th>Ranking</th>\n",
       "      <th>Price Range</th>\n",
       "      <th>Number of Reviews</th>\n",
       "      <th>Reviews</th>\n",
       "      <th>URL_TA</th>\n",
       "      <th>ID_TA</th>\n",
       "    </tr>\n",
       "  </thead>\n",
       "  <tbody>\n",
       "    <tr>\n",
       "      <th>0</th>\n",
       "      <td>id_0</td>\n",
       "      <td>Paris</td>\n",
       "      <td>['Bar', 'Pub']</td>\n",
       "      <td>12963.0</td>\n",
       "      <td>$$ - $$$</td>\n",
       "      <td>4.0</td>\n",
       "      <td>[[], []]</td>\n",
       "      <td>/Restaurant_Review-g187147-d10746918-Reviews-L...</td>\n",
       "      <td>d10746918</td>\n",
       "    </tr>\n",
       "    <tr>\n",
       "      <th>1</th>\n",
       "      <td>id_1</td>\n",
       "      <td>Helsinki</td>\n",
       "      <td>['European', 'Scandinavian', 'Gluten Free Opti...</td>\n",
       "      <td>106.0</td>\n",
       "      <td>$$ - $$$</td>\n",
       "      <td>97.0</td>\n",
       "      <td>[['Very good reviews!', 'Fine dining in Hakani...</td>\n",
       "      <td>/Restaurant_Review-g189934-d6674944-Reviews-Ra...</td>\n",
       "      <td>d6674944</td>\n",
       "    </tr>\n",
       "    <tr>\n",
       "      <th>2</th>\n",
       "      <td>id_2</td>\n",
       "      <td>Edinburgh</td>\n",
       "      <td>['Vegetarian Friendly']</td>\n",
       "      <td>810.0</td>\n",
       "      <td>$$ - $$$</td>\n",
       "      <td>28.0</td>\n",
       "      <td>[['Better than the Links', 'Ivy Black'], ['12/...</td>\n",
       "      <td>/Restaurant_Review-g186525-d13129638-Reviews-B...</td>\n",
       "      <td>d13129638</td>\n",
       "    </tr>\n",
       "    <tr>\n",
       "      <th>3</th>\n",
       "      <td>id_3</td>\n",
       "      <td>London</td>\n",
       "      <td>['Italian', 'Mediterranean', 'European', 'Vege...</td>\n",
       "      <td>1669.0</td>\n",
       "      <td>$$$$</td>\n",
       "      <td>202.0</td>\n",
       "      <td>[['Most exquisite', 'Delicious and authentic']...</td>\n",
       "      <td>/Restaurant_Review-g186338-d680417-Reviews-Qui...</td>\n",
       "      <td>d680417</td>\n",
       "    </tr>\n",
       "    <tr>\n",
       "      <th>4</th>\n",
       "      <td>id_4</td>\n",
       "      <td>Bratislava</td>\n",
       "      <td>['Italian', 'Mediterranean', 'European', 'Seaf...</td>\n",
       "      <td>37.0</td>\n",
       "      <td>$$$$</td>\n",
       "      <td>162.0</td>\n",
       "      <td>[['Always the best in bratislava', 'Very good ...</td>\n",
       "      <td>/Restaurant_Review-g274924-d1112354-Reviews-Ma...</td>\n",
       "      <td>d1112354</td>\n",
       "    </tr>\n",
       "  </tbody>\n",
       "</table>\n",
       "</div>"
      ],
      "text/plain": [
       "  Restaurant_id        City  \\\n",
       "0          id_0       Paris   \n",
       "1          id_1    Helsinki   \n",
       "2          id_2   Edinburgh   \n",
       "3          id_3      London   \n",
       "4          id_4  Bratislava   \n",
       "\n",
       "                                       Cuisine Style  Ranking Price Range  \\\n",
       "0                                     ['Bar', 'Pub']  12963.0    $$ - $$$   \n",
       "1  ['European', 'Scandinavian', 'Gluten Free Opti...    106.0    $$ - $$$   \n",
       "2                            ['Vegetarian Friendly']    810.0    $$ - $$$   \n",
       "3  ['Italian', 'Mediterranean', 'European', 'Vege...   1669.0        $$$$   \n",
       "4  ['Italian', 'Mediterranean', 'European', 'Seaf...     37.0        $$$$   \n",
       "\n",
       "   Number of Reviews                                            Reviews  \\\n",
       "0                4.0                                           [[], []]   \n",
       "1               97.0  [['Very good reviews!', 'Fine dining in Hakani...   \n",
       "2               28.0  [['Better than the Links', 'Ivy Black'], ['12/...   \n",
       "3              202.0  [['Most exquisite', 'Delicious and authentic']...   \n",
       "4              162.0  [['Always the best in bratislava', 'Very good ...   \n",
       "\n",
       "                                              URL_TA      ID_TA  \n",
       "0  /Restaurant_Review-g187147-d10746918-Reviews-L...  d10746918  \n",
       "1  /Restaurant_Review-g189934-d6674944-Reviews-Ra...   d6674944  \n",
       "2  /Restaurant_Review-g186525-d13129638-Reviews-B...  d13129638  \n",
       "3  /Restaurant_Review-g186338-d680417-Reviews-Qui...    d680417  \n",
       "4  /Restaurant_Review-g274924-d1112354-Reviews-Ma...   d1112354  "
      ]
     },
     "execution_count": 8,
     "metadata": {},
     "output_type": "execute_result"
    }
   ],
   "source": [
    "df_test.head(5)"
   ]
  },
  {
   "cell_type": "code",
   "execution_count": 9,
   "metadata": {
    "execution": {
     "iopub.execute_input": "2021-10-17T09:52:22.291517Z",
     "iopub.status.busy": "2021-10-17T09:52:22.291073Z",
     "iopub.status.idle": "2021-10-17T09:52:22.301646Z",
     "shell.execute_reply": "2021-10-17T09:52:22.300588Z",
     "shell.execute_reply.started": "2021-10-17T09:52:22.291433Z"
    }
   },
   "outputs": [
    {
     "data": {
      "text/html": [
       "<div>\n",
       "<style scoped>\n",
       "    .dataframe tbody tr th:only-of-type {\n",
       "        vertical-align: middle;\n",
       "    }\n",
       "\n",
       "    .dataframe tbody tr th {\n",
       "        vertical-align: top;\n",
       "    }\n",
       "\n",
       "    .dataframe thead th {\n",
       "        text-align: right;\n",
       "    }\n",
       "</style>\n",
       "<table border=\"1\" class=\"dataframe\">\n",
       "  <thead>\n",
       "    <tr style=\"text-align: right;\">\n",
       "      <th></th>\n",
       "      <th>Restaurant_id</th>\n",
       "      <th>Rating</th>\n",
       "    </tr>\n",
       "  </thead>\n",
       "  <tbody>\n",
       "    <tr>\n",
       "      <th>0</th>\n",
       "      <td>id_0</td>\n",
       "      <td>2.0</td>\n",
       "    </tr>\n",
       "    <tr>\n",
       "      <th>1</th>\n",
       "      <td>id_1</td>\n",
       "      <td>2.5</td>\n",
       "    </tr>\n",
       "    <tr>\n",
       "      <th>2</th>\n",
       "      <td>id_2</td>\n",
       "      <td>4.0</td>\n",
       "    </tr>\n",
       "    <tr>\n",
       "      <th>3</th>\n",
       "      <td>id_3</td>\n",
       "      <td>1.0</td>\n",
       "    </tr>\n",
       "    <tr>\n",
       "      <th>4</th>\n",
       "      <td>id_4</td>\n",
       "      <td>4.0</td>\n",
       "    </tr>\n",
       "  </tbody>\n",
       "</table>\n",
       "</div>"
      ],
      "text/plain": [
       "  Restaurant_id  Rating\n",
       "0          id_0     2.0\n",
       "1          id_1     2.5\n",
       "2          id_2     4.0\n",
       "3          id_3     1.0\n",
       "4          id_4     4.0"
      ]
     },
     "execution_count": 9,
     "metadata": {},
     "output_type": "execute_result"
    }
   ],
   "source": [
    "sample_submission.head(5)"
   ]
  },
  {
   "cell_type": "code",
   "execution_count": 10,
   "metadata": {
    "execution": {
     "iopub.execute_input": "2021-10-17T09:52:25.171030Z",
     "iopub.status.busy": "2021-10-17T09:52:25.170707Z",
     "iopub.status.idle": "2021-10-17T09:52:25.179448Z",
     "shell.execute_reply": "2021-10-17T09:52:25.178199Z",
     "shell.execute_reply.started": "2021-10-17T09:52:25.170983Z"
    }
   },
   "outputs": [
    {
     "name": "stdout",
     "output_type": "stream",
     "text": [
      "<class 'pandas.core.frame.DataFrame'>\n",
      "RangeIndex: 10000 entries, 0 to 9999\n",
      "Data columns (total 2 columns):\n",
      "Restaurant_id    10000 non-null object\n",
      "Rating           10000 non-null float64\n",
      "dtypes: float64(1), object(1)\n",
      "memory usage: 156.4+ KB\n"
     ]
    }
   ],
   "source": [
    "sample_submission.info()"
   ]
  },
  {
   "cell_type": "code",
   "execution_count": 11,
   "metadata": {
    "execution": {
     "iopub.execute_input": "2021-10-17T09:52:27.260388Z",
     "iopub.status.busy": "2021-10-17T09:52:27.260026Z",
     "iopub.status.idle": "2021-10-17T09:52:27.314878Z",
     "shell.execute_reply": "2021-10-17T09:52:27.313824Z",
     "shell.execute_reply.started": "2021-10-17T09:52:27.260336Z"
    }
   },
   "outputs": [],
   "source": [
    "# ВАЖНО! дря корректной обработки признаков объединяем трейн и тест в один датасет\n",
    "df_train['sample'] = 1 # помечаем где у нас трейн\n",
    "df_test['sample'] = 0 # помечаем где у нас тест\n",
    "df_test['Rating'] = 0 # в тесте у нас нет значения Rating, мы его должны предсказать, по этому пока просто заполняем нулями\n",
    "\n",
    "data = df_test.append(df_train, sort=False).reset_index(drop=True) # объединяем"
   ]
  },
  {
   "cell_type": "code",
   "execution_count": 12,
   "metadata": {
    "execution": {
     "iopub.execute_input": "2021-10-17T09:52:29.612099Z",
     "iopub.status.busy": "2021-10-17T09:52:29.611783Z",
     "iopub.status.idle": "2021-10-17T09:52:29.639582Z",
     "shell.execute_reply": "2021-10-17T09:52:29.638439Z",
     "shell.execute_reply.started": "2021-10-17T09:52:29.612049Z"
    }
   },
   "outputs": [
    {
     "name": "stdout",
     "output_type": "stream",
     "text": [
      "<class 'pandas.core.frame.DataFrame'>\n",
      "RangeIndex: 50000 entries, 0 to 49999\n",
      "Data columns (total 11 columns):\n",
      "Restaurant_id        50000 non-null object\n",
      "City                 50000 non-null object\n",
      "Cuisine Style        38410 non-null object\n",
      "Ranking              50000 non-null float64\n",
      "Price Range          32639 non-null object\n",
      "Number of Reviews    46800 non-null float64\n",
      "Reviews              49998 non-null object\n",
      "URL_TA               50000 non-null object\n",
      "ID_TA                50000 non-null object\n",
      "sample               50000 non-null int64\n",
      "Rating               50000 non-null float64\n",
      "dtypes: float64(3), int64(1), object(7)\n",
      "memory usage: 4.2+ MB\n"
     ]
    }
   ],
   "source": [
    "data.info()"
   ]
  },
  {
   "cell_type": "markdown",
   "metadata": {},
   "source": [
    "Подробнее по признакам:\n",
    "* City: Город \n",
    "* Cuisine Style: Кухня\n",
    "* Ranking: Ранг ресторана относительно других ресторанов в этом городе\n",
    "* Price Range: Цены в ресторане в 3 категориях\n",
    "* Number of Reviews: Количество отзывов\n",
    "* Reviews: 2 последних отзыва и даты этих отзывов\n",
    "* URL_TA: страница ресторана на 'www.tripadvisor.com' \n",
    "* ID_TA: ID ресторана в TripAdvisor\n",
    "* Rating: Рейтинг ресторана"
   ]
  },
  {
   "cell_type": "code",
   "execution_count": 13,
   "metadata": {
    "execution": {
     "iopub.execute_input": "2021-10-17T09:52:32.303775Z",
     "iopub.status.busy": "2021-10-17T09:52:32.303464Z",
     "iopub.status.idle": "2021-10-17T09:52:32.324817Z",
     "shell.execute_reply": "2021-10-17T09:52:32.323812Z",
     "shell.execute_reply.started": "2021-10-17T09:52:32.303724Z"
    }
   },
   "outputs": [
    {
     "data": {
      "text/html": [
       "<div>\n",
       "<style scoped>\n",
       "    .dataframe tbody tr th:only-of-type {\n",
       "        vertical-align: middle;\n",
       "    }\n",
       "\n",
       "    .dataframe tbody tr th {\n",
       "        vertical-align: top;\n",
       "    }\n",
       "\n",
       "    .dataframe thead th {\n",
       "        text-align: right;\n",
       "    }\n",
       "</style>\n",
       "<table border=\"1\" class=\"dataframe\">\n",
       "  <thead>\n",
       "    <tr style=\"text-align: right;\">\n",
       "      <th></th>\n",
       "      <th>Restaurant_id</th>\n",
       "      <th>City</th>\n",
       "      <th>Cuisine Style</th>\n",
       "      <th>Ranking</th>\n",
       "      <th>Price Range</th>\n",
       "      <th>Number of Reviews</th>\n",
       "      <th>Reviews</th>\n",
       "      <th>URL_TA</th>\n",
       "      <th>ID_TA</th>\n",
       "      <th>sample</th>\n",
       "      <th>Rating</th>\n",
       "    </tr>\n",
       "  </thead>\n",
       "  <tbody>\n",
       "    <tr>\n",
       "      <th>43601</th>\n",
       "      <td>id_3285</td>\n",
       "      <td>Prague</td>\n",
       "      <td>NaN</td>\n",
       "      <td>3292.0</td>\n",
       "      <td>NaN</td>\n",
       "      <td>2.0</td>\n",
       "      <td>[[\"DISAPPOINTING FOOD THAT CAN UPSET THE 'SYS....</td>\n",
       "      <td>/Restaurant_Review-g274707-d12447553-Reviews-O...</td>\n",
       "      <td>d12447553</td>\n",
       "      <td>1</td>\n",
       "      <td>3.5</td>\n",
       "    </tr>\n",
       "    <tr>\n",
       "      <th>29576</th>\n",
       "      <td>id_6574</td>\n",
       "      <td>Paris</td>\n",
       "      <td>NaN</td>\n",
       "      <td>6575.0</td>\n",
       "      <td>NaN</td>\n",
       "      <td>7.0</td>\n",
       "      <td>[['Authentic Indian. Worth it', 'Good food'], ...</td>\n",
       "      <td>/Restaurant_Review-g187147-d5778448-Reviews-Pa...</td>\n",
       "      <td>d5778448</td>\n",
       "      <td>1</td>\n",
       "      <td>4.5</td>\n",
       "    </tr>\n",
       "    <tr>\n",
       "      <th>1758</th>\n",
       "      <td>id_1758</td>\n",
       "      <td>London</td>\n",
       "      <td>['Indian', 'Asian', 'Balti', 'Eastern European...</td>\n",
       "      <td>7471.0</td>\n",
       "      <td>$$ - $$$</td>\n",
       "      <td>30.0</td>\n",
       "      <td>[['Great cooking, proper traditional curry ho....</td>\n",
       "      <td>/Restaurant_Review-g186338-d5244264-Reviews-Ba...</td>\n",
       "      <td>d5244264</td>\n",
       "      <td>0</td>\n",
       "      <td>0.0</td>\n",
       "    </tr>\n",
       "    <tr>\n",
       "      <th>44937</th>\n",
       "      <td>id_7829</td>\n",
       "      <td>London</td>\n",
       "      <td>['Chinese', 'Asian']</td>\n",
       "      <td>7838.0</td>\n",
       "      <td>$</td>\n",
       "      <td>150.0</td>\n",
       "      <td>[['Just a simpel small chinese restaurant', 'G...</td>\n",
       "      <td>/Restaurant_Review-g186338-d680426-Reviews-Can...</td>\n",
       "      <td>d680426</td>\n",
       "      <td>1</td>\n",
       "      <td>3.5</td>\n",
       "    </tr>\n",
       "    <tr>\n",
       "      <th>5473</th>\n",
       "      <td>id_5473</td>\n",
       "      <td>Brussels</td>\n",
       "      <td>NaN</td>\n",
       "      <td>2607.0</td>\n",
       "      <td>NaN</td>\n",
       "      <td>5.0</td>\n",
       "      <td>[[], []]</td>\n",
       "      <td>/Restaurant_Review-g1156375-d11726490-Reviews-...</td>\n",
       "      <td>d11726490</td>\n",
       "      <td>0</td>\n",
       "      <td>0.0</td>\n",
       "    </tr>\n",
       "  </tbody>\n",
       "</table>\n",
       "</div>"
      ],
      "text/plain": [
       "      Restaurant_id      City  \\\n",
       "43601       id_3285    Prague   \n",
       "29576       id_6574     Paris   \n",
       "1758        id_1758    London   \n",
       "44937       id_7829    London   \n",
       "5473        id_5473  Brussels   \n",
       "\n",
       "                                           Cuisine Style  Ranking Price Range  \\\n",
       "43601                                                NaN   3292.0         NaN   \n",
       "29576                                                NaN   6575.0         NaN   \n",
       "1758   ['Indian', 'Asian', 'Balti', 'Eastern European...   7471.0    $$ - $$$   \n",
       "44937                               ['Chinese', 'Asian']   7838.0           $   \n",
       "5473                                                 NaN   2607.0         NaN   \n",
       "\n",
       "       Number of Reviews                                            Reviews  \\\n",
       "43601                2.0  [[\"DISAPPOINTING FOOD THAT CAN UPSET THE 'SYS....   \n",
       "29576                7.0  [['Authentic Indian. Worth it', 'Good food'], ...   \n",
       "1758                30.0  [['Great cooking, proper traditional curry ho....   \n",
       "44937              150.0  [['Just a simpel small chinese restaurant', 'G...   \n",
       "5473                 5.0                                           [[], []]   \n",
       "\n",
       "                                                  URL_TA      ID_TA  sample  \\\n",
       "43601  /Restaurant_Review-g274707-d12447553-Reviews-O...  d12447553       1   \n",
       "29576  /Restaurant_Review-g187147-d5778448-Reviews-Pa...   d5778448       1   \n",
       "1758   /Restaurant_Review-g186338-d5244264-Reviews-Ba...   d5244264       0   \n",
       "44937  /Restaurant_Review-g186338-d680426-Reviews-Can...    d680426       1   \n",
       "5473   /Restaurant_Review-g1156375-d11726490-Reviews-...  d11726490       0   \n",
       "\n",
       "       Rating  \n",
       "43601     3.5  \n",
       "29576     4.5  \n",
       "1758      0.0  \n",
       "44937     3.5  \n",
       "5473      0.0  "
      ]
     },
     "execution_count": 13,
     "metadata": {},
     "output_type": "execute_result"
    }
   ],
   "source": [
    "data.sample(5)"
   ]
  },
  {
   "cell_type": "markdown",
   "metadata": {},
   "source": [
    "Как видим, большинство признаков у нас требует очистки и предварительной обработки."
   ]
  },
  {
   "cell_type": "markdown",
   "metadata": {},
   "source": [
    "# Cleaning and Prepping Data\n",
    "Обычно данные содержат в себе кучу мусора, который необходимо почистить, для того чтобы привести их в приемлемый формат. Чистка данных — это необходимый этап решения почти любой реальной задачи.   \n",
    "![](https://analyticsindiamag.com/wp-content/uploads/2018/01/data-cleaning.png)"
   ]
  },
  {
   "cell_type": "markdown",
   "metadata": {},
   "source": [
    "## 1. Обработка NAN \n",
    "У наличия пропусков могут быть разные причины, но пропуски нужно либо заполнить, либо исключить из набора полностью. Но с пропусками нужно быть внимательным, **даже отсутствие информации может быть важным признаком!**   \n",
    "По этому перед обработкой NAN лучше вынести информацию о наличии пропуска как отдельный признак "
   ]
  },
  {
   "cell_type": "code",
   "execution_count": 14,
   "metadata": {
    "execution": {
     "iopub.execute_input": "2021-10-17T09:52:35.612652Z",
     "iopub.status.busy": "2021-10-17T09:52:35.612373Z",
     "iopub.status.idle": "2021-10-17T09:52:35.618459Z",
     "shell.execute_reply": "2021-10-17T09:52:35.617356Z",
     "shell.execute_reply.started": "2021-10-17T09:52:35.612617Z"
    }
   },
   "outputs": [],
   "source": [
    "# Для примера я возьму столбец Number of Reviews\n",
    "data['Number_of_Reviews_isNAN'] = pd.isna(data['Number of Reviews']).astype('uint8')"
   ]
  },
  {
   "cell_type": "code",
   "execution_count": 15,
   "metadata": {
    "execution": {
     "iopub.execute_input": "2021-10-17T09:52:37.771003Z",
     "iopub.status.busy": "2021-10-17T09:52:37.770665Z",
     "iopub.status.idle": "2021-10-17T09:52:37.780090Z",
     "shell.execute_reply": "2021-10-17T09:52:37.779199Z",
     "shell.execute_reply.started": "2021-10-17T09:52:37.770934Z"
    }
   },
   "outputs": [
    {
     "data": {
      "text/plain": [
       "0        0\n",
       "1        0\n",
       "2        0\n",
       "3        0\n",
       "4        0\n",
       "        ..\n",
       "49995    0\n",
       "49996    0\n",
       "49997    0\n",
       "49998    0\n",
       "49999    0\n",
       "Name: Number_of_Reviews_isNAN, Length: 50000, dtype: uint8"
      ]
     },
     "execution_count": 15,
     "metadata": {},
     "output_type": "execute_result"
    }
   ],
   "source": [
    "data['Number_of_Reviews_isNAN']"
   ]
  },
  {
   "cell_type": "code",
   "execution_count": 16,
   "metadata": {
    "execution": {
     "iopub.execute_input": "2021-10-17T09:52:40.236156Z",
     "iopub.status.busy": "2021-10-17T09:52:40.235844Z",
     "iopub.status.idle": "2021-10-17T09:52:40.242672Z",
     "shell.execute_reply": "2021-10-17T09:52:40.241971Z",
     "shell.execute_reply.started": "2021-10-17T09:52:40.236107Z"
    }
   },
   "outputs": [],
   "source": [
    "# Далее заполняем пропуски 0, вы можете попробовать заполнением средним или средним по городу и тд...\n",
    "data['Number of Reviews'].fillna(0, inplace=True)"
   ]
  },
  {
   "cell_type": "markdown",
   "metadata": {},
   "source": [
    "### 2. Обработка признаков\n",
    "Для начала посмотрим какие признаки у нас могут быть категориальными."
   ]
  },
  {
   "cell_type": "code",
   "execution_count": 17,
   "metadata": {
    "execution": {
     "iopub.execute_input": "2021-10-17T09:52:42.572442Z",
     "iopub.status.busy": "2021-10-17T09:52:42.572159Z",
     "iopub.status.idle": "2021-10-17T09:52:42.676190Z",
     "shell.execute_reply": "2021-10-17T09:52:42.675246Z",
     "shell.execute_reply.started": "2021-10-17T09:52:42.572406Z"
    }
   },
   "outputs": [
    {
     "data": {
      "text/plain": [
       "Restaurant_id              13094\n",
       "City                          31\n",
       "Cuisine Style              10732\n",
       "Ranking                    12975\n",
       "Price Range                    4\n",
       "Number of Reviews           1574\n",
       "Reviews                    41858\n",
       "URL_TA                     49963\n",
       "ID_TA                      49963\n",
       "sample                         2\n",
       "Rating                        10\n",
       "Number_of_Reviews_isNAN        2\n",
       "dtype: int64"
      ]
     },
     "execution_count": 17,
     "metadata": {},
     "output_type": "execute_result"
    }
   ],
   "source": [
    "data.nunique(dropna=False)"
   ]
  },
  {
   "cell_type": "markdown",
   "metadata": {},
   "source": [
    "Какие признаки можно считать категориальными?"
   ]
  },
  {
   "cell_type": "markdown",
   "metadata": {},
   "source": [
    "Для кодирования категориальных признаков есть множество подходов:\n",
    "* Label Encoding\n",
    "* One-Hot Encoding\n",
    "* Target Encoding\n",
    "* Hashing\n",
    "\n",
    "Выбор кодирования зависит от признака и выбраной модели.\n",
    "Не будем сейчас сильно погружаться в эту тематику, давайте посмотрим лучше пример с One-Hot Encoding:\n",
    "![](https://i.imgur.com/mtimFxh.png)"
   ]
  },
  {
   "cell_type": "markdown",
   "metadata": {},
   "source": [
    "#### Возьмем признак \"Price Range\"."
   ]
  },
  {
   "cell_type": "code",
   "execution_count": 18,
   "metadata": {
    "execution": {
     "iopub.execute_input": "2021-10-17T09:52:46.499165Z",
     "iopub.status.busy": "2021-10-17T09:52:46.498852Z",
     "iopub.status.idle": "2021-10-17T09:52:46.512449Z",
     "shell.execute_reply": "2021-10-17T09:52:46.511516Z",
     "shell.execute_reply.started": "2021-10-17T09:52:46.499120Z"
    }
   },
   "outputs": [
    {
     "data": {
      "text/plain": [
       "$$ - $$$    23041\n",
       "$            7816\n",
       "$$$$         1782\n",
       "Name: Price Range, dtype: int64"
      ]
     },
     "execution_count": 18,
     "metadata": {},
     "output_type": "execute_result"
    }
   ],
   "source": [
    "data['Price Range'].value_counts()"
   ]
  },
  {
   "cell_type": "markdown",
   "metadata": {},
   "source": [
    "По описанию 'Price Range' это - Цены в ресторане.  \n",
    "Их можно поставить по возрастанию (значит это не категориальный признак). А это значит, что их можно заменить последовательными числами, например 1,2,3  \n",
    "*Попробуйте сделать обработку этого признака уже самостоятельно!*"
   ]
  },
  {
   "cell_type": "code",
   "execution_count": 19,
   "metadata": {
    "execution": {
     "iopub.execute_input": "2021-10-17T09:52:48.772575Z",
     "iopub.status.busy": "2021-10-17T09:52:48.772244Z",
     "iopub.status.idle": "2021-10-17T09:52:48.803197Z",
     "shell.execute_reply": "2021-10-17T09:52:48.801901Z",
     "shell.execute_reply.started": "2021-10-17T09:52:48.772528Z"
    }
   },
   "outputs": [
    {
     "data": {
      "text/plain": [
       "0        2\n",
       "1        2\n",
       "2        2\n",
       "3        3\n",
       "4        3\n",
       "        ..\n",
       "49995    2\n",
       "49996    2\n",
       "49997    2\n",
       "49998    2\n",
       "49999    2\n",
       "Name: Price Range, Length: 50000, dtype: int64"
      ]
     },
     "execution_count": 19,
     "metadata": {},
     "output_type": "execute_result"
    }
   ],
   "source": [
    "# Ваша обработка 'Price Range'\n",
    "data['Price Range'].fillna((data['Price Range'].mode()[0]), inplace=True)\n",
    "data['Price Range'].fillna(data['Price Range'].mode()[0], inplace=True)\n",
    "price_dict = {'$': 1, '$$ - $$$': 2, '$$$$': 3}\n",
    "data['Price Range'] = data['Price Range'].map(price_dict)\n",
    "data['Price Range']"
   ]
  },
  {
   "cell_type": "markdown",
   "metadata": {},
   "source": [
    "> Для некоторых алгоритмов МЛ даже для не категориальных признаков можно применить One-Hot Encoding, и это может улучшить качество модели. Пробуйте разные подходы к кодированию признака - никто не знает заранее, что может взлететь."
   ]
  },
  {
   "cell_type": "markdown",
   "metadata": {},
   "source": [
    "### ID_TA\n"
   ]
  },
  {
   "cell_type": "code",
   "execution_count": 20,
   "metadata": {
    "execution": {
     "iopub.execute_input": "2021-10-17T09:52:51.300539Z",
     "iopub.status.busy": "2021-10-17T09:52:51.300220Z",
     "iopub.status.idle": "2021-10-17T09:52:51.341511Z",
     "shell.execute_reply": "2021-10-17T09:52:51.340413Z",
     "shell.execute_reply.started": "2021-10-17T09:52:51.300492Z"
    }
   },
   "outputs": [],
   "source": [
    "# Просто преобразуем в int и посмотрим что, выдаст\n",
    "data['ID_TA'] = data['ID_TA'].apply(lambda x: int(x[1:]))"
   ]
  },
  {
   "cell_type": "code",
   "execution_count": 21,
   "metadata": {
    "execution": {
     "iopub.execute_input": "2021-10-17T09:52:53.066309Z",
     "iopub.status.busy": "2021-10-17T09:52:53.065998Z",
     "iopub.status.idle": "2021-10-17T09:52:53.085573Z",
     "shell.execute_reply": "2021-10-17T09:52:53.084952Z",
     "shell.execute_reply.started": "2021-10-17T09:52:53.066256Z"
    }
   },
   "outputs": [
    {
     "data": {
      "text/html": [
       "<div>\n",
       "<style scoped>\n",
       "    .dataframe tbody tr th:only-of-type {\n",
       "        vertical-align: middle;\n",
       "    }\n",
       "\n",
       "    .dataframe tbody tr th {\n",
       "        vertical-align: top;\n",
       "    }\n",
       "\n",
       "    .dataframe thead th {\n",
       "        text-align: right;\n",
       "    }\n",
       "</style>\n",
       "<table border=\"1\" class=\"dataframe\">\n",
       "  <thead>\n",
       "    <tr style=\"text-align: right;\">\n",
       "      <th></th>\n",
       "      <th>Restaurant_id</th>\n",
       "      <th>City</th>\n",
       "      <th>Cuisine Style</th>\n",
       "      <th>Ranking</th>\n",
       "      <th>Price Range</th>\n",
       "      <th>Number of Reviews</th>\n",
       "      <th>Reviews</th>\n",
       "      <th>URL_TA</th>\n",
       "      <th>ID_TA</th>\n",
       "      <th>sample</th>\n",
       "      <th>Rating</th>\n",
       "      <th>Number_of_Reviews_isNAN</th>\n",
       "    </tr>\n",
       "  </thead>\n",
       "  <tbody>\n",
       "    <tr>\n",
       "      <th>16673</th>\n",
       "      <td>id_12492</td>\n",
       "      <td>London</td>\n",
       "      <td>NaN</td>\n",
       "      <td>12502.0</td>\n",
       "      <td>2</td>\n",
       "      <td>2.0</td>\n",
       "      <td>[[], []]</td>\n",
       "      <td>/Restaurant_Review-g186338-d12620594-Reviews-L...</td>\n",
       "      <td>12620594</td>\n",
       "      <td>1</td>\n",
       "      <td>4.0</td>\n",
       "      <td>0</td>\n",
       "    </tr>\n",
       "    <tr>\n",
       "      <th>30327</th>\n",
       "      <td>id_10403</td>\n",
       "      <td>Paris</td>\n",
       "      <td>['Greek']</td>\n",
       "      <td>10405.0</td>\n",
       "      <td>2</td>\n",
       "      <td>19.0</td>\n",
       "      <td>[['Good quality, good service take away', 'Exc...</td>\n",
       "      <td>/Restaurant_Review-g187147-d6995931-Reviews-Ev...</td>\n",
       "      <td>6995931</td>\n",
       "      <td>1</td>\n",
       "      <td>4.0</td>\n",
       "      <td>0</td>\n",
       "    </tr>\n",
       "    <tr>\n",
       "      <th>20757</th>\n",
       "      <td>id_1276</td>\n",
       "      <td>Zurich</td>\n",
       "      <td>NaN</td>\n",
       "      <td>1281.0</td>\n",
       "      <td>2</td>\n",
       "      <td>0.0</td>\n",
       "      <td>[[], []]</td>\n",
       "      <td>/Restaurant_Review-g188113-d11726692-Reviews-L...</td>\n",
       "      <td>11726692</td>\n",
       "      <td>1</td>\n",
       "      <td>4.0</td>\n",
       "      <td>1</td>\n",
       "    </tr>\n",
       "    <tr>\n",
       "      <th>23216</th>\n",
       "      <td>id_1588</td>\n",
       "      <td>Lisbon</td>\n",
       "      <td>['Barbecue']</td>\n",
       "      <td>1589.0</td>\n",
       "      <td>2</td>\n",
       "      <td>78.0</td>\n",
       "      <td>[['Great value and variety', 'Boys day out'], ...</td>\n",
       "      <td>/Restaurant_Review-g189158-d5964538-Reviews-Ch...</td>\n",
       "      <td>5964538</td>\n",
       "      <td>1</td>\n",
       "      <td>3.5</td>\n",
       "      <td>0</td>\n",
       "    </tr>\n",
       "    <tr>\n",
       "      <th>25716</th>\n",
       "      <td>id_6699</td>\n",
       "      <td>Paris</td>\n",
       "      <td>['French', 'European', 'Bar', 'Pub']</td>\n",
       "      <td>6700.0</td>\n",
       "      <td>2</td>\n",
       "      <td>35.0</td>\n",
       "      <td>[['Busy &amp; Atmospheric', 'Excellent service and...</td>\n",
       "      <td>/Restaurant_Review-g187147-d2434895-Reviews-Le...</td>\n",
       "      <td>2434895</td>\n",
       "      <td>1</td>\n",
       "      <td>4.0</td>\n",
       "      <td>0</td>\n",
       "    </tr>\n",
       "  </tbody>\n",
       "</table>\n",
       "</div>"
      ],
      "text/plain": [
       "      Restaurant_id    City                         Cuisine Style  Ranking  \\\n",
       "16673      id_12492  London                                   NaN  12502.0   \n",
       "30327      id_10403   Paris                             ['Greek']  10405.0   \n",
       "20757       id_1276  Zurich                                   NaN   1281.0   \n",
       "23216       id_1588  Lisbon                          ['Barbecue']   1589.0   \n",
       "25716       id_6699   Paris  ['French', 'European', 'Bar', 'Pub']   6700.0   \n",
       "\n",
       "       Price Range  Number of Reviews  \\\n",
       "16673            2                2.0   \n",
       "30327            2               19.0   \n",
       "20757            2                0.0   \n",
       "23216            2               78.0   \n",
       "25716            2               35.0   \n",
       "\n",
       "                                                 Reviews  \\\n",
       "16673                                           [[], []]   \n",
       "30327  [['Good quality, good service take away', 'Exc...   \n",
       "20757                                           [[], []]   \n",
       "23216  [['Great value and variety', 'Boys day out'], ...   \n",
       "25716  [['Busy & Atmospheric', 'Excellent service and...   \n",
       "\n",
       "                                                  URL_TA     ID_TA  sample  \\\n",
       "16673  /Restaurant_Review-g186338-d12620594-Reviews-L...  12620594       1   \n",
       "30327  /Restaurant_Review-g187147-d6995931-Reviews-Ev...   6995931       1   \n",
       "20757  /Restaurant_Review-g188113-d11726692-Reviews-L...  11726692       1   \n",
       "23216  /Restaurant_Review-g189158-d5964538-Reviews-Ch...   5964538       1   \n",
       "25716  /Restaurant_Review-g187147-d2434895-Reviews-Le...   2434895       1   \n",
       "\n",
       "       Rating  Number_of_Reviews_isNAN  \n",
       "16673     4.0                        0  \n",
       "30327     4.0                        0  \n",
       "20757     4.0                        1  \n",
       "23216     3.5                        0  \n",
       "25716     4.0                        0  "
      ]
     },
     "execution_count": 21,
     "metadata": {},
     "output_type": "execute_result"
    }
   ],
   "source": [
    "data.sample(5)"
   ]
  },
  {
   "cell_type": "markdown",
   "metadata": {},
   "source": [
    "Reviews "
   ]
  },
  {
   "cell_type": "code",
   "execution_count": 22,
   "metadata": {
    "execution": {
     "iopub.execute_input": "2021-10-17T09:52:56.339433Z",
     "iopub.status.busy": "2021-10-17T09:52:56.338866Z",
     "iopub.status.idle": "2021-10-17T09:52:56.345798Z",
     "shell.execute_reply": "2021-10-17T09:52:56.344934Z",
     "shell.execute_reply.started": "2021-10-17T09:52:56.339386Z"
    }
   },
   "outputs": [
    {
     "data": {
      "text/plain": [
       "\"[['Very good reviews!', 'Fine dining in Hakaniemi'], ['12/05/2017', '10/29/2017']]\""
      ]
     },
     "execution_count": 22,
     "metadata": {},
     "output_type": "execute_result"
    }
   ],
   "source": [
    "# Вытащим из колонки 'Reviews' дату публикаций и создадим новый признак количество дней между отзывами\n",
    "data['Reviews'][1]"
   ]
  },
  {
   "cell_type": "code",
   "execution_count": 23,
   "metadata": {
    "execution": {
     "iopub.execute_input": "2021-10-17T09:52:58.139414Z",
     "iopub.status.busy": "2021-10-17T09:52:58.139053Z",
     "iopub.status.idle": "2021-10-17T09:52:58.912414Z",
     "shell.execute_reply": "2021-10-17T09:52:58.911396Z",
     "shell.execute_reply.started": "2021-10-17T09:52:58.139363Z"
    }
   },
   "outputs": [],
   "source": [
    "# обработаем колонку Reviews преобразовав данные в список\n",
    "data['Reviews'] = data.Reviews.dropna().apply(lambda x: eval(x.replace('nan', '').replace('[,', \"['',\"))) \n",
    "data['date'] = data['Reviews'].dropna().apply(lambda x: x[1]) # берем из списка даты\n",
    "data['date_1'] = data['date'].dropna().apply(lambda x: x[1] if len(x) == 2 else np.nan) # если в списке 2 даты берем вторую\n",
    "data['date_2'] = data['date'].dropna().apply(lambda x: x[0] if len(x) > 0 else np.nan) # берем первую"
   ]
  },
  {
   "cell_type": "code",
   "execution_count": 24,
   "metadata": {
    "execution": {
     "iopub.execute_input": "2021-10-17T09:53:02.080017Z",
     "iopub.status.busy": "2021-10-17T09:53:02.079692Z",
     "iopub.status.idle": "2021-10-17T09:53:02.126537Z",
     "shell.execute_reply": "2021-10-17T09:53:02.125490Z",
     "shell.execute_reply.started": "2021-10-17T09:53:02.079954Z"
    }
   },
   "outputs": [],
   "source": [
    "data.drop('date', axis = 1, inplace=True) # удалим столбец date "
   ]
  },
  {
   "cell_type": "code",
   "execution_count": 25,
   "metadata": {
    "execution": {
     "iopub.execute_input": "2021-10-17T09:53:03.981353Z",
     "iopub.status.busy": "2021-10-17T09:53:03.981034Z",
     "iopub.status.idle": "2021-10-17T09:53:04.041395Z",
     "shell.execute_reply": "2021-10-17T09:53:04.040406Z",
     "shell.execute_reply.started": "2021-10-17T09:53:03.981298Z"
    }
   },
   "outputs": [],
   "source": [
    "# переведем в datetime\n",
    "data['date_1'] = pd.to_datetime(data['date_1'])\n",
    "data['date_2'] = pd.to_datetime(data['date_2'])"
   ]
  },
  {
   "cell_type": "code",
   "execution_count": 26,
   "metadata": {
    "execution": {
     "iopub.execute_input": "2021-10-17T09:53:05.998065Z",
     "iopub.status.busy": "2021-10-17T09:53:05.997749Z",
     "iopub.status.idle": "2021-10-17T09:53:06.009344Z",
     "shell.execute_reply": "2021-10-17T09:53:06.008141Z",
     "shell.execute_reply.started": "2021-10-17T09:53:05.998018Z"
    }
   },
   "outputs": [],
   "source": [
    "#заполним пропуски средними значениями\n",
    "data['date_1'].fillna(data['date_1'].mean(), inplace=True)\n",
    "data['date_2'].fillna(data['date_2'].mean(), inplace=True)"
   ]
  },
  {
   "cell_type": "code",
   "execution_count": 27,
   "metadata": {
    "execution": {
     "iopub.execute_input": "2021-10-17T09:53:08.021190Z",
     "iopub.status.busy": "2021-10-17T09:53:08.020862Z",
     "iopub.status.idle": "2021-10-17T09:53:08.030020Z",
     "shell.execute_reply": "2021-10-17T09:53:08.029045Z",
     "shell.execute_reply.started": "2021-10-17T09:53:08.021142Z"
    }
   },
   "outputs": [],
   "source": [
    "# создадим новый признак количество дней между отзывами\n",
    "data['days'] = abs(data['date_2'] - data['date_1']).dt.days"
   ]
  },
  {
   "cell_type": "code",
   "execution_count": 28,
   "metadata": {
    "execution": {
     "iopub.execute_input": "2021-10-17T09:53:10.692133Z",
     "iopub.status.busy": "2021-10-17T09:53:10.691645Z",
     "iopub.status.idle": "2021-10-17T09:53:10.719487Z",
     "shell.execute_reply": "2021-10-17T09:53:10.718597Z",
     "shell.execute_reply.started": "2021-10-17T09:53:10.692080Z"
    }
   },
   "outputs": [
    {
     "data": {
      "text/html": [
       "<div>\n",
       "<style scoped>\n",
       "    .dataframe tbody tr th:only-of-type {\n",
       "        vertical-align: middle;\n",
       "    }\n",
       "\n",
       "    .dataframe tbody tr th {\n",
       "        vertical-align: top;\n",
       "    }\n",
       "\n",
       "    .dataframe thead th {\n",
       "        text-align: right;\n",
       "    }\n",
       "</style>\n",
       "<table border=\"1\" class=\"dataframe\">\n",
       "  <thead>\n",
       "    <tr style=\"text-align: right;\">\n",
       "      <th></th>\n",
       "      <th>Restaurant_id</th>\n",
       "      <th>City</th>\n",
       "      <th>Cuisine Style</th>\n",
       "      <th>Ranking</th>\n",
       "      <th>Price Range</th>\n",
       "      <th>Number of Reviews</th>\n",
       "      <th>Reviews</th>\n",
       "      <th>URL_TA</th>\n",
       "      <th>ID_TA</th>\n",
       "      <th>sample</th>\n",
       "      <th>Rating</th>\n",
       "      <th>Number_of_Reviews_isNAN</th>\n",
       "      <th>date_1</th>\n",
       "      <th>date_2</th>\n",
       "      <th>days</th>\n",
       "    </tr>\n",
       "  </thead>\n",
       "  <tbody>\n",
       "    <tr>\n",
       "      <th>6484</th>\n",
       "      <td>id_6484</td>\n",
       "      <td>Vienna</td>\n",
       "      <td>NaN</td>\n",
       "      <td>1331.0</td>\n",
       "      <td>2</td>\n",
       "      <td>5.0</td>\n",
       "      <td>[[], []]</td>\n",
       "      <td>/Restaurant_Review-g190454-d10298673-Reviews-L...</td>\n",
       "      <td>10298673</td>\n",
       "      <td>0</td>\n",
       "      <td>0.0</td>\n",
       "      <td>0</td>\n",
       "      <td>2017-02-23 19:43:37.621401344</td>\n",
       "      <td>2017-05-04 06:05:22.819055616</td>\n",
       "      <td>69</td>\n",
       "    </tr>\n",
       "    <tr>\n",
       "      <th>42679</th>\n",
       "      <td>id_2085</td>\n",
       "      <td>Barcelona</td>\n",
       "      <td>['Mediterranean', 'European', 'Spanish', 'Vege...</td>\n",
       "      <td>2086.0</td>\n",
       "      <td>2</td>\n",
       "      <td>1025.0</td>\n",
       "      <td>[[Salad surprise, Long wait for service], [01/...</td>\n",
       "      <td>/Restaurant_Review-g187497-d1106705-Reviews-Ta...</td>\n",
       "      <td>1106705</td>\n",
       "      <td>1</td>\n",
       "      <td>3.5</td>\n",
       "      <td>0</td>\n",
       "      <td>2017-12-31 00:00:00.000000000</td>\n",
       "      <td>2018-01-03 00:00:00.000000000</td>\n",
       "      <td>3</td>\n",
       "    </tr>\n",
       "    <tr>\n",
       "      <th>47346</th>\n",
       "      <td>id_3585</td>\n",
       "      <td>Milan</td>\n",
       "      <td>['Pizza']</td>\n",
       "      <td>3587.0</td>\n",
       "      <td>1</td>\n",
       "      <td>31.0</td>\n",
       "      <td>[[Great value for money...., Worth finding], [...</td>\n",
       "      <td>/Restaurant_Review-g187849-d5821982-Reviews-Pi...</td>\n",
       "      <td>5821982</td>\n",
       "      <td>1</td>\n",
       "      <td>4.0</td>\n",
       "      <td>0</td>\n",
       "      <td>2014-12-09 00:00:00.000000000</td>\n",
       "      <td>2017-08-30 00:00:00.000000000</td>\n",
       "      <td>995</td>\n",
       "    </tr>\n",
       "    <tr>\n",
       "      <th>15744</th>\n",
       "      <td>id_4100</td>\n",
       "      <td>Berlin</td>\n",
       "      <td>['Turkish']</td>\n",
       "      <td>4102.0</td>\n",
       "      <td>2</td>\n",
       "      <td>4.0</td>\n",
       "      <td>[[Great lentil soup, Turkish pizza and more, B...</td>\n",
       "      <td>/Restaurant_Review-g187323-d2465481-Reviews-Gr...</td>\n",
       "      <td>2465481</td>\n",
       "      <td>1</td>\n",
       "      <td>5.0</td>\n",
       "      <td>0</td>\n",
       "      <td>2012-01-06 00:00:00.000000000</td>\n",
       "      <td>2015-10-03 00:00:00.000000000</td>\n",
       "      <td>1366</td>\n",
       "    </tr>\n",
       "    <tr>\n",
       "      <th>12738</th>\n",
       "      <td>id_2252</td>\n",
       "      <td>Rome</td>\n",
       "      <td>['Italian', 'Mediterranean', 'Vegetarian Frien...</td>\n",
       "      <td>2253.0</td>\n",
       "      <td>1</td>\n",
       "      <td>129.0</td>\n",
       "      <td>[[Good, Simple and Authentic - Delicious!], [0...</td>\n",
       "      <td>/Restaurant_Review-g187791-d2399619-Reviews-Tr...</td>\n",
       "      <td>2399619</td>\n",
       "      <td>1</td>\n",
       "      <td>4.0</td>\n",
       "      <td>0</td>\n",
       "      <td>2017-05-13 00:00:00.000000000</td>\n",
       "      <td>2017-07-08 00:00:00.000000000</td>\n",
       "      <td>56</td>\n",
       "    </tr>\n",
       "  </tbody>\n",
       "</table>\n",
       "</div>"
      ],
      "text/plain": [
       "      Restaurant_id       City  \\\n",
       "6484        id_6484     Vienna   \n",
       "42679       id_2085  Barcelona   \n",
       "47346       id_3585      Milan   \n",
       "15744       id_4100     Berlin   \n",
       "12738       id_2252       Rome   \n",
       "\n",
       "                                           Cuisine Style  Ranking  \\\n",
       "6484                                                 NaN   1331.0   \n",
       "42679  ['Mediterranean', 'European', 'Spanish', 'Vege...   2086.0   \n",
       "47346                                          ['Pizza']   3587.0   \n",
       "15744                                        ['Turkish']   4102.0   \n",
       "12738  ['Italian', 'Mediterranean', 'Vegetarian Frien...   2253.0   \n",
       "\n",
       "       Price Range  Number of Reviews  \\\n",
       "6484             2                5.0   \n",
       "42679            2             1025.0   \n",
       "47346            1               31.0   \n",
       "15744            2                4.0   \n",
       "12738            1              129.0   \n",
       "\n",
       "                                                 Reviews  \\\n",
       "6484                                            [[], []]   \n",
       "42679  [[Salad surprise, Long wait for service], [01/...   \n",
       "47346  [[Great value for money...., Worth finding], [...   \n",
       "15744  [[Great lentil soup, Turkish pizza and more, B...   \n",
       "12738  [[Good, Simple and Authentic - Delicious!], [0...   \n",
       "\n",
       "                                                  URL_TA     ID_TA  sample  \\\n",
       "6484   /Restaurant_Review-g190454-d10298673-Reviews-L...  10298673       0   \n",
       "42679  /Restaurant_Review-g187497-d1106705-Reviews-Ta...   1106705       1   \n",
       "47346  /Restaurant_Review-g187849-d5821982-Reviews-Pi...   5821982       1   \n",
       "15744  /Restaurant_Review-g187323-d2465481-Reviews-Gr...   2465481       1   \n",
       "12738  /Restaurant_Review-g187791-d2399619-Reviews-Tr...   2399619       1   \n",
       "\n",
       "       Rating  Number_of_Reviews_isNAN                        date_1  \\\n",
       "6484      0.0                        0 2017-02-23 19:43:37.621401344   \n",
       "42679     3.5                        0 2017-12-31 00:00:00.000000000   \n",
       "47346     4.0                        0 2014-12-09 00:00:00.000000000   \n",
       "15744     5.0                        0 2012-01-06 00:00:00.000000000   \n",
       "12738     4.0                        0 2017-05-13 00:00:00.000000000   \n",
       "\n",
       "                             date_2  days  \n",
       "6484  2017-05-04 06:05:22.819055616    69  \n",
       "42679 2018-01-03 00:00:00.000000000     3  \n",
       "47346 2017-08-30 00:00:00.000000000   995  \n",
       "15744 2015-10-03 00:00:00.000000000  1366  \n",
       "12738 2017-07-08 00:00:00.000000000    56  "
      ]
     },
     "execution_count": 28,
     "metadata": {},
     "output_type": "execute_result"
    }
   ],
   "source": [
    "data.sample(5)"
   ]
  },
  {
   "cell_type": "code",
   "execution_count": 29,
   "metadata": {
    "execution": {
     "iopub.execute_input": "2021-10-17T09:53:13.223086Z",
     "iopub.status.busy": "2021-10-17T09:53:13.222581Z",
     "iopub.status.idle": "2021-10-17T09:53:15.421478Z",
     "shell.execute_reply": "2021-10-17T09:53:15.420415Z",
     "shell.execute_reply.started": "2021-10-17T09:53:13.223021Z"
    }
   },
   "outputs": [],
   "source": [
    "# Посчитаем сколько дней прошло с последнего отзыва до наст. времени\n",
    "def days(day_1, day_2):\n",
    "    dt_now = pd.datetime.today()\n",
    "    if not day_1 or not day_2:\n",
    "      return 0\n",
    "    if day_1 > day_2:\n",
    "      return (dt_now - pd.to_datetime(day_1)).days\n",
    "    return (dt_now - pd.to_datetime(day_2)).days\n",
    "# Создадим новый признак  - кол-во дней с последнего отзыва\n",
    "data['days_until_today'] = data[['date_1', 'date_2']].apply(lambda x: days(*x), axis=1)"
   ]
  },
  {
   "cell_type": "code",
   "execution_count": 30,
   "metadata": {
    "execution": {
     "iopub.execute_input": "2021-10-17T09:53:15.851465Z",
     "iopub.status.busy": "2021-10-17T09:53:15.851149Z",
     "iopub.status.idle": "2021-10-17T09:53:15.879789Z",
     "shell.execute_reply": "2021-10-17T09:53:15.878836Z",
     "shell.execute_reply.started": "2021-10-17T09:53:15.851419Z"
    }
   },
   "outputs": [
    {
     "data": {
      "text/html": [
       "<div>\n",
       "<style scoped>\n",
       "    .dataframe tbody tr th:only-of-type {\n",
       "        vertical-align: middle;\n",
       "    }\n",
       "\n",
       "    .dataframe tbody tr th {\n",
       "        vertical-align: top;\n",
       "    }\n",
       "\n",
       "    .dataframe thead th {\n",
       "        text-align: right;\n",
       "    }\n",
       "</style>\n",
       "<table border=\"1\" class=\"dataframe\">\n",
       "  <thead>\n",
       "    <tr style=\"text-align: right;\">\n",
       "      <th></th>\n",
       "      <th>Restaurant_id</th>\n",
       "      <th>City</th>\n",
       "      <th>Cuisine Style</th>\n",
       "      <th>Ranking</th>\n",
       "      <th>Price Range</th>\n",
       "      <th>Number of Reviews</th>\n",
       "      <th>Reviews</th>\n",
       "      <th>URL_TA</th>\n",
       "      <th>ID_TA</th>\n",
       "      <th>sample</th>\n",
       "      <th>Rating</th>\n",
       "      <th>Number_of_Reviews_isNAN</th>\n",
       "      <th>date_1</th>\n",
       "      <th>date_2</th>\n",
       "      <th>days</th>\n",
       "      <th>days_until_today</th>\n",
       "    </tr>\n",
       "  </thead>\n",
       "  <tbody>\n",
       "    <tr>\n",
       "      <th>38016</th>\n",
       "      <td>id_1171</td>\n",
       "      <td>Paris</td>\n",
       "      <td>['Brew Pub', 'Moroccan', 'Bar', 'Cafe', 'Medit...</td>\n",
       "      <td>1172.0</td>\n",
       "      <td>1</td>\n",
       "      <td>59.0</td>\n",
       "      <td>[[Amazing Food and Service, Beautiful Algerian...</td>\n",
       "      <td>/Restaurant_Review-g187147-d10139252-Reviews-C...</td>\n",
       "      <td>10139252</td>\n",
       "      <td>1</td>\n",
       "      <td>5.0</td>\n",
       "      <td>0</td>\n",
       "      <td>2017-10-01 00:00:00.000000000</td>\n",
       "      <td>2017-10-01 00:00:00.000000000</td>\n",
       "      <td>0</td>\n",
       "      <td>1477</td>\n",
       "    </tr>\n",
       "    <tr>\n",
       "      <th>24280</th>\n",
       "      <td>id_8000</td>\n",
       "      <td>London</td>\n",
       "      <td>['African']</td>\n",
       "      <td>8009.0</td>\n",
       "      <td>2</td>\n",
       "      <td>10.0</td>\n",
       "      <td>[[], []]</td>\n",
       "      <td>/Restaurant_Review-g186338-d4610575-Reviews-Jo...</td>\n",
       "      <td>4610575</td>\n",
       "      <td>1</td>\n",
       "      <td>4.5</td>\n",
       "      <td>0</td>\n",
       "      <td>2017-02-23 19:43:37.621401344</td>\n",
       "      <td>2017-05-04 06:05:22.819055616</td>\n",
       "      <td>69</td>\n",
       "      <td>1627</td>\n",
       "    </tr>\n",
       "    <tr>\n",
       "      <th>6213</th>\n",
       "      <td>id_6213</td>\n",
       "      <td>Oporto</td>\n",
       "      <td>['Vegetarian Friendly']</td>\n",
       "      <td>715.0</td>\n",
       "      <td>1</td>\n",
       "      <td>18.0</td>\n",
       "      <td>[[Really nice to travellers!, A very special p...</td>\n",
       "      <td>/Restaurant_Review-g189180-d8425294-Reviews-Es...</td>\n",
       "      <td>8425294</td>\n",
       "      <td>0</td>\n",
       "      <td>0.0</td>\n",
       "      <td>0</td>\n",
       "      <td>2017-07-18 00:00:00.000000000</td>\n",
       "      <td>2017-10-03 00:00:00.000000000</td>\n",
       "      <td>77</td>\n",
       "      <td>1475</td>\n",
       "    </tr>\n",
       "    <tr>\n",
       "      <th>41182</th>\n",
       "      <td>id_1432</td>\n",
       "      <td>Edinburgh</td>\n",
       "      <td>NaN</td>\n",
       "      <td>1434.0</td>\n",
       "      <td>2</td>\n",
       "      <td>3.0</td>\n",
       "      <td>[[Good quality food, Poor quality food. Shoddy...</td>\n",
       "      <td>/Restaurant_Review-g186525-d5423620-Reviews-Go...</td>\n",
       "      <td>5423620</td>\n",
       "      <td>1</td>\n",
       "      <td>4.0</td>\n",
       "      <td>0</td>\n",
       "      <td>2016-07-31 00:00:00.000000000</td>\n",
       "      <td>2017-03-08 00:00:00.000000000</td>\n",
       "      <td>220</td>\n",
       "      <td>1684</td>\n",
       "    </tr>\n",
       "    <tr>\n",
       "      <th>18182</th>\n",
       "      <td>id_1950</td>\n",
       "      <td>Stockholm</td>\n",
       "      <td>['Chinese']</td>\n",
       "      <td>1953.0</td>\n",
       "      <td>2</td>\n",
       "      <td>11.0</td>\n",
       "      <td>[[Proper Chinese home cooking, Overall great],...</td>\n",
       "      <td>/Restaurant_Review-g189852-d7722191-Reviews-Re...</td>\n",
       "      <td>7722191</td>\n",
       "      <td>1</td>\n",
       "      <td>3.0</td>\n",
       "      <td>0</td>\n",
       "      <td>2016-04-09 00:00:00.000000000</td>\n",
       "      <td>2017-08-18 00:00:00.000000000</td>\n",
       "      <td>496</td>\n",
       "      <td>1521</td>\n",
       "    </tr>\n",
       "  </tbody>\n",
       "</table>\n",
       "</div>"
      ],
      "text/plain": [
       "      Restaurant_id       City  \\\n",
       "38016       id_1171      Paris   \n",
       "24280       id_8000     London   \n",
       "6213        id_6213     Oporto   \n",
       "41182       id_1432  Edinburgh   \n",
       "18182       id_1950  Stockholm   \n",
       "\n",
       "                                           Cuisine Style  Ranking  \\\n",
       "38016  ['Brew Pub', 'Moroccan', 'Bar', 'Cafe', 'Medit...   1172.0   \n",
       "24280                                        ['African']   8009.0   \n",
       "6213                             ['Vegetarian Friendly']    715.0   \n",
       "41182                                                NaN   1434.0   \n",
       "18182                                        ['Chinese']   1953.0   \n",
       "\n",
       "       Price Range  Number of Reviews  \\\n",
       "38016            1               59.0   \n",
       "24280            2               10.0   \n",
       "6213             1               18.0   \n",
       "41182            2                3.0   \n",
       "18182            2               11.0   \n",
       "\n",
       "                                                 Reviews  \\\n",
       "38016  [[Amazing Food and Service, Beautiful Algerian...   \n",
       "24280                                           [[], []]   \n",
       "6213   [[Really nice to travellers!, A very special p...   \n",
       "41182  [[Good quality food, Poor quality food. Shoddy...   \n",
       "18182  [[Proper Chinese home cooking, Overall great],...   \n",
       "\n",
       "                                                  URL_TA     ID_TA  sample  \\\n",
       "38016  /Restaurant_Review-g187147-d10139252-Reviews-C...  10139252       1   \n",
       "24280  /Restaurant_Review-g186338-d4610575-Reviews-Jo...   4610575       1   \n",
       "6213   /Restaurant_Review-g189180-d8425294-Reviews-Es...   8425294       0   \n",
       "41182  /Restaurant_Review-g186525-d5423620-Reviews-Go...   5423620       1   \n",
       "18182  /Restaurant_Review-g189852-d7722191-Reviews-Re...   7722191       1   \n",
       "\n",
       "       Rating  Number_of_Reviews_isNAN                        date_1  \\\n",
       "38016     5.0                        0 2017-10-01 00:00:00.000000000   \n",
       "24280     4.5                        0 2017-02-23 19:43:37.621401344   \n",
       "6213      0.0                        0 2017-07-18 00:00:00.000000000   \n",
       "41182     4.0                        0 2016-07-31 00:00:00.000000000   \n",
       "18182     3.0                        0 2016-04-09 00:00:00.000000000   \n",
       "\n",
       "                             date_2  days  days_until_today  \n",
       "38016 2017-10-01 00:00:00.000000000     0              1477  \n",
       "24280 2017-05-04 06:05:22.819055616    69              1627  \n",
       "6213  2017-10-03 00:00:00.000000000    77              1475  \n",
       "41182 2017-03-08 00:00:00.000000000   220              1684  \n",
       "18182 2017-08-18 00:00:00.000000000   496              1521  "
      ]
     },
     "execution_count": 30,
     "metadata": {},
     "output_type": "execute_result"
    }
   ],
   "source": [
    "data.sample(5)"
   ]
  },
  {
   "cell_type": "markdown",
   "metadata": {},
   "source": [
    "![](https://cs10.pikabu.ru/post_img/2018/09/06/11/1536261023140110012.jpg)"
   ]
  },
  {
   "cell_type": "markdown",
   "metadata": {},
   "source": [
    "# EDA \n",
    "[Exploratory Data Analysis](https://ru.wikipedia.org/wiki/Разведочный_анализ_данных) - Анализ данных\n",
    "На этом этапе мы строим графики, ищем закономерности, аномалии, выбросы или связи между признаками.\n",
    "В общем цель этого этапа понять, что эти данные могут нам дать и как признаки могут быть взаимосвязаны между собой.\n",
    "Понимание изначальных признаков позволит сгенерировать новые, более сильные и, тем самым, сделать нашу модель лучше.\n",
    "![](https://miro.medium.com/max/2598/1*RXdMb7Uk6mGqWqPguHULaQ.png)"
   ]
  },
  {
   "cell_type": "markdown",
   "metadata": {},
   "source": [
    "### Посмотрим распределение признака"
   ]
  },
  {
   "cell_type": "code",
   "execution_count": 31,
   "metadata": {
    "execution": {
     "iopub.execute_input": "2021-10-17T09:53:20.027797Z",
     "iopub.status.busy": "2021-10-17T09:53:20.027486Z",
     "iopub.status.idle": "2021-10-17T09:53:20.485015Z",
     "shell.execute_reply": "2021-10-17T09:53:20.484020Z",
     "shell.execute_reply.started": "2021-10-17T09:53:20.027750Z"
    }
   },
   "outputs": [
    {
     "data": {
      "text/plain": [
       "<matplotlib.axes._subplots.AxesSubplot at 0x7f5f8942f080>"
      ]
     },
     "execution_count": 31,
     "metadata": {},
     "output_type": "execute_result"
    },
    {
     "data": {
      "image/png": "[encoded data removed]",
      "text/plain": [
       "<Figure size 720x504 with 1 Axes>"
      ]
     },
     "metadata": {
      "needs_background": "light"
     },
     "output_type": "display_data"
    }
   ],
   "source": [
    "plt.rcParams['figure.figsize'] = (10,7)\n",
    "df_train['Ranking'].hist(bins=100)"
   ]
  },
  {
   "cell_type": "markdown",
   "metadata": {},
   "source": [
    "У нас много ресторанов, которые не дотягивают и до 2500 места в своем городе, а что там по городам?"
   ]
  },
  {
   "cell_type": "code",
   "execution_count": 32,
   "metadata": {
    "execution": {
     "iopub.execute_input": "2021-10-17T09:53:23.098932Z",
     "iopub.status.busy": "2021-10-17T09:53:23.098618Z",
     "iopub.status.idle": "2021-10-17T09:53:23.507329Z",
     "shell.execute_reply": "2021-10-17T09:53:23.506126Z",
     "shell.execute_reply.started": "2021-10-17T09:53:23.098883Z"
    }
   },
   "outputs": [
    {
     "data": {
      "text/plain": [
       "<matplotlib.axes._subplots.AxesSubplot at 0x7f5f748bd390>"
      ]
     },
     "execution_count": 32,
     "metadata": {},
     "output_type": "execute_result"
    },
    {
     "data": {
      "image/png": "[encoded data removed]",
      "text/plain": [
       "<Figure size 720x504 with 1 Axes>"
      ]
     },
     "metadata": {
      "needs_background": "light"
     },
     "output_type": "display_data"
    }
   ],
   "source": [
    "df_train['City'].value_counts(ascending=True).plot(kind='barh')"
   ]
  },
  {
   "cell_type": "markdown",
   "metadata": {},
   "source": [
    "А кто-то говорил, что французы любят поесть=) Посмотрим, как изменится распределение в большом городе:"
   ]
  },
  {
   "cell_type": "code",
   "execution_count": 33,
   "metadata": {
    "execution": {
     "iopub.execute_input": "2021-10-17T09:53:26.012076Z",
     "iopub.status.busy": "2021-10-17T09:53:26.011727Z",
     "iopub.status.idle": "2021-10-17T09:53:26.547733Z",
     "shell.execute_reply": "2021-10-17T09:53:26.546509Z",
     "shell.execute_reply.started": "2021-10-17T09:53:26.012015Z"
    }
   },
   "outputs": [
    {
     "data": {
      "text/plain": [
       "<matplotlib.axes._subplots.AxesSubplot at 0x7f5f7274a828>"
      ]
     },
     "execution_count": 33,
     "metadata": {},
     "output_type": "execute_result"
    },
    {
     "data": {
      "image/png": "[encoded data removed]",
      "text/plain": [
       "<Figure size 720x504 with 1 Axes>"
      ]
     },
     "metadata": {
      "needs_background": "light"
     },
     "output_type": "display_data"
    }
   ],
   "source": [
    "df_train['Ranking'][df_train['City'] =='London'].hist(bins=100)"
   ]
  },
  {
   "cell_type": "code",
   "execution_count": 34,
   "metadata": {
    "execution": {
     "iopub.execute_input": "2021-10-17T09:53:28.910478Z",
     "iopub.status.busy": "2021-10-17T09:53:28.910127Z",
     "iopub.status.idle": "2021-10-17T09:53:31.039508Z",
     "shell.execute_reply": "2021-10-17T09:53:31.038199Z",
     "shell.execute_reply.started": "2021-10-17T09:53:28.910418Z"
    }
   },
   "outputs": [
    {
     "data": {
      "image/png": "[encoded data removed]",
      "text/plain": [
       "<Figure size 720x504 with 1 Axes>"
      ]
     },
     "metadata": {
      "needs_background": "light"
     },
     "output_type": "display_data"
    }
   ],
   "source": [
    "# посмотрим на топ 10 городов\n",
    "for x in (df_train['City'].value_counts())[0:10].index:\n",
    "    df_train['Ranking'][df_train['City'] == x].hist(bins=100)\n",
    "plt.show()"
   ]
  },
  {
   "cell_type": "markdown",
   "metadata": {},
   "source": [
    "Получается, что Ranking имеет нормальное распределение, просто в больших городах больше ресторанов, из-за мы этого имеем смещение.\n",
    "\n",
    ">Подумайте как из этого можно сделать признак для вашей модели. Я покажу вам пример, как визуализация помогает находить взаимосвязи. А далее действуйте без подсказок =) \n"
   ]
  },
  {
   "cell_type": "markdown",
   "metadata": {},
   "source": [
    "### Посмотрим распределение целевой переменной"
   ]
  },
  {
   "cell_type": "code",
   "execution_count": 35,
   "metadata": {
    "execution": {
     "iopub.execute_input": "2021-10-17T09:53:33.971566Z",
     "iopub.status.busy": "2021-10-17T09:53:33.971240Z",
     "iopub.status.idle": "2021-10-17T09:53:34.369375Z",
     "shell.execute_reply": "2021-10-17T09:53:34.368462Z",
     "shell.execute_reply.started": "2021-10-17T09:53:33.971511Z"
    }
   },
   "outputs": [
    {
     "data": {
      "text/plain": [
       "<matplotlib.axes._subplots.AxesSubplot at 0x7f5f725f9128>"
      ]
     },
     "execution_count": 35,
     "metadata": {},
     "output_type": "execute_result"
    },
    {
     "data": {
      "image/png": "[encoded data removed]",
      "text/plain": [
       "<Figure size 720x504 with 1 Axes>"
      ]
     },
     "metadata": {
      "needs_background": "light"
     },
     "output_type": "display_data"
    }
   ],
   "source": [
    "df_train['Rating'].value_counts(ascending=True).plot(kind='barh')"
   ]
  },
  {
   "cell_type": "markdown",
   "metadata": {},
   "source": [
    "### Посмотрим распределение целевой переменной относительно признака"
   ]
  },
  {
   "cell_type": "code",
   "execution_count": 36,
   "metadata": {
    "execution": {
     "iopub.execute_input": "2021-10-17T09:53:36.979238Z",
     "iopub.status.busy": "2021-10-17T09:53:36.978909Z",
     "iopub.status.idle": "2021-10-17T09:53:37.430541Z",
     "shell.execute_reply": "2021-10-17T09:53:37.429165Z",
     "shell.execute_reply.started": "2021-10-17T09:53:36.979197Z"
    }
   },
   "outputs": [
    {
     "data": {
      "text/plain": [
       "<matplotlib.axes._subplots.AxesSubplot at 0x7f5f71d72e80>"
      ]
     },
     "execution_count": 36,
     "metadata": {},
     "output_type": "execute_result"
    },
    {
     "data": {
      "image/png": "[encoded data removed]",
      "text/plain": [
       "<Figure size 720x504 with 1 Axes>"
      ]
     },
     "metadata": {
      "needs_background": "light"
     },
     "output_type": "display_data"
    }
   ],
   "source": [
    "df_train['Ranking'][df_train['Rating'] == 5].hist(bins=100)"
   ]
  },
  {
   "cell_type": "code",
   "execution_count": 37,
   "metadata": {
    "execution": {
     "iopub.execute_input": "2021-10-17T09:53:39.796270Z",
     "iopub.status.busy": "2021-10-17T09:53:39.795866Z",
     "iopub.status.idle": "2021-10-17T09:53:40.258931Z",
     "shell.execute_reply": "2021-10-17T09:53:40.257534Z",
     "shell.execute_reply.started": "2021-10-17T09:53:39.796203Z"
    }
   },
   "outputs": [
    {
     "data": {
      "text/plain": [
       "<matplotlib.axes._subplots.AxesSubplot at 0x7f5f71bfa978>"
      ]
     },
     "execution_count": 37,
     "metadata": {},
     "output_type": "execute_result"
    },
    {
     "data": {
      "image/png": "[encoded data removed]",
      "text/plain": [
       "<Figure size 720x504 with 1 Axes>"
      ]
     },
     "metadata": {
      "needs_background": "light"
     },
     "output_type": "display_data"
    }
   ],
   "source": [
    "df_train['Ranking'][df_train['Rating'] < 4].hist(bins=100)"
   ]
  },
  {
   "cell_type": "code",
   "execution_count": 38,
   "metadata": {
    "execution": {
     "iopub.execute_input": "2021-10-17T09:53:42.630424Z",
     "iopub.status.busy": "2021-10-17T09:53:42.630091Z",
     "iopub.status.idle": "2021-10-17T09:53:42.924832Z",
     "shell.execute_reply": "2021-10-17T09:53:42.923655Z",
     "shell.execute_reply.started": "2021-10-17T09:53:42.630374Z"
    }
   },
   "outputs": [
    {
     "data": {
      "image/png": "[encoded data removed]",
      "text/plain": [
       "<Figure size 2160x288 with 1 Axes>"
      ]
     },
     "metadata": {
      "needs_background": "light"
     },
     "output_type": "display_data"
    }
   ],
   "source": [
    "fig, ax = plt.subplots(figsize=(30, 4))\n",
    "sns.boxplot(x='Ranking',data=data,ax=ax)\n",
    "plt.xticks(rotation=0)\n",
    "ax.set_title('Boxplot for ' + 'ranking')\n",
    "plt.show()"
   ]
  },
  {
   "cell_type": "code",
   "execution_count": 39,
   "metadata": {
    "execution": {
     "iopub.execute_input": "2021-10-17T09:53:45.252332Z",
     "iopub.status.busy": "2021-10-17T09:53:45.252024Z",
     "iopub.status.idle": "2021-10-17T09:53:45.269014Z",
     "shell.execute_reply": "2021-10-17T09:53:45.268205Z",
     "shell.execute_reply.started": "2021-10-17T09:53:45.252295Z"
    }
   },
   "outputs": [],
   "source": [
    "# Создадим новый признак количество ресторанов в городе\n",
    "city_counts_dict = dict(data['City'].value_counts())\n",
    "data['rest_counts'] = data.City.map(city_counts_dict)"
   ]
  },
  {
   "cell_type": "code",
   "execution_count": 40,
   "metadata": {
    "execution": {
     "iopub.execute_input": "2021-10-17T09:53:47.179648Z",
     "iopub.status.busy": "2021-10-17T09:53:47.179194Z",
     "iopub.status.idle": "2021-10-17T09:53:47.435074Z",
     "shell.execute_reply": "2021-10-17T09:53:47.434076Z",
     "shell.execute_reply.started": "2021-10-17T09:53:47.179608Z"
    }
   },
   "outputs": [],
   "source": [
    "# Разделим Ranking — место, которое занимает данный ресторан среди всех ресторанов cвоего города на количество ресторанов(rest_counts), тем самым уберем смещение.\n",
    "data['rank_city'] = data.Ranking / data.rest_counts"
   ]
  },
  {
   "cell_type": "code",
   "execution_count": 41,
   "metadata": {
    "execution": {
     "iopub.execute_input": "2021-10-17T09:53:49.300445Z",
     "iopub.status.busy": "2021-10-17T09:53:49.300006Z",
     "iopub.status.idle": "2021-10-17T09:53:51.563364Z",
     "shell.execute_reply": "2021-10-17T09:53:51.562255Z",
     "shell.execute_reply.started": "2021-10-17T09:53:49.300404Z"
    }
   },
   "outputs": [
    {
     "data": {
      "image/png": "[encoded data removed]",
      "text/plain": [
       "<Figure size 720x504 with 1 Axes>"
      ]
     },
     "metadata": {
      "needs_background": "light"
     },
     "output_type": "display_data"
    }
   ],
   "source": [
    "# Снова посмотрим на топ 10 городов\n",
    "for x in (data['City'].value_counts())[0:10].index:\n",
    "    data['rank_city'][data['City'] == x].hist(bins=100)\n",
    "plt.show()"
   ]
  },
  {
   "cell_type": "code",
   "execution_count": 42,
   "metadata": {
    "execution": {
     "iopub.execute_input": "2021-10-17T09:53:54.131541Z",
     "iopub.status.busy": "2021-10-17T09:53:54.131095Z",
     "iopub.status.idle": "2021-10-17T09:53:54.571048Z",
     "shell.execute_reply": "2021-10-17T09:53:54.570152Z",
     "shell.execute_reply.started": "2021-10-17T09:53:54.131499Z"
    }
   },
   "outputs": [
    {
     "data": {
      "text/plain": [
       "<matplotlib.axes._subplots.AxesSubplot at 0x7f5f687c73c8>"
      ]
     },
     "execution_count": 42,
     "metadata": {},
     "output_type": "execute_result"
    },
    {
     "data": {
      "image/png": "[encoded data removed]",
      "text/plain": [
       "<Figure size 720x504 with 1 Axes>"
      ]
     },
     "metadata": {
      "needs_background": "light"
     },
     "output_type": "display_data"
    }
   ],
   "source": [
    "# Смотрим среднее количество отзывов по городам\n",
    "data.groupby('City')['Number of Reviews'].mean().sort_values(ascending=False).plot(kind='bar')"
   ]
  },
  {
   "cell_type": "code",
   "execution_count": 43,
   "metadata": {
    "execution": {
     "iopub.execute_input": "2021-10-17T09:53:58.027787Z",
     "iopub.status.busy": "2021-10-17T09:53:58.027457Z",
     "iopub.status.idle": "2021-10-17T09:53:58.045425Z",
     "shell.execute_reply": "2021-10-17T09:53:58.044439Z",
     "shell.execute_reply.started": "2021-10-17T09:53:58.027718Z"
    }
   },
   "outputs": [],
   "source": [
    "#Создаем новый признак rew_rest_of_city - среднее количество отзывов о ресторанах города\n",
    "dic_city = dict(data.groupby(['City'])['Number of Reviews'].mean())\n",
    "data['rew_rest_of_city'] = data.City.map(dic_city)"
   ]
  },
  {
   "cell_type": "code",
   "execution_count": 44,
   "metadata": {
    "execution": {
     "iopub.execute_input": "2021-10-17T09:54:01.659951Z",
     "iopub.status.busy": "2021-10-17T09:54:01.659643Z",
     "iopub.status.idle": "2021-10-17T09:54:01.684523Z",
     "shell.execute_reply": "2021-10-17T09:54:01.683743Z",
     "shell.execute_reply.started": "2021-10-17T09:54:01.659906Z"
    }
   },
   "outputs": [
    {
     "data": {
      "text/html": [
       "<div>\n",
       "<style scoped>\n",
       "    .dataframe tbody tr th:only-of-type {\n",
       "        vertical-align: middle;\n",
       "    }\n",
       "\n",
       "    .dataframe tbody tr th {\n",
       "        vertical-align: top;\n",
       "    }\n",
       "\n",
       "    .dataframe thead th {\n",
       "        text-align: right;\n",
       "    }\n",
       "</style>\n",
       "<table border=\"1\" class=\"dataframe\">\n",
       "  <thead>\n",
       "    <tr style=\"text-align: right;\">\n",
       "      <th></th>\n",
       "      <th>Restaurant_id</th>\n",
       "      <th>City</th>\n",
       "      <th>Cuisine Style</th>\n",
       "      <th>Ranking</th>\n",
       "      <th>Price Range</th>\n",
       "      <th>Number of Reviews</th>\n",
       "      <th>Reviews</th>\n",
       "      <th>URL_TA</th>\n",
       "      <th>ID_TA</th>\n",
       "      <th>sample</th>\n",
       "      <th>Rating</th>\n",
       "      <th>Number_of_Reviews_isNAN</th>\n",
       "      <th>date_1</th>\n",
       "      <th>date_2</th>\n",
       "      <th>days</th>\n",
       "      <th>days_until_today</th>\n",
       "      <th>rest_counts</th>\n",
       "      <th>rank_city</th>\n",
       "      <th>rew_rest_of_city</th>\n",
       "    </tr>\n",
       "  </thead>\n",
       "  <tbody>\n",
       "    <tr>\n",
       "      <th>0</th>\n",
       "      <td>id_0</td>\n",
       "      <td>Paris</td>\n",
       "      <td>['Bar', 'Pub']</td>\n",
       "      <td>12963.0</td>\n",
       "      <td>2</td>\n",
       "      <td>4.0</td>\n",
       "      <td>[[], []]</td>\n",
       "      <td>/Restaurant_Review-g187147-d10746918-Reviews-L...</td>\n",
       "      <td>10746918</td>\n",
       "      <td>0</td>\n",
       "      <td>0.0</td>\n",
       "      <td>0</td>\n",
       "      <td>2017-02-23 19:43:37.621401344</td>\n",
       "      <td>2017-05-04 06:05:22.819055616</td>\n",
       "      <td>69</td>\n",
       "      <td>1627</td>\n",
       "      <td>6108</td>\n",
       "      <td>2.122299</td>\n",
       "      <td>111.464800</td>\n",
       "    </tr>\n",
       "    <tr>\n",
       "      <th>1</th>\n",
       "      <td>id_1</td>\n",
       "      <td>Helsinki</td>\n",
       "      <td>['European', 'Scandinavian', 'Gluten Free Opti...</td>\n",
       "      <td>106.0</td>\n",
       "      <td>2</td>\n",
       "      <td>97.0</td>\n",
       "      <td>[[Very good reviews!, Fine dining in Hakaniemi...</td>\n",
       "      <td>/Restaurant_Review-g189934-d6674944-Reviews-Ra...</td>\n",
       "      <td>6674944</td>\n",
       "      <td>0</td>\n",
       "      <td>0.0</td>\n",
       "      <td>0</td>\n",
       "      <td>2017-10-29 00:00:00.000000000</td>\n",
       "      <td>2017-12-05 00:00:00.000000000</td>\n",
       "      <td>37</td>\n",
       "      <td>1412</td>\n",
       "      <td>475</td>\n",
       "      <td>0.223158</td>\n",
       "      <td>62.128421</td>\n",
       "    </tr>\n",
       "    <tr>\n",
       "      <th>2</th>\n",
       "      <td>id_2</td>\n",
       "      <td>Edinburgh</td>\n",
       "      <td>['Vegetarian Friendly']</td>\n",
       "      <td>810.0</td>\n",
       "      <td>2</td>\n",
       "      <td>28.0</td>\n",
       "      <td>[[Better than the Links, Ivy Black], [12/28/20...</td>\n",
       "      <td>/Restaurant_Review-g186525-d13129638-Reviews-B...</td>\n",
       "      <td>13129638</td>\n",
       "      <td>0</td>\n",
       "      <td>0.0</td>\n",
       "      <td>0</td>\n",
       "      <td>2017-12-06 00:00:00.000000000</td>\n",
       "      <td>2017-12-28 00:00:00.000000000</td>\n",
       "      <td>22</td>\n",
       "      <td>1389</td>\n",
       "      <td>745</td>\n",
       "      <td>1.087248</td>\n",
       "      <td>231.010738</td>\n",
       "    </tr>\n",
       "    <tr>\n",
       "      <th>3</th>\n",
       "      <td>id_3</td>\n",
       "      <td>London</td>\n",
       "      <td>['Italian', 'Mediterranean', 'European', 'Vege...</td>\n",
       "      <td>1669.0</td>\n",
       "      <td>3</td>\n",
       "      <td>202.0</td>\n",
       "      <td>[[Most exquisite, Delicious and authentic], [1...</td>\n",
       "      <td>/Restaurant_Review-g186338-d680417-Reviews-Qui...</td>\n",
       "      <td>680417</td>\n",
       "      <td>0</td>\n",
       "      <td>0.0</td>\n",
       "      <td>0</td>\n",
       "      <td>2017-11-22 00:00:00.000000000</td>\n",
       "      <td>2017-12-06 00:00:00.000000000</td>\n",
       "      <td>14</td>\n",
       "      <td>1411</td>\n",
       "      <td>7193</td>\n",
       "      <td>0.232031</td>\n",
       "      <td>129.816488</td>\n",
       "    </tr>\n",
       "    <tr>\n",
       "      <th>4</th>\n",
       "      <td>id_4</td>\n",
       "      <td>Bratislava</td>\n",
       "      <td>['Italian', 'Mediterranean', 'European', 'Seaf...</td>\n",
       "      <td>37.0</td>\n",
       "      <td>3</td>\n",
       "      <td>162.0</td>\n",
       "      <td>[[Always the best in bratislava, Very good but...</td>\n",
       "      <td>/Restaurant_Review-g274924-d1112354-Reviews-Ma...</td>\n",
       "      <td>1112354</td>\n",
       "      <td>0</td>\n",
       "      <td>0.0</td>\n",
       "      <td>0</td>\n",
       "      <td>2018-01-24 00:00:00.000000000</td>\n",
       "      <td>2018-02-08 00:00:00.000000000</td>\n",
       "      <td>15</td>\n",
       "      <td>1347</td>\n",
       "      <td>380</td>\n",
       "      <td>0.097368</td>\n",
       "      <td>43.873684</td>\n",
       "    </tr>\n",
       "  </tbody>\n",
       "</table>\n",
       "</div>"
      ],
      "text/plain": [
       "  Restaurant_id        City  \\\n",
       "0          id_0       Paris   \n",
       "1          id_1    Helsinki   \n",
       "2          id_2   Edinburgh   \n",
       "3          id_3      London   \n",
       "4          id_4  Bratislava   \n",
       "\n",
       "                                       Cuisine Style  Ranking  Price Range  \\\n",
       "0                                     ['Bar', 'Pub']  12963.0            2   \n",
       "1  ['European', 'Scandinavian', 'Gluten Free Opti...    106.0            2   \n",
       "2                            ['Vegetarian Friendly']    810.0            2   \n",
       "3  ['Italian', 'Mediterranean', 'European', 'Vege...   1669.0            3   \n",
       "4  ['Italian', 'Mediterranean', 'European', 'Seaf...     37.0            3   \n",
       "\n",
       "   Number of Reviews                                            Reviews  \\\n",
       "0                4.0                                           [[], []]   \n",
       "1               97.0  [[Very good reviews!, Fine dining in Hakaniemi...   \n",
       "2               28.0  [[Better than the Links, Ivy Black], [12/28/20...   \n",
       "3              202.0  [[Most exquisite, Delicious and authentic], [1...   \n",
       "4              162.0  [[Always the best in bratislava, Very good but...   \n",
       "\n",
       "                                              URL_TA     ID_TA  sample  \\\n",
       "0  /Restaurant_Review-g187147-d10746918-Reviews-L...  10746918       0   \n",
       "1  /Restaurant_Review-g189934-d6674944-Reviews-Ra...   6674944       0   \n",
       "2  /Restaurant_Review-g186525-d13129638-Reviews-B...  13129638       0   \n",
       "3  /Restaurant_Review-g186338-d680417-Reviews-Qui...    680417       0   \n",
       "4  /Restaurant_Review-g274924-d1112354-Reviews-Ma...   1112354       0   \n",
       "\n",
       "   Rating  Number_of_Reviews_isNAN                        date_1  \\\n",
       "0     0.0                        0 2017-02-23 19:43:37.621401344   \n",
       "1     0.0                        0 2017-10-29 00:00:00.000000000   \n",
       "2     0.0                        0 2017-12-06 00:00:00.000000000   \n",
       "3     0.0                        0 2017-11-22 00:00:00.000000000   \n",
       "4     0.0                        0 2018-01-24 00:00:00.000000000   \n",
       "\n",
       "                         date_2  days  days_until_today  rest_counts  \\\n",
       "0 2017-05-04 06:05:22.819055616    69              1627         6108   \n",
       "1 2017-12-05 00:00:00.000000000    37              1412          475   \n",
       "2 2017-12-28 00:00:00.000000000    22              1389          745   \n",
       "3 2017-12-06 00:00:00.000000000    14              1411         7193   \n",
       "4 2018-02-08 00:00:00.000000000    15              1347          380   \n",
       "\n",
       "   rank_city  rew_rest_of_city  \n",
       "0   2.122299        111.464800  \n",
       "1   0.223158         62.128421  \n",
       "2   1.087248        231.010738  \n",
       "3   0.232031        129.816488  \n",
       "4   0.097368         43.873684  "
      ]
     },
     "execution_count": 44,
     "metadata": {},
     "output_type": "execute_result"
    }
   ],
   "source": [
    "data.head()"
   ]
  },
  {
   "cell_type": "code",
   "execution_count": 45,
   "metadata": {
    "execution": {
     "iopub.execute_input": "2021-10-13T17:12:55.113099Z",
     "iopub.status.busy": "2021-10-13T17:12:55.112637Z",
     "iopub.status.idle": "2021-10-13T17:12:55.143787Z",
     "shell.execute_reply": "2021-10-13T17:12:55.142707Z",
     "shell.execute_reply.started": "2021-10-13T17:12:55.113058Z"
    }
   },
   "outputs": [],
   "source": [
    "# для One-Hot Encoding в pandas есть готовая функция - get_dummies. Особенно радует параметр dummy_na\n",
    "#data = pd.get_dummies(data, columns=[ 'City',], dummy_na=True)"
   ]
  },
  {
   "cell_type": "code",
   "execution_count": 46,
   "metadata": {
    "execution": {
     "iopub.execute_input": "2021-10-17T09:54:04.751875Z",
     "iopub.status.busy": "2021-10-17T09:54:04.751529Z",
     "iopub.status.idle": "2021-10-17T09:54:04.775708Z",
     "shell.execute_reply": "2021-10-17T09:54:04.774668Z",
     "shell.execute_reply.started": "2021-10-17T09:54:04.751815Z"
    }
   },
   "outputs": [
    {
     "data": {
      "text/html": [
       "<div>\n",
       "<style scoped>\n",
       "    .dataframe tbody tr th:only-of-type {\n",
       "        vertical-align: middle;\n",
       "    }\n",
       "\n",
       "    .dataframe tbody tr th {\n",
       "        vertical-align: top;\n",
       "    }\n",
       "\n",
       "    .dataframe thead th {\n",
       "        text-align: right;\n",
       "    }\n",
       "</style>\n",
       "<table border=\"1\" class=\"dataframe\">\n",
       "  <thead>\n",
       "    <tr style=\"text-align: right;\">\n",
       "      <th></th>\n",
       "      <th>Restaurant_id</th>\n",
       "      <th>City</th>\n",
       "      <th>Cuisine Style</th>\n",
       "      <th>Ranking</th>\n",
       "      <th>Price Range</th>\n",
       "      <th>Number of Reviews</th>\n",
       "      <th>Reviews</th>\n",
       "      <th>URL_TA</th>\n",
       "      <th>ID_TA</th>\n",
       "      <th>sample</th>\n",
       "      <th>Rating</th>\n",
       "      <th>Number_of_Reviews_isNAN</th>\n",
       "      <th>date_1</th>\n",
       "      <th>date_2</th>\n",
       "      <th>days</th>\n",
       "      <th>days_until_today</th>\n",
       "      <th>rest_counts</th>\n",
       "      <th>rank_city</th>\n",
       "      <th>rew_rest_of_city</th>\n",
       "    </tr>\n",
       "  </thead>\n",
       "  <tbody>\n",
       "    <tr>\n",
       "      <th>5269</th>\n",
       "      <td>id_5269</td>\n",
       "      <td>Oporto</td>\n",
       "      <td>['Barbecue', 'European', 'Portuguese']</td>\n",
       "      <td>1047.0</td>\n",
       "      <td>2</td>\n",
       "      <td>11.0</td>\n",
       "      <td>[[], []]</td>\n",
       "      <td>/Restaurant_Review-g189180-d6767464-Reviews-Ch...</td>\n",
       "      <td>6767464</td>\n",
       "      <td>0</td>\n",
       "      <td>0.0</td>\n",
       "      <td>0</td>\n",
       "      <td>2017-02-23 19:43:37.621401344</td>\n",
       "      <td>2017-05-04 06:05:22.819055616</td>\n",
       "      <td>69</td>\n",
       "      <td>1627</td>\n",
       "      <td>642</td>\n",
       "      <td>1.630841</td>\n",
       "      <td>125.163551</td>\n",
       "    </tr>\n",
       "  </tbody>\n",
       "</table>\n",
       "</div>"
      ],
      "text/plain": [
       "     Restaurant_id    City                           Cuisine Style  Ranking  \\\n",
       "5269       id_5269  Oporto  ['Barbecue', 'European', 'Portuguese']   1047.0   \n",
       "\n",
       "      Price Range  Number of Reviews   Reviews  \\\n",
       "5269            2               11.0  [[], []]   \n",
       "\n",
       "                                                 URL_TA    ID_TA  sample  \\\n",
       "5269  /Restaurant_Review-g189180-d6767464-Reviews-Ch...  6767464       0   \n",
       "\n",
       "      Rating  Number_of_Reviews_isNAN                        date_1  \\\n",
       "5269     0.0                        0 2017-02-23 19:43:37.621401344   \n",
       "\n",
       "                            date_2  days  days_until_today  rest_counts  \\\n",
       "5269 2017-05-04 06:05:22.819055616    69              1627          642   \n",
       "\n",
       "      rank_city  rew_rest_of_city  \n",
       "5269   1.630841        125.163551  "
      ]
     },
     "execution_count": 46,
     "metadata": {},
     "output_type": "execute_result"
    }
   ],
   "source": [
    "data.sample()"
   ]
  },
  {
   "cell_type": "code",
   "execution_count": 47,
   "metadata": {
    "execution": {
     "iopub.execute_input": "2021-10-17T09:54:08.052732Z",
     "iopub.status.busy": "2021-10-17T09:54:08.052424Z",
     "iopub.status.idle": "2021-10-17T09:54:08.101008Z",
     "shell.execute_reply": "2021-10-17T09:54:08.099974Z",
     "shell.execute_reply.started": "2021-10-17T09:54:08.052685Z"
    }
   },
   "outputs": [],
   "source": [
    "сity_dummies = pd.get_dummies(data['City'], dummy_na=False).astype('float64')\n",
    "data = pd.concat([data,сity_dummies], axis=1)"
   ]
  },
  {
   "cell_type": "code",
   "execution_count": 48,
   "metadata": {
    "execution": {
     "iopub.execute_input": "2021-10-17T09:54:11.139161Z",
     "iopub.status.busy": "2021-10-17T09:54:11.138829Z",
     "iopub.status.idle": "2021-10-17T09:54:11.154568Z",
     "shell.execute_reply": "2021-10-17T09:54:11.153564Z",
     "shell.execute_reply.started": "2021-10-17T09:54:11.139110Z"
    }
   },
   "outputs": [],
   "source": [
    "le = LabelEncoder()\n",
    "le.fit(data['City'])\n",
    "data['code_сity'] = le.transform(data['City'])"
   ]
  },
  {
   "cell_type": "code",
   "execution_count": 49,
   "metadata": {
    "execution": {
     "iopub.execute_input": "2021-10-17T09:54:15.652550Z",
     "iopub.status.busy": "2021-10-17T09:54:15.652249Z",
     "iopub.status.idle": "2021-10-17T09:54:15.681273Z",
     "shell.execute_reply": "2021-10-17T09:54:15.679989Z",
     "shell.execute_reply.started": "2021-10-17T09:54:15.652515Z"
    }
   },
   "outputs": [],
   "source": [
    "# создадим словарь с городами и населением в них (в млн. человек)\n",
    "cities = list(sorted(data['City'].unique()))\n",
    "population = [0.825080, 3.168846, 0.424819, 3.326002, 0.413192, 0.176545, 1.744665, 1.246611, 0.506211,\n",
    "              0.482005, 0.198899, 1.718187, 0.574579, 0.756183, 0.547733, 0.277554, 8.538689, 0.214,\n",
    "              0.506615, 3.155360, 1.331586, 1.561094, 0.258975, 0.673469, 2.148327, 1.272690,  2.870493,\n",
    "              0.961609, 1.765649, 1.720398, 0.402275]\n",
    "city_population_dict = dict(zip(cities, population))\n",
    "data['city_population'] = data['City'].map(lambda x: city_population_dict[x])\n",
    "# создадим признак количество ресторанов на 10_000 человек\n",
    "data['restaurants_for_population'] = data['rest_counts'] / (data['city_population'] * 10_000)"
   ]
  },
  {
   "cell_type": "code",
   "execution_count": 50,
   "metadata": {
    "execution": {
     "iopub.execute_input": "2021-10-17T09:54:18.548253Z",
     "iopub.status.busy": "2021-10-17T09:54:18.547943Z",
     "iopub.status.idle": "2021-10-17T09:54:18.570751Z",
     "shell.execute_reply": "2021-10-17T09:54:18.569838Z",
     "shell.execute_reply.started": "2021-10-17T09:54:18.548214Z"
    }
   },
   "outputs": [],
   "source": [
    "# создадим словарь с городами и их площадью (в кв. км)\n",
    "area = [219.4, 412, 101.3, 891.68, 368, 32.61, 525.14, 86.40, 318, 118, 15.93, 755.09, 213.8, 327, 100.05,\n",
    "        163.8, 1572, 51.47, 47.87, 607, 181.67, 310.71, 41.66, 454, 105.4, 496, 1287.36, 188, 414.75, 517, 91.88]\n",
    "city_area_dict = dict(zip(cities, area))\n",
    "data['city_area'] = data['City'].map(lambda x: city_area_dict[x])\n",
    "# создадим признак плотность ресторанов на кв.км\n",
    "data['restaurant_density'] = data['rest_counts'] / data['city_area']"
   ]
  },
  {
   "cell_type": "code",
   "execution_count": 51,
   "metadata": {
    "execution": {
     "iopub.execute_input": "2021-10-17T09:54:21.091561Z",
     "iopub.status.busy": "2021-10-17T09:54:21.091212Z",
     "iopub.status.idle": "2021-10-17T09:54:21.151009Z",
     "shell.execute_reply": "2021-10-17T09:54:21.149893Z",
     "shell.execute_reply.started": "2021-10-17T09:54:21.091504Z"
    }
   },
   "outputs": [
    {
     "data": {
      "text/html": [
       "<div>\n",
       "<style scoped>\n",
       "    .dataframe tbody tr th:only-of-type {\n",
       "        vertical-align: middle;\n",
       "    }\n",
       "\n",
       "    .dataframe tbody tr th {\n",
       "        vertical-align: top;\n",
       "    }\n",
       "\n",
       "    .dataframe thead th {\n",
       "        text-align: right;\n",
       "    }\n",
       "</style>\n",
       "<table border=\"1\" class=\"dataframe\">\n",
       "  <thead>\n",
       "    <tr style=\"text-align: right;\">\n",
       "      <th></th>\n",
       "      <th>Restaurant_id</th>\n",
       "      <th>City</th>\n",
       "      <th>Cuisine Style</th>\n",
       "      <th>Ranking</th>\n",
       "      <th>Price Range</th>\n",
       "      <th>Number of Reviews</th>\n",
       "      <th>Reviews</th>\n",
       "      <th>URL_TA</th>\n",
       "      <th>ID_TA</th>\n",
       "      <th>sample</th>\n",
       "      <th>...</th>\n",
       "      <th>Rome</th>\n",
       "      <th>Stockholm</th>\n",
       "      <th>Vienna</th>\n",
       "      <th>Warsaw</th>\n",
       "      <th>Zurich</th>\n",
       "      <th>code_сity</th>\n",
       "      <th>city_population</th>\n",
       "      <th>restaurants_for_population</th>\n",
       "      <th>city_area</th>\n",
       "      <th>restaurant_density</th>\n",
       "    </tr>\n",
       "  </thead>\n",
       "  <tbody>\n",
       "    <tr>\n",
       "      <th>8238</th>\n",
       "      <td>id_8238</td>\n",
       "      <td>Rome</td>\n",
       "      <td>['Italian', 'Pizza']</td>\n",
       "      <td>3515.0</td>\n",
       "      <td>2</td>\n",
       "      <td>288.0</td>\n",
       "      <td>[[Been here hundred times, just love it, A lit...</td>\n",
       "      <td>/Restaurant_Review-g187791-d2384908-Reviews-Tr...</td>\n",
       "      <td>2384908</td>\n",
       "      <td>0</td>\n",
       "      <td>...</td>\n",
       "      <td>1.0</td>\n",
       "      <td>0.0</td>\n",
       "      <td>0.0</td>\n",
       "      <td>0.0</td>\n",
       "      <td>0.0</td>\n",
       "      <td>26</td>\n",
       "      <td>2.870493</td>\n",
       "      <td>0.090194</td>\n",
       "      <td>1287.36</td>\n",
       "      <td>2.011092</td>\n",
       "    </tr>\n",
       "  </tbody>\n",
       "</table>\n",
       "<p>1 rows × 55 columns</p>\n",
       "</div>"
      ],
      "text/plain": [
       "     Restaurant_id  City         Cuisine Style  Ranking  Price Range  \\\n",
       "8238       id_8238  Rome  ['Italian', 'Pizza']   3515.0            2   \n",
       "\n",
       "      Number of Reviews                                            Reviews  \\\n",
       "8238              288.0  [[Been here hundred times, just love it, A lit...   \n",
       "\n",
       "                                                 URL_TA    ID_TA  sample  ...  \\\n",
       "8238  /Restaurant_Review-g187791-d2384908-Reviews-Tr...  2384908       0  ...   \n",
       "\n",
       "      Rome  Stockholm Vienna Warsaw  Zurich  code_сity  city_population  \\\n",
       "8238   1.0        0.0    0.0    0.0     0.0         26         2.870493   \n",
       "\n",
       "      restaurants_for_population  city_area  restaurant_density  \n",
       "8238                    0.090194    1287.36            2.011092  \n",
       "\n",
       "[1 rows x 55 columns]"
      ]
     },
     "execution_count": 51,
     "metadata": {},
     "output_type": "execute_result"
    }
   ],
   "source": [
    "data.sample()"
   ]
  },
  {
   "cell_type": "markdown",
   "metadata": {},
   "source": [
    "# cuisine style"
   ]
  },
  {
   "cell_type": "code",
   "execution_count": 52,
   "metadata": {
    "execution": {
     "iopub.execute_input": "2021-10-17T09:54:24.181026Z",
     "iopub.status.busy": "2021-10-17T09:54:24.180694Z",
     "iopub.status.idle": "2021-10-17T09:54:24.621598Z",
     "shell.execute_reply": "2021-10-17T09:54:24.620558Z",
     "shell.execute_reply.started": "2021-10-17T09:54:24.180975Z"
    }
   },
   "outputs": [],
   "source": [
    "# Заменим пробелы на 'other' и  удалим не нужные символы \n",
    "data['Cuisine Style'].fillna(\"['Other']\", inplace=True)\n",
    "data['Cuisine Style'] = data['Cuisine Style'].apply(lambda x: eval(x)) # получили столбец со списками"
   ]
  },
  {
   "cell_type": "code",
   "execution_count": 53,
   "metadata": {
    "execution": {
     "iopub.execute_input": "2021-10-17T09:54:26.316925Z",
     "iopub.status.busy": "2021-10-17T09:54:26.316566Z",
     "iopub.status.idle": "2021-10-17T09:54:26.401025Z",
     "shell.execute_reply": "2021-10-17T09:54:26.399997Z",
     "shell.execute_reply.started": "2021-10-17T09:54:26.316860Z"
    }
   },
   "outputs": [
    {
     "name": "stdout",
     "output_type": "stream",
     "text": [
      "125\n"
     ]
    }
   ],
   "source": [
    "# Соберем все рестораны в коллекцию. Она нам пригодится для создания новых признаков\n",
    "coll = collections.Counter()\n",
    "all_cuisune = set()\n",
    "for row in data['Cuisine Style']:\n",
    "  for i in row:\n",
    "    coll[i] +=1\n",
    "    all_cuisune.add(i)\n",
    "all_cuisune_lst = list(all_cuisune)\n",
    "print(len(coll)-1) # отнимем 'other'"
   ]
  },
  {
   "cell_type": "code",
   "execution_count": 54,
   "metadata": {
    "execution": {
     "iopub.execute_input": "2021-10-17T09:54:28.636634Z",
     "iopub.status.busy": "2021-10-17T09:54:28.636331Z",
     "iopub.status.idle": "2021-10-17T09:54:30.980845Z",
     "shell.execute_reply": "2021-10-17T09:54:30.979878Z",
     "shell.execute_reply.started": "2021-10-17T09:54:28.636587Z"
    }
   },
   "outputs": [
    {
     "data": {
      "image/png": "[encoded data removed]",
      "text/plain": [
       "<Figure size 1728x432 with 1 Axes>"
      ]
     },
     "metadata": {
      "needs_background": "light"
     },
     "output_type": "display_data"
    }
   ],
   "source": [
    "# график показывающий как часто встречается Cuisine style\n",
    "plt.figure(figsize=(24,6))\n",
    "data.explode('Cuisine Style')['Cuisine Style'].value_counts(ascending=False).plot(kind='bar');\n"
   ]
  },
  {
   "cell_type": "code",
   "execution_count": 55,
   "metadata": {
    "execution": {
     "iopub.execute_input": "2021-10-17T09:54:34.306885Z",
     "iopub.status.busy": "2021-10-17T09:54:34.306567Z",
     "iopub.status.idle": "2021-10-17T09:54:34.313336Z",
     "shell.execute_reply": "2021-10-17T09:54:34.312441Z",
     "shell.execute_reply.started": "2021-10-17T09:54:34.306834Z"
    }
   },
   "outputs": [
    {
     "data": {
      "text/plain": [
       "57"
      ]
     },
     "execution_count": 55,
     "metadata": {},
     "output_type": "execute_result"
    }
   ],
   "source": [
    "#Уберем наименее распространенные кухни.\n",
    "kitchen = dict(coll)\n",
    "kitchen_300 = [i for i in kitchen if kitchen[i] > 300]\n",
    "len(kitchen_300)"
   ]
  },
  {
   "cell_type": "markdown",
   "metadata": {},
   "source": [
    "Создадим функцию которая будет проверять наличие конкретной кухни в столбце 'Cuisine Style' для текущего ресторана и возвращать 1, если кухня есть в ресторане, и 0, если отсутствует. Организуем цикл с параметром, в котором будем перебирать наименования всех кухонь (kitchen_300). Для каждой кухни создадим в датафрейме столбец с соответствующим названием и заполним его единичками и нулями, применив к столбцу 'Cuisine Style', функцию, созданную нами на предыдущем шаге."
   ]
  },
  {
   "cell_type": "code",
   "execution_count": 56,
   "metadata": {
    "execution": {
     "iopub.execute_input": "2021-10-17T09:54:40.211483Z",
     "iopub.status.busy": "2021-10-17T09:54:40.211149Z",
     "iopub.status.idle": "2021-10-17T09:54:41.352548Z",
     "shell.execute_reply": "2021-10-17T09:54:41.351691Z",
     "shell.execute_reply.started": "2021-10-17T09:54:40.211426Z"
    }
   },
   "outputs": [],
   "source": [
    "def cuisine_iter(cell):\n",
    "    if item in cell:\n",
    "        return 1\n",
    "    return 0\n",
    "\n",
    "for item in kitchen_300:\n",
    "    data[item] = data['Cuisine Style'].apply(cuisine_iter)"
   ]
  },
  {
   "cell_type": "markdown",
   "metadata": {},
   "source": [
    "Кухонь которых меньше 300 закинем в один столбец для этого создадим функцию которая, будет возвращать количеств редких кухонь в каждом ресторане."
   ]
  },
  {
   "cell_type": "code",
   "execution_count": 57,
   "metadata": {
    "execution": {
     "iopub.execute_input": "2021-10-17T09:54:43.172218Z",
     "iopub.status.busy": "2021-10-17T09:54:43.171863Z",
     "iopub.status.idle": "2021-10-17T09:54:43.405234Z",
     "shell.execute_reply": "2021-10-17T09:54:43.404351Z",
     "shell.execute_reply.started": "2021-10-17T09:54:43.172160Z"
    }
   },
   "outputs": [],
   "source": [
    "rare_cuisine = [i for i in kitchen if kitchen[i] <= 300]\n",
    "def kitchen_count(cell):\n",
    "    x = 0\n",
    "    for i in rare_cuisine:\n",
    "        if i in cell:\n",
    "            x += 1\n",
    "    return x\n",
    "data['rare_cuisines'] = data['Cuisine Style'].apply(kitchen_count)"
   ]
  },
  {
   "cell_type": "code",
   "execution_count": 58,
   "metadata": {
    "execution": {
     "iopub.execute_input": "2021-10-17T09:54:45.554595Z",
     "iopub.status.busy": "2021-10-17T09:54:45.553690Z",
     "iopub.status.idle": "2021-10-17T09:54:45.587166Z",
     "shell.execute_reply": "2021-10-17T09:54:45.586070Z",
     "shell.execute_reply.started": "2021-10-17T09:54:45.554006Z"
    }
   },
   "outputs": [],
   "source": [
    "#преобразуем столбец Cuisine Style из списка кухонь в числовое значение равное их количеству \n",
    "data['Cuisine Style'] = data['Cuisine Style'].apply(lambda x: len(x))"
   ]
  },
  {
   "cell_type": "code",
   "execution_count": 59,
   "metadata": {
    "execution": {
     "iopub.execute_input": "2021-10-17T09:54:47.819686Z",
     "iopub.status.busy": "2021-10-17T09:54:47.819251Z",
     "iopub.status.idle": "2021-10-17T09:54:47.877285Z",
     "shell.execute_reply": "2021-10-17T09:54:47.876297Z",
     "shell.execute_reply.started": "2021-10-17T09:54:47.819645Z"
    }
   },
   "outputs": [
    {
     "data": {
      "text/html": [
       "<div>\n",
       "<style scoped>\n",
       "    .dataframe tbody tr th:only-of-type {\n",
       "        vertical-align: middle;\n",
       "    }\n",
       "\n",
       "    .dataframe tbody tr th {\n",
       "        vertical-align: top;\n",
       "    }\n",
       "\n",
       "    .dataframe thead th {\n",
       "        text-align: right;\n",
       "    }\n",
       "</style>\n",
       "<table border=\"1\" class=\"dataframe\">\n",
       "  <thead>\n",
       "    <tr style=\"text-align: right;\">\n",
       "      <th></th>\n",
       "      <th>Restaurant_id</th>\n",
       "      <th>City</th>\n",
       "      <th>Cuisine Style</th>\n",
       "      <th>Ranking</th>\n",
       "      <th>Price Range</th>\n",
       "      <th>Number of Reviews</th>\n",
       "      <th>Reviews</th>\n",
       "      <th>URL_TA</th>\n",
       "      <th>ID_TA</th>\n",
       "      <th>sample</th>\n",
       "      <th>...</th>\n",
       "      <th>Gastropub</th>\n",
       "      <th>German</th>\n",
       "      <th>Contemporary</th>\n",
       "      <th>Diner</th>\n",
       "      <th>Grill</th>\n",
       "      <th>Mexican</th>\n",
       "      <th>Latin</th>\n",
       "      <th>Belgian</th>\n",
       "      <th>Delicatessen</th>\n",
       "      <th>rare_cuisines</th>\n",
       "    </tr>\n",
       "  </thead>\n",
       "  <tbody>\n",
       "    <tr>\n",
       "      <th>30088</th>\n",
       "      <td>id_33</td>\n",
       "      <td>Budapest</td>\n",
       "      <td>7</td>\n",
       "      <td>34.0</td>\n",
       "      <td>2</td>\n",
       "      <td>224.0</td>\n",
       "      <td>[[Loved it!, Great atmosphere, average food], ...</td>\n",
       "      <td>/Restaurant_Review-g274887-d11903781-Reviews-B...</td>\n",
       "      <td>11903781</td>\n",
       "      <td>1</td>\n",
       "      <td>...</td>\n",
       "      <td>0</td>\n",
       "      <td>0</td>\n",
       "      <td>0</td>\n",
       "      <td>0</td>\n",
       "      <td>0</td>\n",
       "      <td>0</td>\n",
       "      <td>0</td>\n",
       "      <td>0</td>\n",
       "      <td>0</td>\n",
       "      <td>0</td>\n",
       "    </tr>\n",
       "    <tr>\n",
       "      <th>1095</th>\n",
       "      <td>id_1095</td>\n",
       "      <td>Geneva</td>\n",
       "      <td>1</td>\n",
       "      <td>950.0</td>\n",
       "      <td>2</td>\n",
       "      <td>13.0</td>\n",
       "      <td>[[This restaurant is a sure value, Nice for an...</td>\n",
       "      <td>/Restaurant_Review-g188057-d4295446-Reviews-Ja...</td>\n",
       "      <td>4295446</td>\n",
       "      <td>0</td>\n",
       "      <td>...</td>\n",
       "      <td>0</td>\n",
       "      <td>0</td>\n",
       "      <td>0</td>\n",
       "      <td>0</td>\n",
       "      <td>0</td>\n",
       "      <td>0</td>\n",
       "      <td>0</td>\n",
       "      <td>0</td>\n",
       "      <td>0</td>\n",
       "      <td>0</td>\n",
       "    </tr>\n",
       "    <tr>\n",
       "      <th>23652</th>\n",
       "      <td>id_2399</td>\n",
       "      <td>Vienna</td>\n",
       "      <td>1</td>\n",
       "      <td>2401.0</td>\n",
       "      <td>2</td>\n",
       "      <td>4.0</td>\n",
       "      <td>[[too crowded and too trendy], [02/11/2015]]</td>\n",
       "      <td>/Restaurant_Review-g190454-d2046172-Reviews-Su...</td>\n",
       "      <td>2046172</td>\n",
       "      <td>1</td>\n",
       "      <td>...</td>\n",
       "      <td>0</td>\n",
       "      <td>0</td>\n",
       "      <td>0</td>\n",
       "      <td>0</td>\n",
       "      <td>0</td>\n",
       "      <td>0</td>\n",
       "      <td>0</td>\n",
       "      <td>0</td>\n",
       "      <td>0</td>\n",
       "      <td>0</td>\n",
       "    </tr>\n",
       "    <tr>\n",
       "      <th>15379</th>\n",
       "      <td>id_3763</td>\n",
       "      <td>Milan</td>\n",
       "      <td>1</td>\n",
       "      <td>3765.0</td>\n",
       "      <td>2</td>\n",
       "      <td>16.0</td>\n",
       "      <td>[[Good food, very fair prices], [09/13/2015]]</td>\n",
       "      <td>/Restaurant_Review-g187849-d8134063-Reviews-Al...</td>\n",
       "      <td>8134063</td>\n",
       "      <td>1</td>\n",
       "      <td>...</td>\n",
       "      <td>0</td>\n",
       "      <td>0</td>\n",
       "      <td>0</td>\n",
       "      <td>0</td>\n",
       "      <td>0</td>\n",
       "      <td>0</td>\n",
       "      <td>0</td>\n",
       "      <td>0</td>\n",
       "      <td>0</td>\n",
       "      <td>0</td>\n",
       "    </tr>\n",
       "    <tr>\n",
       "      <th>46087</th>\n",
       "      <td>id_2097</td>\n",
       "      <td>Paris</td>\n",
       "      <td>3</td>\n",
       "      <td>2098.0</td>\n",
       "      <td>2</td>\n",
       "      <td>33.0</td>\n",
       "      <td>[[], []]</td>\n",
       "      <td>/Restaurant_Review-g187147-d6890507-Reviews-Pe...</td>\n",
       "      <td>6890507</td>\n",
       "      <td>1</td>\n",
       "      <td>...</td>\n",
       "      <td>0</td>\n",
       "      <td>0</td>\n",
       "      <td>0</td>\n",
       "      <td>0</td>\n",
       "      <td>0</td>\n",
       "      <td>0</td>\n",
       "      <td>0</td>\n",
       "      <td>0</td>\n",
       "      <td>0</td>\n",
       "      <td>0</td>\n",
       "    </tr>\n",
       "    <tr>\n",
       "      <th>29662</th>\n",
       "      <td>id_10759</td>\n",
       "      <td>Paris</td>\n",
       "      <td>1</td>\n",
       "      <td>10761.0</td>\n",
       "      <td>2</td>\n",
       "      <td>2.0</td>\n",
       "      <td>[[], []]</td>\n",
       "      <td>/Restaurant_Review-g187147-d8814581-Reviews-Da...</td>\n",
       "      <td>8814581</td>\n",
       "      <td>1</td>\n",
       "      <td>...</td>\n",
       "      <td>0</td>\n",
       "      <td>0</td>\n",
       "      <td>0</td>\n",
       "      <td>0</td>\n",
       "      <td>0</td>\n",
       "      <td>0</td>\n",
       "      <td>0</td>\n",
       "      <td>0</td>\n",
       "      <td>0</td>\n",
       "      <td>0</td>\n",
       "    </tr>\n",
       "    <tr>\n",
       "      <th>25714</th>\n",
       "      <td>id_13941</td>\n",
       "      <td>London</td>\n",
       "      <td>1</td>\n",
       "      <td>13951.0</td>\n",
       "      <td>2</td>\n",
       "      <td>3.0</td>\n",
       "      <td>[[Typical TGI, Standard TGI Fare], [12/29/2017...</td>\n",
       "      <td>/Restaurant_Review-g186338-d12870241-Reviews-T...</td>\n",
       "      <td>12870241</td>\n",
       "      <td>1</td>\n",
       "      <td>...</td>\n",
       "      <td>0</td>\n",
       "      <td>0</td>\n",
       "      <td>0</td>\n",
       "      <td>0</td>\n",
       "      <td>0</td>\n",
       "      <td>0</td>\n",
       "      <td>0</td>\n",
       "      <td>0</td>\n",
       "      <td>0</td>\n",
       "      <td>0</td>\n",
       "    </tr>\n",
       "    <tr>\n",
       "      <th>12477</th>\n",
       "      <td>id_1137</td>\n",
       "      <td>Budapest</td>\n",
       "      <td>4</td>\n",
       "      <td>1138.0</td>\n",
       "      <td>2</td>\n",
       "      <td>142.0</td>\n",
       "      <td>[[Good. Repeatable, Really lovely dal makhani]...</td>\n",
       "      <td>/Restaurant_Review-g274887-d1188540-Reviews-De...</td>\n",
       "      <td>1188540</td>\n",
       "      <td>1</td>\n",
       "      <td>...</td>\n",
       "      <td>0</td>\n",
       "      <td>0</td>\n",
       "      <td>0</td>\n",
       "      <td>0</td>\n",
       "      <td>0</td>\n",
       "      <td>0</td>\n",
       "      <td>0</td>\n",
       "      <td>0</td>\n",
       "      <td>0</td>\n",
       "      <td>0</td>\n",
       "    </tr>\n",
       "    <tr>\n",
       "      <th>16278</th>\n",
       "      <td>id_5547</td>\n",
       "      <td>Barcelona</td>\n",
       "      <td>1</td>\n",
       "      <td>5548.0</td>\n",
       "      <td>1</td>\n",
       "      <td>16.0</td>\n",
       "      <td>[[], []]</td>\n",
       "      <td>/Restaurant_Review-g187497-d10033972-Reviews-L...</td>\n",
       "      <td>10033972</td>\n",
       "      <td>1</td>\n",
       "      <td>...</td>\n",
       "      <td>0</td>\n",
       "      <td>0</td>\n",
       "      <td>0</td>\n",
       "      <td>0</td>\n",
       "      <td>0</td>\n",
       "      <td>0</td>\n",
       "      <td>0</td>\n",
       "      <td>0</td>\n",
       "      <td>0</td>\n",
       "      <td>0</td>\n",
       "    </tr>\n",
       "    <tr>\n",
       "      <th>32902</th>\n",
       "      <td>id_6777</td>\n",
       "      <td>London</td>\n",
       "      <td>5</td>\n",
       "      <td>6786.0</td>\n",
       "      <td>1</td>\n",
       "      <td>9.0</td>\n",
       "      <td>[[Getting into tea, Amazing slice], [08/16/201...</td>\n",
       "      <td>/Restaurant_Review-g186338-d10779537-Reviews-Y...</td>\n",
       "      <td>10779537</td>\n",
       "      <td>1</td>\n",
       "      <td>...</td>\n",
       "      <td>0</td>\n",
       "      <td>0</td>\n",
       "      <td>0</td>\n",
       "      <td>0</td>\n",
       "      <td>0</td>\n",
       "      <td>0</td>\n",
       "      <td>0</td>\n",
       "      <td>0</td>\n",
       "      <td>0</td>\n",
       "      <td>0</td>\n",
       "    </tr>\n",
       "  </tbody>\n",
       "</table>\n",
       "<p>10 rows × 113 columns</p>\n",
       "</div>"
      ],
      "text/plain": [
       "      Restaurant_id       City  Cuisine Style  Ranking  Price Range  \\\n",
       "30088         id_33   Budapest              7     34.0            2   \n",
       "1095        id_1095     Geneva              1    950.0            2   \n",
       "23652       id_2399     Vienna              1   2401.0            2   \n",
       "15379       id_3763      Milan              1   3765.0            2   \n",
       "46087       id_2097      Paris              3   2098.0            2   \n",
       "29662      id_10759      Paris              1  10761.0            2   \n",
       "25714      id_13941     London              1  13951.0            2   \n",
       "12477       id_1137   Budapest              4   1138.0            2   \n",
       "16278       id_5547  Barcelona              1   5548.0            1   \n",
       "32902       id_6777     London              5   6786.0            1   \n",
       "\n",
       "       Number of Reviews                                            Reviews  \\\n",
       "30088              224.0  [[Loved it!, Great atmosphere, average food], ...   \n",
       "1095                13.0  [[This restaurant is a sure value, Nice for an...   \n",
       "23652                4.0       [[too crowded and too trendy], [02/11/2015]]   \n",
       "15379               16.0      [[Good food, very fair prices], [09/13/2015]]   \n",
       "46087               33.0                                           [[], []]   \n",
       "29662                2.0                                           [[], []]   \n",
       "25714                3.0  [[Typical TGI, Standard TGI Fare], [12/29/2017...   \n",
       "12477              142.0  [[Good. Repeatable, Really lovely dal makhani]...   \n",
       "16278               16.0                                           [[], []]   \n",
       "32902                9.0  [[Getting into tea, Amazing slice], [08/16/201...   \n",
       "\n",
       "                                                  URL_TA     ID_TA  sample  \\\n",
       "30088  /Restaurant_Review-g274887-d11903781-Reviews-B...  11903781       1   \n",
       "1095   /Restaurant_Review-g188057-d4295446-Reviews-Ja...   4295446       0   \n",
       "23652  /Restaurant_Review-g190454-d2046172-Reviews-Su...   2046172       1   \n",
       "15379  /Restaurant_Review-g187849-d8134063-Reviews-Al...   8134063       1   \n",
       "46087  /Restaurant_Review-g187147-d6890507-Reviews-Pe...   6890507       1   \n",
       "29662  /Restaurant_Review-g187147-d8814581-Reviews-Da...   8814581       1   \n",
       "25714  /Restaurant_Review-g186338-d12870241-Reviews-T...  12870241       1   \n",
       "12477  /Restaurant_Review-g274887-d1188540-Reviews-De...   1188540       1   \n",
       "16278  /Restaurant_Review-g187497-d10033972-Reviews-L...  10033972       1   \n",
       "32902  /Restaurant_Review-g186338-d10779537-Reviews-Y...  10779537       1   \n",
       "\n",
       "       ...  Gastropub  German Contemporary Diner  Grill  Mexican  Latin  \\\n",
       "30088  ...          0       0            0     0      0        0      0   \n",
       "1095   ...          0       0            0     0      0        0      0   \n",
       "23652  ...          0       0            0     0      0        0      0   \n",
       "15379  ...          0       0            0     0      0        0      0   \n",
       "46087  ...          0       0            0     0      0        0      0   \n",
       "29662  ...          0       0            0     0      0        0      0   \n",
       "25714  ...          0       0            0     0      0        0      0   \n",
       "12477  ...          0       0            0     0      0        0      0   \n",
       "16278  ...          0       0            0     0      0        0      0   \n",
       "32902  ...          0       0            0     0      0        0      0   \n",
       "\n",
       "       Belgian  Delicatessen  rare_cuisines  \n",
       "30088        0             0              0  \n",
       "1095         0             0              0  \n",
       "23652        0             0              0  \n",
       "15379        0             0              0  \n",
       "46087        0             0              0  \n",
       "29662        0             0              0  \n",
       "25714        0             0              0  \n",
       "12477        0             0              0  \n",
       "16278        0             0              0  \n",
       "32902        0             0              0  \n",
       "\n",
       "[10 rows x 113 columns]"
      ]
     },
     "execution_count": 59,
     "metadata": {},
     "output_type": "execute_result"
    }
   ],
   "source": [
    "data.sample(10)"
   ]
  },
  {
   "cell_type": "markdown",
   "metadata": {},
   "source": [
    "### И один из моих любимых - [корреляция признаков](https://ru.wikipedia.org/wiki/Корреляция)\n",
    "На этом графике уже сейчас вы сможете заметить, как признаки связаны между собой и с целевой переменной."
   ]
  },
  {
   "cell_type": "code",
   "execution_count": 60,
   "metadata": {
    "execution": {
     "iopub.execute_input": "2021-10-17T09:54:51.539230Z",
     "iopub.status.busy": "2021-10-17T09:54:51.538876Z",
     "iopub.status.idle": "2021-10-17T09:54:55.644119Z",
     "shell.execute_reply": "2021-10-17T09:54:55.643145Z",
     "shell.execute_reply.started": "2021-10-17T09:54:51.539178Z"
    }
   },
   "outputs": [
    {
     "data": {
      "text/plain": [
       "<matplotlib.axes._subplots.AxesSubplot at 0x7f5f58822b00>"
      ]
     },
     "execution_count": 60,
     "metadata": {},
     "output_type": "execute_result"
    },
    {
     "data": {
      "image/png": "[encoded data removed]",
      "text/plain": [
       "<Figure size 1440x1440 with 2 Axes>"
      ]
     },
     "metadata": {
      "needs_background": "light"
     },
     "output_type": "display_data"
    }
   ],
   "source": [
    "plt.rcParams['figure.figsize'] = (20,20)\n",
    "sns.heatmap(data.drop(['sample'], axis=1).corr(),)"
   ]
  },
  {
   "cell_type": "markdown",
   "metadata": {},
   "source": [
    "Вообще благодаря визуализации в этом датасете можно узнать много интересных фактов, например:\n",
    "* где больше Пицерий в Мадриде или Лондоне?\n",
    "* в каком городе кухня ресторанов более разнообразна?\n",
    "\n",
    "придумайте свои вопрос и найдите на него ответ в данных)"
   ]
  },
  {
   "cell_type": "markdown",
   "metadata": {},
   "source": [
    "Теперь отберем столбцы класса object datetime64 и удалим из датафрейма"
   ]
  },
  {
   "cell_type": "code",
   "execution_count": 61,
   "metadata": {
    "execution": {
     "iopub.execute_input": "2021-10-17T09:55:00.589477Z",
     "iopub.status.busy": "2021-10-17T09:55:00.589176Z",
     "iopub.status.idle": "2021-10-17T09:55:00.623151Z",
     "shell.execute_reply": "2021-10-17T09:55:00.622111Z",
     "shell.execute_reply.started": "2021-10-17T09:55:00.589433Z"
    }
   },
   "outputs": [
    {
     "data": {
      "text/plain": [
       "Index(['Restaurant_id', 'City', 'Reviews', 'URL_TA', 'date_1', 'date_2'], dtype='object')"
      ]
     },
     "execution_count": 61,
     "metadata": {},
     "output_type": "execute_result"
    }
   ],
   "source": [
    "selected_dtype_obj = data.select_dtypes(include=['object', 'datetime64']).columns\n",
    "selected_dtype_obj"
   ]
  },
  {
   "cell_type": "code",
   "execution_count": 62,
   "metadata": {
    "execution": {
     "iopub.execute_input": "2021-10-17T09:55:03.978348Z",
     "iopub.status.busy": "2021-10-17T09:55:03.978035Z",
     "iopub.status.idle": "2021-10-17T09:55:03.999937Z",
     "shell.execute_reply": "2021-10-17T09:55:03.999021Z",
     "shell.execute_reply.started": "2021-10-17T09:55:03.978302Z"
    }
   },
   "outputs": [],
   "source": [
    "data.drop(selected_dtype_obj, axis=1, inplace=True)"
   ]
  },
  {
   "cell_type": "code",
   "execution_count": 63,
   "metadata": {
    "execution": {
     "iopub.execute_input": "2021-10-17T09:55:06.899491Z",
     "iopub.status.busy": "2021-10-17T09:55:06.899166Z",
     "iopub.status.idle": "2021-10-17T09:55:06.930084Z",
     "shell.execute_reply": "2021-10-17T09:55:06.929245Z",
     "shell.execute_reply.started": "2021-10-17T09:55:06.899434Z"
    }
   },
   "outputs": [
    {
     "data": {
      "text/html": [
       "<div>\n",
       "<style scoped>\n",
       "    .dataframe tbody tr th:only-of-type {\n",
       "        vertical-align: middle;\n",
       "    }\n",
       "\n",
       "    .dataframe tbody tr th {\n",
       "        vertical-align: top;\n",
       "    }\n",
       "\n",
       "    .dataframe thead th {\n",
       "        text-align: right;\n",
       "    }\n",
       "</style>\n",
       "<table border=\"1\" class=\"dataframe\">\n",
       "  <thead>\n",
       "    <tr style=\"text-align: right;\">\n",
       "      <th></th>\n",
       "      <th>Cuisine Style</th>\n",
       "      <th>Ranking</th>\n",
       "      <th>Price Range</th>\n",
       "      <th>Number of Reviews</th>\n",
       "      <th>ID_TA</th>\n",
       "      <th>sample</th>\n",
       "      <th>Rating</th>\n",
       "      <th>Number_of_Reviews_isNAN</th>\n",
       "      <th>days</th>\n",
       "      <th>days_until_today</th>\n",
       "      <th>...</th>\n",
       "      <th>Gastropub</th>\n",
       "      <th>German</th>\n",
       "      <th>Contemporary</th>\n",
       "      <th>Diner</th>\n",
       "      <th>Grill</th>\n",
       "      <th>Mexican</th>\n",
       "      <th>Latin</th>\n",
       "      <th>Belgian</th>\n",
       "      <th>Delicatessen</th>\n",
       "      <th>rare_cuisines</th>\n",
       "    </tr>\n",
       "  </thead>\n",
       "  <tbody>\n",
       "    <tr>\n",
       "      <th>0</th>\n",
       "      <td>2</td>\n",
       "      <td>12963.0</td>\n",
       "      <td>2</td>\n",
       "      <td>4.0</td>\n",
       "      <td>10746918</td>\n",
       "      <td>0</td>\n",
       "      <td>0.0</td>\n",
       "      <td>0</td>\n",
       "      <td>69</td>\n",
       "      <td>1627</td>\n",
       "      <td>...</td>\n",
       "      <td>0</td>\n",
       "      <td>0</td>\n",
       "      <td>0</td>\n",
       "      <td>0</td>\n",
       "      <td>0</td>\n",
       "      <td>0</td>\n",
       "      <td>0</td>\n",
       "      <td>0</td>\n",
       "      <td>0</td>\n",
       "      <td>0</td>\n",
       "    </tr>\n",
       "    <tr>\n",
       "      <th>1</th>\n",
       "      <td>5</td>\n",
       "      <td>106.0</td>\n",
       "      <td>2</td>\n",
       "      <td>97.0</td>\n",
       "      <td>6674944</td>\n",
       "      <td>0</td>\n",
       "      <td>0.0</td>\n",
       "      <td>0</td>\n",
       "      <td>37</td>\n",
       "      <td>1412</td>\n",
       "      <td>...</td>\n",
       "      <td>0</td>\n",
       "      <td>0</td>\n",
       "      <td>0</td>\n",
       "      <td>0</td>\n",
       "      <td>0</td>\n",
       "      <td>0</td>\n",
       "      <td>0</td>\n",
       "      <td>0</td>\n",
       "      <td>0</td>\n",
       "      <td>0</td>\n",
       "    </tr>\n",
       "    <tr>\n",
       "      <th>2</th>\n",
       "      <td>1</td>\n",
       "      <td>810.0</td>\n",
       "      <td>2</td>\n",
       "      <td>28.0</td>\n",
       "      <td>13129638</td>\n",
       "      <td>0</td>\n",
       "      <td>0.0</td>\n",
       "      <td>0</td>\n",
       "      <td>22</td>\n",
       "      <td>1389</td>\n",
       "      <td>...</td>\n",
       "      <td>0</td>\n",
       "      <td>0</td>\n",
       "      <td>0</td>\n",
       "      <td>0</td>\n",
       "      <td>0</td>\n",
       "      <td>0</td>\n",
       "      <td>0</td>\n",
       "      <td>0</td>\n",
       "      <td>0</td>\n",
       "      <td>0</td>\n",
       "    </tr>\n",
       "    <tr>\n",
       "      <th>3</th>\n",
       "      <td>5</td>\n",
       "      <td>1669.0</td>\n",
       "      <td>3</td>\n",
       "      <td>202.0</td>\n",
       "      <td>680417</td>\n",
       "      <td>0</td>\n",
       "      <td>0.0</td>\n",
       "      <td>0</td>\n",
       "      <td>14</td>\n",
       "      <td>1411</td>\n",
       "      <td>...</td>\n",
       "      <td>0</td>\n",
       "      <td>0</td>\n",
       "      <td>0</td>\n",
       "      <td>0</td>\n",
       "      <td>0</td>\n",
       "      <td>0</td>\n",
       "      <td>0</td>\n",
       "      <td>0</td>\n",
       "      <td>0</td>\n",
       "      <td>0</td>\n",
       "    </tr>\n",
       "    <tr>\n",
       "      <th>4</th>\n",
       "      <td>6</td>\n",
       "      <td>37.0</td>\n",
       "      <td>3</td>\n",
       "      <td>162.0</td>\n",
       "      <td>1112354</td>\n",
       "      <td>0</td>\n",
       "      <td>0.0</td>\n",
       "      <td>0</td>\n",
       "      <td>15</td>\n",
       "      <td>1347</td>\n",
       "      <td>...</td>\n",
       "      <td>0</td>\n",
       "      <td>0</td>\n",
       "      <td>0</td>\n",
       "      <td>0</td>\n",
       "      <td>0</td>\n",
       "      <td>0</td>\n",
       "      <td>0</td>\n",
       "      <td>0</td>\n",
       "      <td>0</td>\n",
       "      <td>0</td>\n",
       "    </tr>\n",
       "  </tbody>\n",
       "</table>\n",
       "<p>5 rows × 107 columns</p>\n",
       "</div>"
      ],
      "text/plain": [
       "   Cuisine Style  Ranking  Price Range  Number of Reviews     ID_TA  sample  \\\n",
       "0              2  12963.0            2                4.0  10746918       0   \n",
       "1              5    106.0            2               97.0   6674944       0   \n",
       "2              1    810.0            2               28.0  13129638       0   \n",
       "3              5   1669.0            3              202.0    680417       0   \n",
       "4              6     37.0            3              162.0   1112354       0   \n",
       "\n",
       "   Rating  Number_of_Reviews_isNAN  days  days_until_today  ...  Gastropub  \\\n",
       "0     0.0                        0    69              1627  ...          0   \n",
       "1     0.0                        0    37              1412  ...          0   \n",
       "2     0.0                        0    22              1389  ...          0   \n",
       "3     0.0                        0    14              1411  ...          0   \n",
       "4     0.0                        0    15              1347  ...          0   \n",
       "\n",
       "   German  Contemporary  Diner  Grill  Mexican  Latin  Belgian  Delicatessen  \\\n",
       "0       0             0      0      0        0      0        0             0   \n",
       "1       0             0      0      0        0      0        0             0   \n",
       "2       0             0      0      0        0      0        0             0   \n",
       "3       0             0      0      0        0      0        0             0   \n",
       "4       0             0      0      0        0      0        0             0   \n",
       "\n",
       "   rare_cuisines  \n",
       "0              0  \n",
       "1              0  \n",
       "2              0  \n",
       "3              0  \n",
       "4              0  \n",
       "\n",
       "[5 rows x 107 columns]"
      ]
     },
     "execution_count": 63,
     "metadata": {},
     "output_type": "execute_result"
    }
   ],
   "source": [
    "data.head()"
   ]
  },
  {
   "cell_type": "code",
   "execution_count": 64,
   "metadata": {
    "execution": {
     "iopub.execute_input": "2021-10-17T09:55:09.499809Z",
     "iopub.status.busy": "2021-10-17T09:55:09.499471Z",
     "iopub.status.idle": "2021-10-17T09:55:09.521685Z",
     "shell.execute_reply": "2021-10-17T09:55:09.520928Z",
     "shell.execute_reply.started": "2021-10-17T09:55:09.499750Z"
    }
   },
   "outputs": [
    {
     "data": {
      "text/plain": [
       "Cuisine Style        0\n",
       "Ranking              0\n",
       "Price Range          0\n",
       "Number of Reviews    0\n",
       "ID_TA                0\n",
       "                    ..\n",
       "Mexican              0\n",
       "Latin                0\n",
       "Belgian              0\n",
       "Delicatessen         0\n",
       "rare_cuisines        0\n",
       "Length: 107, dtype: int64"
      ]
     },
     "execution_count": 64,
     "metadata": {},
     "output_type": "execute_result"
    }
   ],
   "source": [
    "# Смотрим на пропущенные значения\n",
    "data.isnull().sum()"
   ]
  },
  {
   "cell_type": "code",
   "execution_count": 65,
   "metadata": {
    "execution": {
     "iopub.execute_input": "2021-10-17T09:55:11.907134Z",
     "iopub.status.busy": "2021-10-17T09:55:11.906643Z",
     "iopub.status.idle": "2021-10-17T09:55:11.922058Z",
     "shell.execute_reply": "2021-10-17T09:55:11.921148Z",
     "shell.execute_reply.started": "2021-10-17T09:55:11.906906Z"
    }
   },
   "outputs": [
    {
     "name": "stdout",
     "output_type": "stream",
     "text": [
      "<class 'pandas.core.frame.DataFrame'>\n",
      "RangeIndex: 50000 entries, 0 to 49999\n",
      "Columns: 107 entries, Cuisine Style to rare_cuisines\n",
      "dtypes: float64(40), int64(66), uint8(1)\n",
      "memory usage: 40.5 MB\n"
     ]
    }
   ],
   "source": [
    "data.info()"
   ]
  },
  {
   "cell_type": "code",
   "execution_count": 66,
   "metadata": {
    "execution": {
     "iopub.execute_input": "2021-10-17T09:55:14.132230Z",
     "iopub.status.busy": "2021-10-17T09:55:14.131642Z",
     "iopub.status.idle": "2021-10-17T09:55:14.202357Z",
     "shell.execute_reply": "2021-10-17T09:55:14.201656Z",
     "shell.execute_reply.started": "2021-10-17T09:55:14.132181Z"
    }
   },
   "outputs": [],
   "source": [
    "# Теперь выделим тестовую часть\n",
    "train_data = data.query('sample == 1').drop(['sample'], axis=1)\n",
    "test_data = data.query('sample == 0').drop(['sample'], axis=1)\n",
    "\n",
    "y = train_data.Rating.values            # наш таргет\n",
    "X = train_data.drop(['Rating'], axis=1)"
   ]
  },
  {
   "cell_type": "markdown",
   "metadata": {},
   "source": [
    "**Перед тем как отправлять наши данные на обучение, разделим данные на еще один тест и трейн, для валидации. \n",
    "Это поможет нам проверить, как хорошо наша модель работает, до отправки submissiona на kaggle.**"
   ]
  },
  {
   "cell_type": "code",
   "execution_count": 67,
   "metadata": {
    "execution": {
     "iopub.execute_input": "2021-10-17T09:55:18.038388Z",
     "iopub.status.busy": "2021-10-17T09:55:18.035986Z",
     "iopub.status.idle": "2021-10-17T09:55:18.083628Z",
     "shell.execute_reply": "2021-10-17T09:55:18.082906Z",
     "shell.execute_reply.started": "2021-10-17T09:55:18.038162Z"
    }
   },
   "outputs": [],
   "source": [
    "# Воспользуемся специальной функцие train_test_split для разбивки тестовых данных\n",
    "# выделим 20% данных на валидацию (параметр test_size)\n",
    "X_train, X_test, y_train, y_test = train_test_split(X, y, test_size=0.2, random_state=RANDOM_SEED)"
   ]
  },
  {
   "cell_type": "code",
   "execution_count": 68,
   "metadata": {
    "execution": {
     "iopub.execute_input": "2021-10-17T09:55:20.146556Z",
     "iopub.status.busy": "2021-10-17T09:55:20.145984Z",
     "iopub.status.idle": "2021-10-17T09:55:20.154027Z",
     "shell.execute_reply": "2021-10-17T09:55:20.152448Z",
     "shell.execute_reply.started": "2021-10-17T09:55:20.146509Z"
    }
   },
   "outputs": [
    {
     "data": {
      "text/plain": [
       "((10000, 106), (40000, 106), (40000, 105), (32000, 105), (8000, 105))"
      ]
     },
     "execution_count": 68,
     "metadata": {},
     "output_type": "execute_result"
    }
   ],
   "source": [
    "# проверяем\n",
    "test_data.shape, train_data.shape, X.shape, X_train.shape, X_test.shape"
   ]
  },
  {
   "cell_type": "markdown",
   "metadata": {},
   "source": [
    "# Model \n",
    "Сам ML"
   ]
  },
  {
   "cell_type": "code",
   "execution_count": 69,
   "metadata": {
    "execution": {
     "iopub.execute_input": "2021-10-17T09:55:22.778393Z",
     "iopub.status.busy": "2021-10-17T09:55:22.778064Z",
     "iopub.status.idle": "2021-10-17T09:55:22.932801Z",
     "shell.execute_reply": "2021-10-17T09:55:22.931848Z",
     "shell.execute_reply.started": "2021-10-17T09:55:22.778339Z"
    }
   },
   "outputs": [],
   "source": [
    "# Импортируем необходимые библиотеки:\n",
    "from sklearn.ensemble import RandomForestRegressor # инструмент для создания и обучения модели\n",
    "from sklearn import metrics # инструменты для оценки точности модели"
   ]
  },
  {
   "cell_type": "code",
   "execution_count": 70,
   "metadata": {
    "execution": {
     "iopub.execute_input": "2021-10-17T09:55:25.419245Z",
     "iopub.status.busy": "2021-10-17T09:55:25.418912Z",
     "iopub.status.idle": "2021-10-17T09:55:25.423816Z",
     "shell.execute_reply": "2021-10-17T09:55:25.422760Z",
     "shell.execute_reply.started": "2021-10-17T09:55:25.419190Z"
    }
   },
   "outputs": [],
   "source": [
    "# Создаём модель (НАСТРОЙКИ НЕ ТРОГАЕМ)\n",
    "model = RandomForestRegressor(n_estimators=100, verbose=1, n_jobs=-1, random_state=RANDOM_SEED)"
   ]
  },
  {
   "cell_type": "code",
   "execution_count": 71,
   "metadata": {
    "execution": {
     "iopub.execute_input": "2021-10-17T09:55:36.956388Z",
     "iopub.status.busy": "2021-10-17T09:55:36.956054Z",
     "iopub.status.idle": "2021-10-17T09:55:54.193114Z",
     "shell.execute_reply": "2021-10-17T09:55:54.192312Z",
     "shell.execute_reply.started": "2021-10-17T09:55:36.956327Z"
    }
   },
   "outputs": [
    {
     "name": "stderr",
     "output_type": "stream",
     "text": [
      "[Parallel(n_jobs=-1)]: Using backend ThreadingBackend with 4 concurrent workers.\n",
      "[Parallel(n_jobs=-1)]: Done  42 tasks      | elapsed:    7.4s\n",
      "[Parallel(n_jobs=-1)]: Done 100 out of 100 | elapsed:   16.6s finished\n",
      "[Parallel(n_jobs=4)]: Using backend ThreadingBackend with 4 concurrent workers.\n",
      "[Parallel(n_jobs=4)]: Done  42 tasks      | elapsed:    0.0s\n",
      "[Parallel(n_jobs=4)]: Done 100 out of 100 | elapsed:    0.1s finished\n"
     ]
    }
   ],
   "source": [
    "# Обучаем модель на тестовом наборе данных\n",
    "model.fit(X_train, y_train)\n",
    "\n",
    "# Используем обученную модель для предсказания рейтинга ресторанов в тестовой выборке.\n",
    "# Предсказанные значения записываем в переменную y_pred\n",
    "y_pred = model.predict(X_test)"
   ]
  },
  {
   "cell_type": "code",
   "execution_count": 72,
   "metadata": {
    "execution": {
     "iopub.execute_input": "2021-10-17T09:57:24.622472Z",
     "iopub.status.busy": "2021-10-17T09:57:24.622146Z",
     "iopub.status.idle": "2021-10-17T09:57:24.628146Z",
     "shell.execute_reply": "2021-10-17T09:57:24.627347Z",
     "shell.execute_reply.started": "2021-10-17T09:57:24.622435Z"
    }
   },
   "outputs": [
    {
     "name": "stdout",
     "output_type": "stream",
     "text": [
      "MAE: 0.196184375\n"
     ]
    }
   ],
   "source": [
    "# Сравниваем предсказанные значения (y_pred) с реальными (y_test), и смотрим насколько они в среднем отличаются\n",
    "# Метрика называется Mean Absolute Error (MAE) и показывает среднее отклонение предсказанных значений от фактических.\n",
    "print('MAE:', metrics.mean_absolute_error(y_test, y_pred))"
   ]
  },
  {
   "cell_type": "code",
   "execution_count": 73,
   "metadata": {
    "execution": {
     "iopub.execute_input": "2021-10-17T09:57:45.851110Z",
     "iopub.status.busy": "2021-10-17T09:57:45.850770Z",
     "iopub.status.idle": "2021-10-17T09:57:46.304982Z",
     "shell.execute_reply": "2021-10-17T09:57:46.303926Z",
     "shell.execute_reply.started": "2021-10-17T09:57:45.851060Z"
    }
   },
   "outputs": [
    {
     "data": {
      "text/plain": [
       "<matplotlib.axes._subplots.AxesSubplot at 0x7f5f724995c0>"
      ]
     },
     "execution_count": 73,
     "metadata": {},
     "output_type": "execute_result"
    },
    {
     "data": {
      "image/png": "[encoded data removed]",
      "text/plain": [
       "<Figure size 720x720 with 1 Axes>"
      ]
     },
     "metadata": {
      "needs_background": "light"
     },
     "output_type": "display_data"
    }
   ],
   "source": [
    "# в RandomForestRegressor есть возможность вывести самые важные признаки для модели\n",
    "plt.rcParams['figure.figsize'] = (10,10)\n",
    "feat_importances = pd.Series(model.feature_importances_, index=X.columns)\n",
    "feat_importances.nlargest(15).plot(kind='barh')"
   ]
  },
  {
   "cell_type": "markdown",
   "metadata": {},
   "source": [
    "# Submission\n",
    "Если все устраевает - готовим Submission на кагл"
   ]
  },
  {
   "cell_type": "code",
   "execution_count": 74,
   "metadata": {
    "execution": {
     "iopub.execute_input": "2021-10-17T09:58:03.540034Z",
     "iopub.status.busy": "2021-10-17T09:58:03.539699Z",
     "iopub.status.idle": "2021-10-17T09:58:03.567260Z",
     "shell.execute_reply": "2021-10-17T09:58:03.566578Z",
     "shell.execute_reply.started": "2021-10-17T09:58:03.539985Z"
    }
   },
   "outputs": [
    {
     "data": {
      "text/html": [
       "<div>\n",
       "<style scoped>\n",
       "    .dataframe tbody tr th:only-of-type {\n",
       "        vertical-align: middle;\n",
       "    }\n",
       "\n",
       "    .dataframe tbody tr th {\n",
       "        vertical-align: top;\n",
       "    }\n",
       "\n",
       "    .dataframe thead th {\n",
       "        text-align: right;\n",
       "    }\n",
       "</style>\n",
       "<table border=\"1\" class=\"dataframe\">\n",
       "  <thead>\n",
       "    <tr style=\"text-align: right;\">\n",
       "      <th></th>\n",
       "      <th>Cuisine Style</th>\n",
       "      <th>Ranking</th>\n",
       "      <th>Price Range</th>\n",
       "      <th>Number of Reviews</th>\n",
       "      <th>ID_TA</th>\n",
       "      <th>Rating</th>\n",
       "      <th>Number_of_Reviews_isNAN</th>\n",
       "      <th>days</th>\n",
       "      <th>days_until_today</th>\n",
       "      <th>rest_counts</th>\n",
       "      <th>...</th>\n",
       "      <th>Gastropub</th>\n",
       "      <th>German</th>\n",
       "      <th>Contemporary</th>\n",
       "      <th>Diner</th>\n",
       "      <th>Grill</th>\n",
       "      <th>Mexican</th>\n",
       "      <th>Latin</th>\n",
       "      <th>Belgian</th>\n",
       "      <th>Delicatessen</th>\n",
       "      <th>rare_cuisines</th>\n",
       "    </tr>\n",
       "  </thead>\n",
       "  <tbody>\n",
       "    <tr>\n",
       "      <th>0</th>\n",
       "      <td>2</td>\n",
       "      <td>12963.0</td>\n",
       "      <td>2</td>\n",
       "      <td>4.0</td>\n",
       "      <td>10746918</td>\n",
       "      <td>0.0</td>\n",
       "      <td>0</td>\n",
       "      <td>69</td>\n",
       "      <td>1627</td>\n",
       "      <td>6108</td>\n",
       "      <td>...</td>\n",
       "      <td>0</td>\n",
       "      <td>0</td>\n",
       "      <td>0</td>\n",
       "      <td>0</td>\n",
       "      <td>0</td>\n",
       "      <td>0</td>\n",
       "      <td>0</td>\n",
       "      <td>0</td>\n",
       "      <td>0</td>\n",
       "      <td>0</td>\n",
       "    </tr>\n",
       "    <tr>\n",
       "      <th>1</th>\n",
       "      <td>5</td>\n",
       "      <td>106.0</td>\n",
       "      <td>2</td>\n",
       "      <td>97.0</td>\n",
       "      <td>6674944</td>\n",
       "      <td>0.0</td>\n",
       "      <td>0</td>\n",
       "      <td>37</td>\n",
       "      <td>1412</td>\n",
       "      <td>475</td>\n",
       "      <td>...</td>\n",
       "      <td>0</td>\n",
       "      <td>0</td>\n",
       "      <td>0</td>\n",
       "      <td>0</td>\n",
       "      <td>0</td>\n",
       "      <td>0</td>\n",
       "      <td>0</td>\n",
       "      <td>0</td>\n",
       "      <td>0</td>\n",
       "      <td>0</td>\n",
       "    </tr>\n",
       "    <tr>\n",
       "      <th>2</th>\n",
       "      <td>1</td>\n",
       "      <td>810.0</td>\n",
       "      <td>2</td>\n",
       "      <td>28.0</td>\n",
       "      <td>13129638</td>\n",
       "      <td>0.0</td>\n",
       "      <td>0</td>\n",
       "      <td>22</td>\n",
       "      <td>1389</td>\n",
       "      <td>745</td>\n",
       "      <td>...</td>\n",
       "      <td>0</td>\n",
       "      <td>0</td>\n",
       "      <td>0</td>\n",
       "      <td>0</td>\n",
       "      <td>0</td>\n",
       "      <td>0</td>\n",
       "      <td>0</td>\n",
       "      <td>0</td>\n",
       "      <td>0</td>\n",
       "      <td>0</td>\n",
       "    </tr>\n",
       "    <tr>\n",
       "      <th>3</th>\n",
       "      <td>5</td>\n",
       "      <td>1669.0</td>\n",
       "      <td>3</td>\n",
       "      <td>202.0</td>\n",
       "      <td>680417</td>\n",
       "      <td>0.0</td>\n",
       "      <td>0</td>\n",
       "      <td>14</td>\n",
       "      <td>1411</td>\n",
       "      <td>7193</td>\n",
       "      <td>...</td>\n",
       "      <td>0</td>\n",
       "      <td>0</td>\n",
       "      <td>0</td>\n",
       "      <td>0</td>\n",
       "      <td>0</td>\n",
       "      <td>0</td>\n",
       "      <td>0</td>\n",
       "      <td>0</td>\n",
       "      <td>0</td>\n",
       "      <td>0</td>\n",
       "    </tr>\n",
       "    <tr>\n",
       "      <th>4</th>\n",
       "      <td>6</td>\n",
       "      <td>37.0</td>\n",
       "      <td>3</td>\n",
       "      <td>162.0</td>\n",
       "      <td>1112354</td>\n",
       "      <td>0.0</td>\n",
       "      <td>0</td>\n",
       "      <td>15</td>\n",
       "      <td>1347</td>\n",
       "      <td>380</td>\n",
       "      <td>...</td>\n",
       "      <td>0</td>\n",
       "      <td>0</td>\n",
       "      <td>0</td>\n",
       "      <td>0</td>\n",
       "      <td>0</td>\n",
       "      <td>0</td>\n",
       "      <td>0</td>\n",
       "      <td>0</td>\n",
       "      <td>0</td>\n",
       "      <td>0</td>\n",
       "    </tr>\n",
       "    <tr>\n",
       "      <th>5</th>\n",
       "      <td>3</td>\n",
       "      <td>5093.0</td>\n",
       "      <td>1</td>\n",
       "      <td>24.0</td>\n",
       "      <td>8458643</td>\n",
       "      <td>0.0</td>\n",
       "      <td>0</td>\n",
       "      <td>5</td>\n",
       "      <td>1501</td>\n",
       "      <td>6108</td>\n",
       "      <td>...</td>\n",
       "      <td>0</td>\n",
       "      <td>0</td>\n",
       "      <td>0</td>\n",
       "      <td>0</td>\n",
       "      <td>0</td>\n",
       "      <td>0</td>\n",
       "      <td>0</td>\n",
       "      <td>0</td>\n",
       "      <td>0</td>\n",
       "      <td>0</td>\n",
       "    </tr>\n",
       "    <tr>\n",
       "      <th>6</th>\n",
       "      <td>2</td>\n",
       "      <td>3704.0</td>\n",
       "      <td>1</td>\n",
       "      <td>2.0</td>\n",
       "      <td>8758873</td>\n",
       "      <td>0.0</td>\n",
       "      <td>0</td>\n",
       "      <td>69</td>\n",
       "      <td>1627</td>\n",
       "      <td>1647</td>\n",
       "      <td>...</td>\n",
       "      <td>0</td>\n",
       "      <td>0</td>\n",
       "      <td>0</td>\n",
       "      <td>0</td>\n",
       "      <td>0</td>\n",
       "      <td>0</td>\n",
       "      <td>0</td>\n",
       "      <td>0</td>\n",
       "      <td>0</td>\n",
       "      <td>0</td>\n",
       "    </tr>\n",
       "    <tr>\n",
       "      <th>7</th>\n",
       "      <td>1</td>\n",
       "      <td>2330.0</td>\n",
       "      <td>2</td>\n",
       "      <td>0.0</td>\n",
       "      <td>8286886</td>\n",
       "      <td>0.0</td>\n",
       "      <td>1</td>\n",
       "      <td>69</td>\n",
       "      <td>1627</td>\n",
       "      <td>1021</td>\n",
       "      <td>...</td>\n",
       "      <td>0</td>\n",
       "      <td>0</td>\n",
       "      <td>0</td>\n",
       "      <td>0</td>\n",
       "      <td>0</td>\n",
       "      <td>0</td>\n",
       "      <td>0</td>\n",
       "      <td>0</td>\n",
       "      <td>0</td>\n",
       "      <td>0</td>\n",
       "    </tr>\n",
       "    <tr>\n",
       "      <th>8</th>\n",
       "      <td>2</td>\n",
       "      <td>771.0</td>\n",
       "      <td>2</td>\n",
       "      <td>2.0</td>\n",
       "      <td>12947542</td>\n",
       "      <td>0.0</td>\n",
       "      <td>0</td>\n",
       "      <td>88</td>\n",
       "      <td>1379</td>\n",
       "      <td>475</td>\n",
       "      <td>...</td>\n",
       "      <td>0</td>\n",
       "      <td>0</td>\n",
       "      <td>0</td>\n",
       "      <td>0</td>\n",
       "      <td>0</td>\n",
       "      <td>0</td>\n",
       "      <td>0</td>\n",
       "      <td>0</td>\n",
       "      <td>0</td>\n",
       "      <td>0</td>\n",
       "    </tr>\n",
       "    <tr>\n",
       "      <th>9</th>\n",
       "      <td>1</td>\n",
       "      <td>605.0</td>\n",
       "      <td>2</td>\n",
       "      <td>13.0</td>\n",
       "      <td>12716384</td>\n",
       "      <td>0.0</td>\n",
       "      <td>0</td>\n",
       "      <td>34</td>\n",
       "      <td>1415</td>\n",
       "      <td>1033</td>\n",
       "      <td>...</td>\n",
       "      <td>0</td>\n",
       "      <td>0</td>\n",
       "      <td>0</td>\n",
       "      <td>0</td>\n",
       "      <td>0</td>\n",
       "      <td>0</td>\n",
       "      <td>0</td>\n",
       "      <td>0</td>\n",
       "      <td>0</td>\n",
       "      <td>0</td>\n",
       "    </tr>\n",
       "  </tbody>\n",
       "</table>\n",
       "<p>10 rows × 106 columns</p>\n",
       "</div>"
      ],
      "text/plain": [
       "   Cuisine Style  Ranking  Price Range  Number of Reviews     ID_TA  Rating  \\\n",
       "0              2  12963.0            2                4.0  10746918     0.0   \n",
       "1              5    106.0            2               97.0   6674944     0.0   \n",
       "2              1    810.0            2               28.0  13129638     0.0   \n",
       "3              5   1669.0            3              202.0    680417     0.0   \n",
       "4              6     37.0            3              162.0   1112354     0.0   \n",
       "5              3   5093.0            1               24.0   8458643     0.0   \n",
       "6              2   3704.0            1                2.0   8758873     0.0   \n",
       "7              1   2330.0            2                0.0   8286886     0.0   \n",
       "8              2    771.0            2                2.0  12947542     0.0   \n",
       "9              1    605.0            2               13.0  12716384     0.0   \n",
       "\n",
       "   Number_of_Reviews_isNAN  days  days_until_today  rest_counts  ...  \\\n",
       "0                        0    69              1627         6108  ...   \n",
       "1                        0    37              1412          475  ...   \n",
       "2                        0    22              1389          745  ...   \n",
       "3                        0    14              1411         7193  ...   \n",
       "4                        0    15              1347          380  ...   \n",
       "5                        0     5              1501         6108  ...   \n",
       "6                        0    69              1627         1647  ...   \n",
       "7                        1    69              1627         1021  ...   \n",
       "8                        0    88              1379          475  ...   \n",
       "9                        0    34              1415         1033  ...   \n",
       "\n",
       "   Gastropub  German  Contemporary  Diner  Grill  Mexican  Latin  Belgian  \\\n",
       "0          0       0             0      0      0        0      0        0   \n",
       "1          0       0             0      0      0        0      0        0   \n",
       "2          0       0             0      0      0        0      0        0   \n",
       "3          0       0             0      0      0        0      0        0   \n",
       "4          0       0             0      0      0        0      0        0   \n",
       "5          0       0             0      0      0        0      0        0   \n",
       "6          0       0             0      0      0        0      0        0   \n",
       "7          0       0             0      0      0        0      0        0   \n",
       "8          0       0             0      0      0        0      0        0   \n",
       "9          0       0             0      0      0        0      0        0   \n",
       "\n",
       "   Delicatessen  rare_cuisines  \n",
       "0             0              0  \n",
       "1             0              0  \n",
       "2             0              0  \n",
       "3             0              0  \n",
       "4             0              0  \n",
       "5             0              0  \n",
       "6             0              0  \n",
       "7             0              0  \n",
       "8             0              0  \n",
       "9             0              0  \n",
       "\n",
       "[10 rows x 106 columns]"
      ]
     },
     "execution_count": 74,
     "metadata": {},
     "output_type": "execute_result"
    }
   ],
   "source": [
    "test_data.head(10)"
   ]
  },
  {
   "cell_type": "code",
   "execution_count": 75,
   "metadata": {
    "execution": {
     "iopub.execute_input": "2021-10-17T09:58:06.692549Z",
     "iopub.status.busy": "2021-10-17T09:58:06.692116Z",
     "iopub.status.idle": "2021-10-17T09:58:06.701333Z",
     "shell.execute_reply": "2021-10-17T09:58:06.700349Z",
     "shell.execute_reply.started": "2021-10-17T09:58:06.692509Z"
    }
   },
   "outputs": [],
   "source": [
    "test_data = test_data.drop(['Rating'], axis=1)"
   ]
  },
  {
   "cell_type": "code",
   "execution_count": 76,
   "metadata": {
    "execution": {
     "iopub.execute_input": "2021-10-17T09:58:07.900416Z",
     "iopub.status.busy": "2021-10-17T09:58:07.899929Z",
     "iopub.status.idle": "2021-10-17T09:58:07.912670Z",
     "shell.execute_reply": "2021-10-17T09:58:07.911999Z",
     "shell.execute_reply.started": "2021-10-17T09:58:07.900366Z"
    }
   },
   "outputs": [
    {
     "data": {
      "text/html": [
       "<div>\n",
       "<style scoped>\n",
       "    .dataframe tbody tr th:only-of-type {\n",
       "        vertical-align: middle;\n",
       "    }\n",
       "\n",
       "    .dataframe tbody tr th {\n",
       "        vertical-align: top;\n",
       "    }\n",
       "\n",
       "    .dataframe thead th {\n",
       "        text-align: right;\n",
       "    }\n",
       "</style>\n",
       "<table border=\"1\" class=\"dataframe\">\n",
       "  <thead>\n",
       "    <tr style=\"text-align: right;\">\n",
       "      <th></th>\n",
       "      <th>Restaurant_id</th>\n",
       "      <th>Rating</th>\n",
       "    </tr>\n",
       "  </thead>\n",
       "  <tbody>\n",
       "    <tr>\n",
       "      <th>0</th>\n",
       "      <td>id_0</td>\n",
       "      <td>2.0</td>\n",
       "    </tr>\n",
       "    <tr>\n",
       "      <th>1</th>\n",
       "      <td>id_1</td>\n",
       "      <td>2.5</td>\n",
       "    </tr>\n",
       "    <tr>\n",
       "      <th>2</th>\n",
       "      <td>id_2</td>\n",
       "      <td>4.0</td>\n",
       "    </tr>\n",
       "    <tr>\n",
       "      <th>3</th>\n",
       "      <td>id_3</td>\n",
       "      <td>1.0</td>\n",
       "    </tr>\n",
       "    <tr>\n",
       "      <th>4</th>\n",
       "      <td>id_4</td>\n",
       "      <td>4.0</td>\n",
       "    </tr>\n",
       "    <tr>\n",
       "      <th>...</th>\n",
       "      <td>...</td>\n",
       "      <td>...</td>\n",
       "    </tr>\n",
       "    <tr>\n",
       "      <th>9995</th>\n",
       "      <td>id_9995</td>\n",
       "      <td>3.0</td>\n",
       "    </tr>\n",
       "    <tr>\n",
       "      <th>9996</th>\n",
       "      <td>id_9996</td>\n",
       "      <td>1.5</td>\n",
       "    </tr>\n",
       "    <tr>\n",
       "      <th>9997</th>\n",
       "      <td>id_9997</td>\n",
       "      <td>4.5</td>\n",
       "    </tr>\n",
       "    <tr>\n",
       "      <th>9998</th>\n",
       "      <td>id_9998</td>\n",
       "      <td>1.0</td>\n",
       "    </tr>\n",
       "    <tr>\n",
       "      <th>9999</th>\n",
       "      <td>id_9999</td>\n",
       "      <td>2.5</td>\n",
       "    </tr>\n",
       "  </tbody>\n",
       "</table>\n",
       "<p>10000 rows × 2 columns</p>\n",
       "</div>"
      ],
      "text/plain": [
       "     Restaurant_id  Rating\n",
       "0             id_0     2.0\n",
       "1             id_1     2.5\n",
       "2             id_2     4.0\n",
       "3             id_3     1.0\n",
       "4             id_4     4.0\n",
       "...            ...     ...\n",
       "9995       id_9995     3.0\n",
       "9996       id_9996     1.5\n",
       "9997       id_9997     4.5\n",
       "9998       id_9998     1.0\n",
       "9999       id_9999     2.5\n",
       "\n",
       "[10000 rows x 2 columns]"
      ]
     },
     "execution_count": 76,
     "metadata": {},
     "output_type": "execute_result"
    }
   ],
   "source": [
    "sample_submission"
   ]
  },
  {
   "cell_type": "code",
   "execution_count": 77,
   "metadata": {
    "execution": {
     "iopub.execute_input": "2021-10-17T09:58:10.859047Z",
     "iopub.status.busy": "2021-10-17T09:58:10.858573Z",
     "iopub.status.idle": "2021-10-17T09:58:11.073053Z",
     "shell.execute_reply": "2021-10-17T09:58:11.072057Z",
     "shell.execute_reply.started": "2021-10-17T09:58:10.859001Z"
    }
   },
   "outputs": [
    {
     "name": "stderr",
     "output_type": "stream",
     "text": [
      "[Parallel(n_jobs=4)]: Using backend ThreadingBackend with 4 concurrent workers.\n",
      "[Parallel(n_jobs=4)]: Done  42 tasks      | elapsed:    0.1s\n",
      "[Parallel(n_jobs=4)]: Done 100 out of 100 | elapsed:    0.1s finished\n"
     ]
    }
   ],
   "source": [
    "predict_submission = model.predict(test_data)"
   ]
  },
  {
   "cell_type": "code",
   "execution_count": 78,
   "metadata": {
    "execution": {
     "iopub.execute_input": "2021-10-17T09:58:15.018335Z",
     "iopub.status.busy": "2021-10-17T09:58:15.018046Z",
     "iopub.status.idle": "2021-10-17T09:58:15.024396Z",
     "shell.execute_reply": "2021-10-17T09:58:15.023458Z",
     "shell.execute_reply.started": "2021-10-17T09:58:15.018300Z"
    }
   },
   "outputs": [
    {
     "data": {
      "text/plain": [
       "array([3.015, 4.175, 4.51 , ..., 3.015, 4.495, 4.245])"
      ]
     },
     "execution_count": 78,
     "metadata": {},
     "output_type": "execute_result"
    }
   ],
   "source": [
    "predict_submission"
   ]
  },
  {
   "cell_type": "code",
   "execution_count": 79,
   "metadata": {
    "execution": {
     "iopub.execute_input": "2021-10-17T09:58:16.996290Z",
     "iopub.status.busy": "2021-10-17T09:58:16.995708Z",
     "iopub.status.idle": "2021-10-17T09:58:17.429115Z",
     "shell.execute_reply": "2021-10-17T09:58:17.428120Z",
     "shell.execute_reply.started": "2021-10-17T09:58:16.996242Z"
    }
   },
   "outputs": [
    {
     "data": {
      "text/html": [
       "<div>\n",
       "<style scoped>\n",
       "    .dataframe tbody tr th:only-of-type {\n",
       "        vertical-align: middle;\n",
       "    }\n",
       "\n",
       "    .dataframe tbody tr th {\n",
       "        vertical-align: top;\n",
       "    }\n",
       "\n",
       "    .dataframe thead th {\n",
       "        text-align: right;\n",
       "    }\n",
       "</style>\n",
       "<table border=\"1\" class=\"dataframe\">\n",
       "  <thead>\n",
       "    <tr style=\"text-align: right;\">\n",
       "      <th></th>\n",
       "      <th>Restaurant_id</th>\n",
       "      <th>Rating</th>\n",
       "    </tr>\n",
       "  </thead>\n",
       "  <tbody>\n",
       "    <tr>\n",
       "      <th>0</th>\n",
       "      <td>id_0</td>\n",
       "      <td>3.015</td>\n",
       "    </tr>\n",
       "    <tr>\n",
       "      <th>1</th>\n",
       "      <td>id_1</td>\n",
       "      <td>4.175</td>\n",
       "    </tr>\n",
       "    <tr>\n",
       "      <th>2</th>\n",
       "      <td>id_2</td>\n",
       "      <td>4.510</td>\n",
       "    </tr>\n",
       "    <tr>\n",
       "      <th>3</th>\n",
       "      <td>id_3</td>\n",
       "      <td>4.390</td>\n",
       "    </tr>\n",
       "    <tr>\n",
       "      <th>4</th>\n",
       "      <td>id_4</td>\n",
       "      <td>4.430</td>\n",
       "    </tr>\n",
       "    <tr>\n",
       "      <th>5</th>\n",
       "      <td>id_5</td>\n",
       "      <td>4.450</td>\n",
       "    </tr>\n",
       "    <tr>\n",
       "      <th>6</th>\n",
       "      <td>id_6</td>\n",
       "      <td>2.015</td>\n",
       "    </tr>\n",
       "    <tr>\n",
       "      <th>7</th>\n",
       "      <td>id_7</td>\n",
       "      <td>2.375</td>\n",
       "    </tr>\n",
       "    <tr>\n",
       "      <th>8</th>\n",
       "      <td>id_8</td>\n",
       "      <td>4.060</td>\n",
       "    </tr>\n",
       "    <tr>\n",
       "      <th>9</th>\n",
       "      <td>id_9</td>\n",
       "      <td>4.550</td>\n",
       "    </tr>\n",
       "  </tbody>\n",
       "</table>\n",
       "</div>"
      ],
      "text/plain": [
       "  Restaurant_id  Rating\n",
       "0          id_0   3.015\n",
       "1          id_1   4.175\n",
       "2          id_2   4.510\n",
       "3          id_3   4.390\n",
       "4          id_4   4.430\n",
       "5          id_5   4.450\n",
       "6          id_6   2.015\n",
       "7          id_7   2.375\n",
       "8          id_8   4.060\n",
       "9          id_9   4.550"
      ]
     },
     "execution_count": 79,
     "metadata": {},
     "output_type": "execute_result"
    }
   ],
   "source": [
    "sample_submission['Rating'] = predict_submission\n",
    "sample_submission.to_csv('submission.csv', index=False)\n",
    "sample_submission.head(10)"
   ]
  },
  {
   "cell_type": "markdown",
   "metadata": {},
   "source": [
    "# What's next?\n",
    "Или что делать, чтоб улучшить результат:\n",
    "* Обработать оставшиеся признаки в понятный для машины формат\n",
    "* Посмотреть, что еще можно извлечь из признаков\n",
    "* Сгенерировать новые признаки\n",
    "* Подгрузить дополнительные данные, например: по населению или благосостоянию городов\n",
    "* Подобрать состав признаков\n",
    "\n",
    "В общем, процесс творческий и весьма увлекательный! Удачи в соревновании!\n"
   ]
  },
  {
   "cell_type": "code",
   "execution_count": null,
   "metadata": {},
   "outputs": [],
   "source": []
  }
 ],
 "metadata": {
  "kernelspec": {
   "display_name": "Python 3",
   "language": "python",
   "name": "python3"
  },
  "language_info": {
   "codemirror_mode": {
    "name": "ipython",
    "version": 3
   },
   "file_extension": ".py",
   "mimetype": "text/x-python",
   "name": "python",
   "nbconvert_exporter": "python",
   "pygments_lexer": "ipython3",
   "version": "3.6.6"
  }
 },
 "nbformat": 4,
 "nbformat_minor": 4
}
