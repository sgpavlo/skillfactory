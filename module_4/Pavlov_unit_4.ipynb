{
 "cells": [
  {
   "cell_type": "markdown",
   "metadata": {},
   "source": [
    "Цель проекта:\n",
    "Необходиомо выяснить, от каких самых малоприбыльных рейсов из Анапы мы можем отказаться в зимнее время."
   ]
  },
  {
   "cell_type": "markdown",
   "metadata": {},
   "source": [
    "Ознакомление с данными выведенных из SQL"
   ]
  },
  {
   "cell_type": "markdown",
   "metadata": {},
   "source": [
    "Датасет из SQL состоит из:\n",
    "\n",
    "model - модель самолёта\n",
    "aircraft_code - модель самолета идентифицируется своим трёхзначным кодом\n",
    "range - максимальная дальность полёта в километрах\n",
    "seat_count - количество мест в самолете\n",
    "occupancy_count - количество занятых мест пассажирами\n",
    "occupancy_rate - загруженность самолета пассажирами (occupied_seats/all_seats).\n",
    "flight_id - суррогатный ключ используется в качестве первичного\n",
    "revenue_sum - сумма дохода от продаж билетов\n",
    "city - город прибытия\n",
    "airport_name - название аэропарта прибытия\n",
    "longitude - долгота\n",
    "latitude - широта\n",
    "scheduled_departure - время вылета\n",
    "scheduled_arrival - время прилета\n",
    "arrival_airport - город прилета\n",
    "actual_departure - фактическое время отправления\n",
    "actual_arrival - фактическое время прибытия\n",
    "fly_time - время полета\n",
    "\n",
    "departure_airport (AAQ) - город вылета (Анапа) (Anapa has longitude = 37.35, latitude = 45)"
   ]
  },
  {
   "cell_type": "code",
   "execution_count": 77,
   "metadata": {},
   "outputs": [],
   "source": [
    "import pandas as pd\n",
    "import matplotlib.pyplot as plt\n",
    "import seaborn as sns\n",
    "from math import radians, sin, cos, asin, sqrt"
   ]
  },
  {
   "cell_type": "code",
   "execution_count": 78,
   "metadata": {},
   "outputs": [],
   "source": [
    "pd.set_option('display.max_rows', 50)  # показывать больше строк\n",
    "pd.set_option('display.max_columns', 50)  # показывать больше колонок"
   ]
  },
  {
   "cell_type": "code",
   "execution_count": 115,
   "metadata": {},
   "outputs": [],
   "source": [
    "data = pd.read_csv('query_pavlov.csv')"
   ]
  },
  {
   "cell_type": "code",
   "execution_count": 117,
   "metadata": {},
   "outputs": [
    {
     "name": "stdout",
     "output_type": "stream",
     "text": [
      "<class 'pandas.core.frame.DataFrame'>\n",
      "RangeIndex: 118 entries, 0 to 117\n",
      "Data columns (total 18 columns):\n",
      " #   Column               Non-Null Count  Dtype  \n",
      "---  ------               --------------  -----  \n",
      " 0   model                118 non-null    object \n",
      " 1   aircraft_code        118 non-null    object \n",
      " 2   range                118 non-null    int64  \n",
      " 3   seat_count           118 non-null    int64  \n",
      " 4   occupancy_count      118 non-null    int64  \n",
      " 5   occupancy_rate       118 non-null    float64\n",
      " 6   flight_id            118 non-null    int64  \n",
      " 7   revenue_sum          118 non-null    float64\n",
      " 8   city                 118 non-null    object \n",
      " 9   airport_name         118 non-null    object \n",
      " 10  longitude            118 non-null    float64\n",
      " 11  latitude             118 non-null    float64\n",
      " 12  scheduled_departure  118 non-null    object \n",
      " 13  scheduled_arrival    118 non-null    object \n",
      " 14  arrival_airport      118 non-null    object \n",
      " 15  actual_departure     118 non-null    object \n",
      " 16  actual_arrival       118 non-null    object \n",
      " 17  fly_time             118 non-null    object \n",
      "dtypes: float64(4), int64(4), object(10)\n",
      "memory usage: 16.7+ KB\n"
     ]
    }
   ],
   "source": [
    "data.info()"
   ]
  },
  {
   "cell_type": "code",
   "execution_count": 118,
   "metadata": {},
   "outputs": [
    {
     "data": {
      "text/html": [
       "<div>\n",
       "<style scoped>\n",
       "    .dataframe tbody tr th:only-of-type {\n",
       "        vertical-align: middle;\n",
       "    }\n",
       "\n",
       "    .dataframe tbody tr th {\n",
       "        vertical-align: top;\n",
       "    }\n",
       "\n",
       "    .dataframe thead th {\n",
       "        text-align: right;\n",
       "    }\n",
       "</style>\n",
       "<table border=\"1\" class=\"dataframe\">\n",
       "  <thead>\n",
       "    <tr style=\"text-align: right;\">\n",
       "      <th></th>\n",
       "      <th>model</th>\n",
       "      <th>aircraft_code</th>\n",
       "      <th>range</th>\n",
       "      <th>seat_count</th>\n",
       "      <th>occupancy_count</th>\n",
       "      <th>occupancy_rate</th>\n",
       "      <th>flight_id</th>\n",
       "      <th>revenue_sum</th>\n",
       "      <th>city</th>\n",
       "      <th>airport_name</th>\n",
       "      <th>longitude</th>\n",
       "      <th>latitude</th>\n",
       "      <th>scheduled_departure</th>\n",
       "      <th>scheduled_arrival</th>\n",
       "      <th>arrival_airport</th>\n",
       "      <th>actual_departure</th>\n",
       "      <th>actual_arrival</th>\n",
       "      <th>fly_time</th>\n",
       "    </tr>\n",
       "  </thead>\n",
       "  <tbody>\n",
       "    <tr>\n",
       "      <th>48</th>\n",
       "      <td>Boeing 737-300</td>\n",
       "      <td>733</td>\n",
       "      <td>4200</td>\n",
       "      <td>130</td>\n",
       "      <td>124</td>\n",
       "      <td>0.953846</td>\n",
       "      <td>136436</td>\n",
       "      <td>1811600.0</td>\n",
       "      <td>Moscow</td>\n",
       "      <td>Sheremetyevo International Airport</td>\n",
       "      <td>37.414600</td>\n",
       "      <td>55.972599</td>\n",
       "      <td>2017-01-26T10:05:00Z</td>\n",
       "      <td>2017-01-26T11:45:00Z</td>\n",
       "      <td>SVO</td>\n",
       "      <td>2017-01-26T10:08:00Z</td>\n",
       "      <td>2017-01-26T11:47:00Z</td>\n",
       "      <td>0 years 0 mons 0 days 1 hours 39 mins 0.00 secs</td>\n",
       "    </tr>\n",
       "    <tr>\n",
       "      <th>13</th>\n",
       "      <td>Boeing 737-300</td>\n",
       "      <td>733</td>\n",
       "      <td>4200</td>\n",
       "      <td>130</td>\n",
       "      <td>118</td>\n",
       "      <td>0.907692</td>\n",
       "      <td>136181</td>\n",
       "      <td>1689600.0</td>\n",
       "      <td>Moscow</td>\n",
       "      <td>Sheremetyevo International Airport</td>\n",
       "      <td>37.414600</td>\n",
       "      <td>55.972599</td>\n",
       "      <td>2017-01-31T10:05:00Z</td>\n",
       "      <td>2017-01-31T11:45:00Z</td>\n",
       "      <td>SVO</td>\n",
       "      <td>2017-01-31T10:05:00Z</td>\n",
       "      <td>2017-01-31T11:44:00Z</td>\n",
       "      <td>0 years 0 mons 0 days 1 hours 39 mins 0.00 secs</td>\n",
       "    </tr>\n",
       "    <tr>\n",
       "      <th>57</th>\n",
       "      <td>Boeing 737-300</td>\n",
       "      <td>733</td>\n",
       "      <td>4200</td>\n",
       "      <td>130</td>\n",
       "      <td>106</td>\n",
       "      <td>0.815385</td>\n",
       "      <td>136485</td>\n",
       "      <td>1520000.0</td>\n",
       "      <td>Moscow</td>\n",
       "      <td>Sheremetyevo International Airport</td>\n",
       "      <td>37.414600</td>\n",
       "      <td>55.972599</td>\n",
       "      <td>2017-01-27T10:05:00Z</td>\n",
       "      <td>2017-01-27T11:45:00Z</td>\n",
       "      <td>SVO</td>\n",
       "      <td>2017-01-27T10:07:00Z</td>\n",
       "      <td>2017-01-27T11:47:00Z</td>\n",
       "      <td>0 years 0 mons 0 days 1 hours 40 mins 0.00 secs</td>\n",
       "    </tr>\n",
       "    <tr>\n",
       "      <th>100</th>\n",
       "      <td>Sukhoi Superjet-100</td>\n",
       "      <td>SU9</td>\n",
       "      <td>3000</td>\n",
       "      <td>97</td>\n",
       "      <td>79</td>\n",
       "      <td>0.814433</td>\n",
       "      <td>136844</td>\n",
       "      <td>575100.0</td>\n",
       "      <td>Belgorod</td>\n",
       "      <td>Belgorod International Airport</td>\n",
       "      <td>36.590099</td>\n",
       "      <td>50.643799</td>\n",
       "      <td>2017-02-28T09:25:00Z</td>\n",
       "      <td>2017-02-28T10:15:00Z</td>\n",
       "      <td>EGO</td>\n",
       "      <td>2017-02-28T09:26:00Z</td>\n",
       "      <td>2017-02-28T10:16:00Z</td>\n",
       "      <td>0 years 0 mons 0 days 0 hours 50 mins 0.00 secs</td>\n",
       "    </tr>\n",
       "    <tr>\n",
       "      <th>74</th>\n",
       "      <td>Sukhoi Superjet-100</td>\n",
       "      <td>SU9</td>\n",
       "      <td>3000</td>\n",
       "      <td>97</td>\n",
       "      <td>87</td>\n",
       "      <td>0.896907</td>\n",
       "      <td>136666</td>\n",
       "      <td>664500.0</td>\n",
       "      <td>Belgorod</td>\n",
       "      <td>Belgorod International Airport</td>\n",
       "      <td>36.590099</td>\n",
       "      <td>50.643799</td>\n",
       "      <td>2017-02-09T09:25:00Z</td>\n",
       "      <td>2017-02-09T10:15:00Z</td>\n",
       "      <td>EGO</td>\n",
       "      <td>2017-02-09T09:26:00Z</td>\n",
       "      <td>2017-02-09T10:16:00Z</td>\n",
       "      <td>0 years 0 mons 0 days 0 hours 50 mins 0.00 secs</td>\n",
       "    </tr>\n",
       "  </tbody>\n",
       "</table>\n",
       "</div>"
      ],
      "text/plain": [
       "                   model aircraft_code  range  seat_count  occupancy_count  \\\n",
       "48        Boeing 737-300           733   4200         130              124   \n",
       "13        Boeing 737-300           733   4200         130              118   \n",
       "57        Boeing 737-300           733   4200         130              106   \n",
       "100  Sukhoi Superjet-100           SU9   3000          97               79   \n",
       "74   Sukhoi Superjet-100           SU9   3000          97               87   \n",
       "\n",
       "     occupancy_rate  flight_id  revenue_sum      city  \\\n",
       "48         0.953846     136436    1811600.0    Moscow   \n",
       "13         0.907692     136181    1689600.0    Moscow   \n",
       "57         0.815385     136485    1520000.0    Moscow   \n",
       "100        0.814433     136844     575100.0  Belgorod   \n",
       "74         0.896907     136666     664500.0  Belgorod   \n",
       "\n",
       "                           airport_name  longitude   latitude  \\\n",
       "48   Sheremetyevo International Airport  37.414600  55.972599   \n",
       "13   Sheremetyevo International Airport  37.414600  55.972599   \n",
       "57   Sheremetyevo International Airport  37.414600  55.972599   \n",
       "100      Belgorod International Airport  36.590099  50.643799   \n",
       "74       Belgorod International Airport  36.590099  50.643799   \n",
       "\n",
       "      scheduled_departure     scheduled_arrival arrival_airport  \\\n",
       "48   2017-01-26T10:05:00Z  2017-01-26T11:45:00Z             SVO   \n",
       "13   2017-01-31T10:05:00Z  2017-01-31T11:45:00Z             SVO   \n",
       "57   2017-01-27T10:05:00Z  2017-01-27T11:45:00Z             SVO   \n",
       "100  2017-02-28T09:25:00Z  2017-02-28T10:15:00Z             EGO   \n",
       "74   2017-02-09T09:25:00Z  2017-02-09T10:15:00Z             EGO   \n",
       "\n",
       "         actual_departure        actual_arrival  \\\n",
       "48   2017-01-26T10:08:00Z  2017-01-26T11:47:00Z   \n",
       "13   2017-01-31T10:05:00Z  2017-01-31T11:44:00Z   \n",
       "57   2017-01-27T10:07:00Z  2017-01-27T11:47:00Z   \n",
       "100  2017-02-28T09:26:00Z  2017-02-28T10:16:00Z   \n",
       "74   2017-02-09T09:26:00Z  2017-02-09T10:16:00Z   \n",
       "\n",
       "                                            fly_time  \n",
       "48   0 years 0 mons 0 days 1 hours 39 mins 0.00 secs  \n",
       "13   0 years 0 mons 0 days 1 hours 39 mins 0.00 secs  \n",
       "57   0 years 0 mons 0 days 1 hours 40 mins 0.00 secs  \n",
       "100  0 years 0 mons 0 days 0 hours 50 mins 0.00 secs  \n",
       "74   0 years 0 mons 0 days 0 hours 50 mins 0.00 secs  "
      ]
     },
     "execution_count": 118,
     "metadata": {},
     "output_type": "execute_result"
    }
   ],
   "source": [
    "data.sample(5)"
   ]
  },
  {
   "cell_type": "markdown",
   "metadata": {},
   "source": [
    "Какие самолеты куда летят и по сколько рейсов?"
   ]
  },
  {
   "cell_type": "code",
   "execution_count": 119,
   "metadata": {},
   "outputs": [
    {
     "data": {
      "text/plain": [
       "city      model              \n",
       "Belgorod  Sukhoi Superjet-100    59\n",
       "Moscow    Boeing 737-300         59\n",
       "Name: flight_id, dtype: int64"
      ]
     },
     "execution_count": 119,
     "metadata": {},
     "output_type": "execute_result"
    }
   ],
   "source": [
    "data.groupby(['city', 'model']).flight_id.count()"
   ]
  },
  {
   "cell_type": "markdown",
   "metadata": {},
   "source": [
    "Создание дополнительных признаков"
   ]
  },
  {
   "cell_type": "markdown",
   "metadata": {},
   "source": [
    "Самая простая модель оценки прибыльности: стоимость билетов - стоимость топлива на рейс (для оценки последнего вам необходим километраж рейса или длительность полета)."
   ]
  },
  {
   "cell_type": "markdown",
   "metadata": {},
   "source": [
    "Считаем расстояние между городами.\n",
    "Зная широту и долготу аэропортов можем посчитать расстояние между ними. Для этого используем формулу Хаверсина."
   ]
  },
  {
   "cell_type": "code",
   "execution_count": 120,
   "metadata": {},
   "outputs": [],
   "source": [
    "def haversine(lon1, lat1, lon2, lat2):\n",
    "    lon1, lat1, lon2, lat2 = map(radians, [lon1, lat1, lon2, lat2])   # переводим градусы в радианы.\n",
    "    lon = lon2 - lon1\n",
    "    lat = lat2 - lat1\n",
    "    a = sin(lat/2)**2 + cos(lat1) * cos(lat2) * sin(lon/2) ** 2\n",
    "    c = 2 * asin(sqrt(a))\n",
    "    earth_radius = 6371 \n",
    "    return round(c * earth_radius, 2)"
   ]
  },
  {
   "cell_type": "code",
   "execution_count": 121,
   "metadata": {},
   "outputs": [],
   "source": [
    "# создадим новый признак - расстояние между городами\n",
    "data['distance'] = data.apply(lambda row: \n",
    "                                      haversine(lon1 = 37.35, \n",
    "                                                lat1 = 45,\n",
    "                                                lon2 = row['longitude'], \n",
    "                                                lat2 = row['latitude']), \n",
    "                                      axis=1)"
   ]
  },
  {
   "cell_type": "markdown",
   "metadata": {},
   "source": [
    "Добавим расход топлива из внешних источников для каждой модели самолета\n",
    "https://en.wikipedia.org/wiki/Fuel_economy_in_aircraft"
   ]
  },
  {
   "cell_type": "markdown",
   "metadata": {},
   "source": [
    "Расход топлива на километр\n",
    "Boeing 737-300           3.49 kg/km\n",
    "Sukhoi Superjet-100      2.81 kg/km"
   ]
  },
  {
   "cell_type": "code",
   "execution_count": 122,
   "metadata": {},
   "outputs": [],
   "source": [
    "# функция для расчета расхода топлива для каждого полета\n",
    "def fuel_consumption(aircraft_code, distance):\n",
    "    B737 = 3.49\n",
    "    SSJ = 2.81\n",
    "    if aircraft_code == '733':\n",
    "        return distance*B737\n",
    "    return distance*SSJ"
   ]
  },
  {
   "cell_type": "code",
   "execution_count": 123,
   "metadata": {},
   "outputs": [],
   "source": [
    "# новый признак - расхода топлива на полет\n",
    "data['fuel_consumption'] = data.apply(lambda row:\n",
    "                                 fuel_consumption(row['aircraft_code'],\n",
    "                                                  row['distance']), \n",
    "                                 axis=1)"
   ]
  },
  {
   "cell_type": "markdown",
   "metadata": {},
   "source": [
    "Стоимость авиационого керасина: на январь 2017: 41.45/литр (c НДС), на февраль 2017: 39,55/литр; декабрь 2017 года: 47.1/литр (c НДС)"
   ]
  },
  {
   "cell_type": "markdown",
   "metadata": {},
   "source": [
    "Считаем прибыльность рейса:\n",
    "стоимость билетов(sum_amount) - стоимость топлива на рейс(fuel_burn)"
   ]
  },
  {
   "cell_type": "code",
   "execution_count": 124,
   "metadata": {},
   "outputs": [],
   "source": [
    "data.actual_departure = pd.to_datetime(data.actual_departure) # переведем в нужный формат времени"
   ]
  },
  {
   "cell_type": "code",
   "execution_count": 125,
   "metadata": {},
   "outputs": [],
   "source": [
    "# функция для расчета прибыли с рейса\n",
    "def profit(revenue_sum, fuel_consumption, actual_departure):\n",
    "    dec = 47.1                                               # стоимость топлива в декабре \n",
    "    jan = 41.45                                              # стоимость топлива январь, ферваль\n",
    "    feb = 39.55                                              # стоимость топлива январь, ферваль\n",
    "    if actual_departure.month == 12:\n",
    "        return round(revenue_sum - fuel_consumption*dec, 3)\n",
    "    elif actual_departure.month == 1:\n",
    "        return round(revenue_sum - fuel_consumption*jan, 3)\n",
    "    else:\n",
    "        return round(revenue_sum - fuel_consumption*feb, 3)"
   ]
  },
  {
   "cell_type": "code",
   "execution_count": 126,
   "metadata": {},
   "outputs": [],
   "source": [
    "# новый признак - прибыль с полета\n",
    "data ['profit'] = data.apply(lambda row:\n",
    "                            profit(row['revenue_sum'],\n",
    "                                   row['fuel_consumption'],\n",
    "                                   row['actual_departure']),\n",
    "                            axis = 1)"
   ]
  },
  {
   "cell_type": "code",
   "execution_count": 127,
   "metadata": {},
   "outputs": [
    {
     "data": {
      "text/html": [
       "<div>\n",
       "<style scoped>\n",
       "    .dataframe tbody tr th:only-of-type {\n",
       "        vertical-align: middle;\n",
       "    }\n",
       "\n",
       "    .dataframe tbody tr th {\n",
       "        vertical-align: top;\n",
       "    }\n",
       "\n",
       "    .dataframe thead th {\n",
       "        text-align: right;\n",
       "    }\n",
       "</style>\n",
       "<table border=\"1\" class=\"dataframe\">\n",
       "  <thead>\n",
       "    <tr style=\"text-align: right;\">\n",
       "      <th></th>\n",
       "      <th>model</th>\n",
       "      <th>aircraft_code</th>\n",
       "      <th>range</th>\n",
       "      <th>seat_count</th>\n",
       "      <th>occupancy_count</th>\n",
       "      <th>occupancy_rate</th>\n",
       "      <th>flight_id</th>\n",
       "      <th>revenue_sum</th>\n",
       "      <th>city</th>\n",
       "      <th>airport_name</th>\n",
       "      <th>longitude</th>\n",
       "      <th>latitude</th>\n",
       "      <th>scheduled_departure</th>\n",
       "      <th>scheduled_arrival</th>\n",
       "      <th>arrival_airport</th>\n",
       "      <th>actual_departure</th>\n",
       "      <th>actual_arrival</th>\n",
       "      <th>fly_time</th>\n",
       "      <th>distance</th>\n",
       "      <th>fuel_consumption</th>\n",
       "      <th>profit</th>\n",
       "    </tr>\n",
       "  </thead>\n",
       "  <tbody>\n",
       "    <tr>\n",
       "      <th>55</th>\n",
       "      <td>Boeing 737-300</td>\n",
       "      <td>733</td>\n",
       "      <td>4200</td>\n",
       "      <td>130</td>\n",
       "      <td>120</td>\n",
       "      <td>0.923077</td>\n",
       "      <td>136471</td>\n",
       "      <td>1762800.0</td>\n",
       "      <td>Moscow</td>\n",
       "      <td>Sheremetyevo International Airport</td>\n",
       "      <td>37.414600</td>\n",
       "      <td>55.972599</td>\n",
       "      <td>2017-01-17T10:05:00Z</td>\n",
       "      <td>2017-01-17T11:45:00Z</td>\n",
       "      <td>SVO</td>\n",
       "      <td>2017-01-17 10:11:00+00:00</td>\n",
       "      <td>2017-01-17T11:51:00Z</td>\n",
       "      <td>0 years 0 mons 0 days 1 hours 40 mins 0.00 secs</td>\n",
       "      <td>1220.11</td>\n",
       "      <td>4258.1839</td>\n",
       "      <td>1586298.277</td>\n",
       "    </tr>\n",
       "    <tr>\n",
       "      <th>14</th>\n",
       "      <td>Boeing 737-300</td>\n",
       "      <td>733</td>\n",
       "      <td>4200</td>\n",
       "      <td>130</td>\n",
       "      <td>104</td>\n",
       "      <td>0.800000</td>\n",
       "      <td>136185</td>\n",
       "      <td>1520000.0</td>\n",
       "      <td>Moscow</td>\n",
       "      <td>Sheremetyevo International Airport</td>\n",
       "      <td>37.414600</td>\n",
       "      <td>55.972599</td>\n",
       "      <td>2017-01-14T10:05:00Z</td>\n",
       "      <td>2017-01-14T11:45:00Z</td>\n",
       "      <td>SVO</td>\n",
       "      <td>2017-01-14 10:06:00+00:00</td>\n",
       "      <td>2017-01-14T11:49:00Z</td>\n",
       "      <td>0 years 0 mons 0 days 1 hours 43 mins 0.00 secs</td>\n",
       "      <td>1220.11</td>\n",
       "      <td>4258.1839</td>\n",
       "      <td>1343498.277</td>\n",
       "    </tr>\n",
       "    <tr>\n",
       "      <th>8</th>\n",
       "      <td>Boeing 737-300</td>\n",
       "      <td>733</td>\n",
       "      <td>4200</td>\n",
       "      <td>130</td>\n",
       "      <td>115</td>\n",
       "      <td>0.884615</td>\n",
       "      <td>136159</td>\n",
       "      <td>1700600.0</td>\n",
       "      <td>Moscow</td>\n",
       "      <td>Sheremetyevo International Airport</td>\n",
       "      <td>37.414600</td>\n",
       "      <td>55.972599</td>\n",
       "      <td>2017-01-04T10:05:00Z</td>\n",
       "      <td>2017-01-04T11:45:00Z</td>\n",
       "      <td>SVO</td>\n",
       "      <td>2017-01-04 10:07:00+00:00</td>\n",
       "      <td>2017-01-04T11:45:00Z</td>\n",
       "      <td>0 years 0 mons 0 days 1 hours 38 mins 0.00 secs</td>\n",
       "      <td>1220.11</td>\n",
       "      <td>4258.1839</td>\n",
       "      <td>1524098.277</td>\n",
       "    </tr>\n",
       "    <tr>\n",
       "      <th>75</th>\n",
       "      <td>Sukhoi Superjet-100</td>\n",
       "      <td>SU9</td>\n",
       "      <td>3000</td>\n",
       "      <td>97</td>\n",
       "      <td>95</td>\n",
       "      <td>0.979381</td>\n",
       "      <td>136669</td>\n",
       "      <td>752700.0</td>\n",
       "      <td>Belgorod</td>\n",
       "      <td>Belgorod International Airport</td>\n",
       "      <td>36.590099</td>\n",
       "      <td>50.643799</td>\n",
       "      <td>2017-01-17T09:25:00Z</td>\n",
       "      <td>2017-01-17T10:15:00Z</td>\n",
       "      <td>EGO</td>\n",
       "      <td>2017-01-17 09:26:00+00:00</td>\n",
       "      <td>2017-01-17T10:17:00Z</td>\n",
       "      <td>0 years 0 mons 0 days 0 hours 51 mins 0.00 secs</td>\n",
       "      <td>630.11</td>\n",
       "      <td>1770.6091</td>\n",
       "      <td>679308.253</td>\n",
       "    </tr>\n",
       "    <tr>\n",
       "      <th>50</th>\n",
       "      <td>Boeing 737-300</td>\n",
       "      <td>733</td>\n",
       "      <td>4200</td>\n",
       "      <td>130</td>\n",
       "      <td>128</td>\n",
       "      <td>0.984615</td>\n",
       "      <td>136441</td>\n",
       "      <td>1837200.0</td>\n",
       "      <td>Moscow</td>\n",
       "      <td>Sheremetyevo International Airport</td>\n",
       "      <td>37.414600</td>\n",
       "      <td>55.972599</td>\n",
       "      <td>2017-02-03T10:05:00Z</td>\n",
       "      <td>2017-02-03T11:45:00Z</td>\n",
       "      <td>SVO</td>\n",
       "      <td>2017-02-03 10:07:00+00:00</td>\n",
       "      <td>2017-02-03T11:47:00Z</td>\n",
       "      <td>0 years 0 mons 0 days 1 hours 40 mins 0.00 secs</td>\n",
       "      <td>1220.11</td>\n",
       "      <td>4258.1839</td>\n",
       "      <td>1668788.827</td>\n",
       "    </tr>\n",
       "  </tbody>\n",
       "</table>\n",
       "</div>"
      ],
      "text/plain": [
       "                  model aircraft_code  range  seat_count  occupancy_count  \\\n",
       "55       Boeing 737-300           733   4200         130              120   \n",
       "14       Boeing 737-300           733   4200         130              104   \n",
       "8        Boeing 737-300           733   4200         130              115   \n",
       "75  Sukhoi Superjet-100           SU9   3000          97               95   \n",
       "50       Boeing 737-300           733   4200         130              128   \n",
       "\n",
       "    occupancy_rate  flight_id  revenue_sum      city  \\\n",
       "55        0.923077     136471    1762800.0    Moscow   \n",
       "14        0.800000     136185    1520000.0    Moscow   \n",
       "8         0.884615     136159    1700600.0    Moscow   \n",
       "75        0.979381     136669     752700.0  Belgorod   \n",
       "50        0.984615     136441    1837200.0    Moscow   \n",
       "\n",
       "                          airport_name  longitude   latitude  \\\n",
       "55  Sheremetyevo International Airport  37.414600  55.972599   \n",
       "14  Sheremetyevo International Airport  37.414600  55.972599   \n",
       "8   Sheremetyevo International Airport  37.414600  55.972599   \n",
       "75      Belgorod International Airport  36.590099  50.643799   \n",
       "50  Sheremetyevo International Airport  37.414600  55.972599   \n",
       "\n",
       "     scheduled_departure     scheduled_arrival arrival_airport  \\\n",
       "55  2017-01-17T10:05:00Z  2017-01-17T11:45:00Z             SVO   \n",
       "14  2017-01-14T10:05:00Z  2017-01-14T11:45:00Z             SVO   \n",
       "8   2017-01-04T10:05:00Z  2017-01-04T11:45:00Z             SVO   \n",
       "75  2017-01-17T09:25:00Z  2017-01-17T10:15:00Z             EGO   \n",
       "50  2017-02-03T10:05:00Z  2017-02-03T11:45:00Z             SVO   \n",
       "\n",
       "            actual_departure        actual_arrival  \\\n",
       "55 2017-01-17 10:11:00+00:00  2017-01-17T11:51:00Z   \n",
       "14 2017-01-14 10:06:00+00:00  2017-01-14T11:49:00Z   \n",
       "8  2017-01-04 10:07:00+00:00  2017-01-04T11:45:00Z   \n",
       "75 2017-01-17 09:26:00+00:00  2017-01-17T10:17:00Z   \n",
       "50 2017-02-03 10:07:00+00:00  2017-02-03T11:47:00Z   \n",
       "\n",
       "                                           fly_time  distance  \\\n",
       "55  0 years 0 mons 0 days 1 hours 40 mins 0.00 secs   1220.11   \n",
       "14  0 years 0 mons 0 days 1 hours 43 mins 0.00 secs   1220.11   \n",
       "8   0 years 0 mons 0 days 1 hours 38 mins 0.00 secs   1220.11   \n",
       "75  0 years 0 mons 0 days 0 hours 51 mins 0.00 secs    630.11   \n",
       "50  0 years 0 mons 0 days 1 hours 40 mins 0.00 secs   1220.11   \n",
       "\n",
       "    fuel_consumption       profit  \n",
       "55         4258.1839  1586298.277  \n",
       "14         4258.1839  1343498.277  \n",
       "8          4258.1839  1524098.277  \n",
       "75         1770.6091   679308.253  \n",
       "50         4258.1839  1668788.827  "
      ]
     },
     "execution_count": 127,
     "metadata": {},
     "output_type": "execute_result"
    }
   ],
   "source": [
    "data.sample(5)"
   ]
  },
  {
   "cell_type": "code",
   "execution_count": 128,
   "metadata": {},
   "outputs": [
    {
     "data": {
      "text/plain": [
       "<AxesSubplot:title={'center':'Средняя прибыль по городам в млн'}, xlabel='city'>"
      ]
     },
     "execution_count": 128,
     "metadata": {},
     "output_type": "execute_result"
    },
    {
     "data": {
      "image/png": "[encoded data removed]",
      "text/plain": [
       "<Figure size 432x288 with 1 Axes>"
      ]
     },
     "metadata": {
      "needs_background": "light"
     },
     "output_type": "display_data"
    }
   ],
   "source": [
    "data.pivot_table(values='profit', index='city', aggfunc='mean').plot(kind='bar', grid=True, title='Средняя прибыль по городам в млн')"
   ]
  },
  {
   "cell_type": "markdown",
   "metadata": {},
   "source": [
    "На графике видно, что рейсы на Белгород менее выгодные."
   ]
  },
  {
   "cell_type": "code",
   "execution_count": 129,
   "metadata": {},
   "outputs": [
    {
     "data": {
      "text/plain": [
       "city\n",
       "Belgorod    6.386404e+05\n",
       "Moscow      1.469914e+06\n",
       "Name: profit, dtype: float64"
      ]
     },
     "execution_count": 129,
     "metadata": {},
     "output_type": "execute_result"
    }
   ],
   "source": [
    "data.groupby('city')['profit'].mean()"
   ]
  },
  {
   "cell_type": "code",
   "execution_count": 130,
   "metadata": {},
   "outputs": [
    {
     "name": "stdout",
     "output_type": "stream",
     "text": [
      "Средняя прибыль рейса на Москву - 1.47 млн.рублей \n",
      "Средняя прибыль на Белгород - 0.639 млн.рублей \n",
      "Средняя прибыль всех рейсов 1.054 млн.рублей \n",
      "В 2.3 полеты в Белгород менее выгодные\n"
     ]
    }
   ],
   "source": [
    "mos = data[data['city'] == 'Moscow'].groupby(by='city')['profit'].mean().values[0]\n",
    "bel =   data[data['city'] == 'Belgorod'].groupby(by='city')['profit'].mean().values[0]\n",
    "mean_profit = (mos + bel)/2\n",
    "profit_ratio = (mos / bel)\n",
    "print(f'Средняя прибыль рейса на Москву - {round(mos/1000000, 3)} млн.рублей', \n",
    "      f'\\nСредняя прибыль на Белгород - {round(bel/1000000, 3)} млн.рублей', \n",
    "      f'\\nСредняя прибыль всех рейсов {round(mean_profit/1000000, 3)} млн.рублей',\n",
    "      f'\\nВ {round(profit_ratio, 2)} полеты в Белгород менее выгодные')"
   ]
  },
  {
   "cell_type": "markdown",
   "metadata": {},
   "source": [
    "Какие месяцы для полетов наменее выгодные для комании"
   ]
  },
  {
   "cell_type": "code",
   "execution_count": 178,
   "metadata": {},
   "outputs": [
    {
     "data": {
      "text/plain": [
       "<AxesSubplot:xlabel='month'>"
      ]
     },
     "execution_count": 178,
     "metadata": {},
     "output_type": "execute_result"
    },
    {
     "data": {
      "image/png": "[encoded data removed]",
      "text/plain": [
       "<Figure size 432x288 with 1 Axes>"
      ]
     },
     "metadata": {
      "needs_background": "light"
     },
     "output_type": "display_data"
    }
   ],
   "source": [
    "data.groupby('month')['profit'].mean().sort_values(ascending=False).plot(kind='bar')"
   ]
  },
  {
   "cell_type": "code",
   "execution_count": 183,
   "metadata": {},
   "outputs": [
    {
     "data": {
      "text/plain": [
       "month\n",
       "1    1.057984e+06\n",
       "2    1.050173e+06\n",
       "Name: profit, dtype: float64"
      ]
     },
     "execution_count": 183,
     "metadata": {},
     "output_type": "execute_result"
    }
   ],
   "source": [
    "data.groupby('month')['profit'].mean().sort_values(ascending=False)"
   ]
  },
  {
   "cell_type": "markdown",
   "metadata": {},
   "source": [
    "По дням недели"
   ]
  },
  {
   "cell_type": "code",
   "execution_count": 182,
   "metadata": {},
   "outputs": [
    {
     "data": {
      "text/plain": [
       "<AxesSubplot:xlabel='weekdays'>"
      ]
     },
     "execution_count": 182,
     "metadata": {},
     "output_type": "execute_result"
    },
    {
     "data": {
      "image/png": "[encoded data removed]",
      "text/plain": [
       "<Figure size 432x288 with 1 Axes>"
      ]
     },
     "metadata": {
      "needs_background": "light"
     },
     "output_type": "display_data"
    }
   ],
   "source": [
    "data.groupby('weekdays')['profit'].mean().sort_values(ascending=False).plot(kind='bar')"
   ]
  },
  {
   "cell_type": "code",
   "execution_count": 184,
   "metadata": {},
   "outputs": [
    {
     "data": {
      "text/plain": [
       "weekdays\n",
       "1    1.079765e+06\n",
       "4    1.078311e+06\n",
       "5    1.070454e+06\n",
       "2    1.064848e+06\n",
       "3    1.053117e+06\n",
       "0    1.037299e+06\n",
       "6    1.001660e+06\n",
       "Name: profit, dtype: float64"
      ]
     },
     "execution_count": 184,
     "metadata": {},
     "output_type": "execute_result"
    }
   ],
   "source": [
    "data.groupby('weekdays')['profit'].mean().sort_values(ascending=False)"
   ]
  },
  {
   "cell_type": "markdown",
   "metadata": {},
   "source": [
    "Посмотрим загруженность рейсов графиком BoxPlot"
   ]
  },
  {
   "cell_type": "code",
   "execution_count": 133,
   "metadata": {},
   "outputs": [
    {
     "data": {
      "image/png": "[encoded data removed]",
      "text/plain": [
       "<Figure size 1440x720 with 1 Axes>"
      ]
     },
     "metadata": {
      "needs_background": "light"
     },
     "output_type": "display_data"
    }
   ],
   "source": [
    "fig, ax = plt.subplots(figsize=(20, 10))\n",
    "sns.boxplot(x='city', y='occupancy_rate',\n",
    "                data=data,\n",
    "                ax=ax)\n",
    "plt.xticks(rotation=0)\n",
    "ax.set_title('Загруженность рейсов')\n",
    "plt.show()"
   ]
  },
  {
   "cell_type": "code",
   "execution_count": 188,
   "metadata": {},
   "outputs": [
    {
     "data": {
      "text/plain": [
       "city\n",
       "Belgorod    0.929757\n",
       "Moscow      0.870143\n",
       "Name: occupancy_rate, dtype: float64"
      ]
     },
     "execution_count": 188,
     "metadata": {},
     "output_type": "execute_result"
    }
   ],
   "source": [
    "data.groupby('city')['occupancy_rate'].mean().sort_values(ascending=False)"
   ]
  },
  {
   "cell_type": "markdown",
   "metadata": {},
   "source": [
    "Из графика видно, что 2 рейса в белгород являются выбросами. Выясним что это за рейсы"
   ]
  },
  {
   "cell_type": "code",
   "execution_count": 140,
   "metadata": {},
   "outputs": [
    {
     "data": {
      "text/html": [
       "<div>\n",
       "<style scoped>\n",
       "    .dataframe tbody tr th:only-of-type {\n",
       "        vertical-align: middle;\n",
       "    }\n",
       "\n",
       "    .dataframe tbody tr th {\n",
       "        vertical-align: top;\n",
       "    }\n",
       "\n",
       "    .dataframe thead th {\n",
       "        text-align: right;\n",
       "    }\n",
       "</style>\n",
       "<table border=\"1\" class=\"dataframe\">\n",
       "  <thead>\n",
       "    <tr style=\"text-align: right;\">\n",
       "      <th></th>\n",
       "      <th>model</th>\n",
       "      <th>aircraft_code</th>\n",
       "      <th>range</th>\n",
       "      <th>seat_count</th>\n",
       "      <th>occupancy_count</th>\n",
       "      <th>occupancy_rate</th>\n",
       "      <th>flight_id</th>\n",
       "      <th>revenue_sum</th>\n",
       "      <th>city</th>\n",
       "      <th>airport_name</th>\n",
       "      <th>longitude</th>\n",
       "      <th>latitude</th>\n",
       "      <th>scheduled_departure</th>\n",
       "      <th>scheduled_arrival</th>\n",
       "      <th>arrival_airport</th>\n",
       "      <th>actual_departure</th>\n",
       "      <th>actual_arrival</th>\n",
       "      <th>fly_time</th>\n",
       "      <th>distance</th>\n",
       "      <th>fuel_consumption</th>\n",
       "      <th>profit</th>\n",
       "      <th>month</th>\n",
       "      <th>weekdays</th>\n",
       "    </tr>\n",
       "  </thead>\n",
       "  <tbody>\n",
       "    <tr>\n",
       "      <th>68</th>\n",
       "      <td>Sukhoi Superjet-100</td>\n",
       "      <td>SU9</td>\n",
       "      <td>3000</td>\n",
       "      <td>97</td>\n",
       "      <td>64</td>\n",
       "      <td>0.659794</td>\n",
       "      <td>136642</td>\n",
       "      <td>531000.0</td>\n",
       "      <td>Belgorod</td>\n",
       "      <td>Belgorod International Airport</td>\n",
       "      <td>36.590099</td>\n",
       "      <td>50.643799</td>\n",
       "      <td>2017-01-30T09:25:00Z</td>\n",
       "      <td>2017-01-30T10:15:00Z</td>\n",
       "      <td>EGO</td>\n",
       "      <td>2017-01-30 09:28:00+00:00</td>\n",
       "      <td>2017-01-30T10:17:00Z</td>\n",
       "      <td>0 years 0 mons 0 days 0 hours 49 mins 0.00 secs</td>\n",
       "      <td>630.11</td>\n",
       "      <td>1770.6091</td>\n",
       "      <td>457608.253</td>\n",
       "      <td>1</td>\n",
       "      <td>0</td>\n",
       "    </tr>\n",
       "    <tr>\n",
       "      <th>93</th>\n",
       "      <td>Sukhoi Superjet-100</td>\n",
       "      <td>SU9</td>\n",
       "      <td>3000</td>\n",
       "      <td>97</td>\n",
       "      <td>68</td>\n",
       "      <td>0.701031</td>\n",
       "      <td>136807</td>\n",
       "      <td>531000.0</td>\n",
       "      <td>Belgorod</td>\n",
       "      <td>Belgorod International Airport</td>\n",
       "      <td>36.590099</td>\n",
       "      <td>50.643799</td>\n",
       "      <td>2017-02-23T09:25:00Z</td>\n",
       "      <td>2017-02-23T10:15:00Z</td>\n",
       "      <td>EGO</td>\n",
       "      <td>2017-02-23 09:28:00+00:00</td>\n",
       "      <td>2017-02-23T10:18:00Z</td>\n",
       "      <td>0 years 0 mons 0 days 0 hours 50 mins 0.00 secs</td>\n",
       "      <td>630.11</td>\n",
       "      <td>1770.6091</td>\n",
       "      <td>460972.410</td>\n",
       "      <td>2</td>\n",
       "      <td>3</td>\n",
       "    </tr>\n",
       "  </tbody>\n",
       "</table>\n",
       "</div>"
      ],
      "text/plain": [
       "                  model aircraft_code  range  seat_count  occupancy_count  \\\n",
       "68  Sukhoi Superjet-100           SU9   3000          97               64   \n",
       "93  Sukhoi Superjet-100           SU9   3000          97               68   \n",
       "\n",
       "    occupancy_rate  flight_id  revenue_sum      city  \\\n",
       "68        0.659794     136642     531000.0  Belgorod   \n",
       "93        0.701031     136807     531000.0  Belgorod   \n",
       "\n",
       "                      airport_name  longitude   latitude  \\\n",
       "68  Belgorod International Airport  36.590099  50.643799   \n",
       "93  Belgorod International Airport  36.590099  50.643799   \n",
       "\n",
       "     scheduled_departure     scheduled_arrival arrival_airport  \\\n",
       "68  2017-01-30T09:25:00Z  2017-01-30T10:15:00Z             EGO   \n",
       "93  2017-02-23T09:25:00Z  2017-02-23T10:15:00Z             EGO   \n",
       "\n",
       "            actual_departure        actual_arrival  \\\n",
       "68 2017-01-30 09:28:00+00:00  2017-01-30T10:17:00Z   \n",
       "93 2017-02-23 09:28:00+00:00  2017-02-23T10:18:00Z   \n",
       "\n",
       "                                           fly_time  distance  \\\n",
       "68  0 years 0 mons 0 days 0 hours 49 mins 0.00 secs    630.11   \n",
       "93  0 years 0 mons 0 days 0 hours 50 mins 0.00 secs    630.11   \n",
       "\n",
       "    fuel_consumption      profit  month  weekdays  \n",
       "68         1770.6091  457608.253      1         0  \n",
       "93         1770.6091  460972.410      2         3  "
      ]
     },
     "execution_count": 140,
     "metadata": {},
     "output_type": "execute_result"
    }
   ],
   "source": [
    "data[(data.occupancy_rate < 0.75) & (data.city == 'Belgorod')]"
   ]
  },
  {
   "cell_type": "markdown",
   "metadata": {},
   "source": [
    "Первый рейс: вылет 30 января в понедельник.\n",
    "Второй рейс: вылет 23 февраля в четверг.\n",
    "Выясним, были ли в этот день еще рейсы в Белгород"
   ]
  },
  {
   "cell_type": "code",
   "execution_count": 157,
   "metadata": {},
   "outputs": [],
   "source": [
    "data['date'] = data['actual_departure'].dt.date"
   ]
  },
  {
   "cell_type": "code",
   "execution_count": 162,
   "metadata": {},
   "outputs": [],
   "source": [
    "data.date = pd.to_datetime(data.date) # переведем в нужный формат времени"
   ]
  },
  {
   "cell_type": "code",
   "execution_count": 165,
   "metadata": {},
   "outputs": [
    {
     "data": {
      "text/html": [
       "<div>\n",
       "<style scoped>\n",
       "    .dataframe tbody tr th:only-of-type {\n",
       "        vertical-align: middle;\n",
       "    }\n",
       "\n",
       "    .dataframe tbody tr th {\n",
       "        vertical-align: top;\n",
       "    }\n",
       "\n",
       "    .dataframe thead th {\n",
       "        text-align: right;\n",
       "    }\n",
       "</style>\n",
       "<table border=\"1\" class=\"dataframe\">\n",
       "  <thead>\n",
       "    <tr style=\"text-align: right;\">\n",
       "      <th></th>\n",
       "      <th>model</th>\n",
       "      <th>aircraft_code</th>\n",
       "      <th>range</th>\n",
       "      <th>seat_count</th>\n",
       "      <th>occupancy_count</th>\n",
       "      <th>occupancy_rate</th>\n",
       "      <th>flight_id</th>\n",
       "      <th>revenue_sum</th>\n",
       "      <th>city</th>\n",
       "      <th>airport_name</th>\n",
       "      <th>longitude</th>\n",
       "      <th>latitude</th>\n",
       "      <th>scheduled_departure</th>\n",
       "      <th>scheduled_arrival</th>\n",
       "      <th>arrival_airport</th>\n",
       "      <th>actual_departure</th>\n",
       "      <th>actual_arrival</th>\n",
       "      <th>fly_time</th>\n",
       "      <th>distance</th>\n",
       "      <th>fuel_consumption</th>\n",
       "      <th>profit</th>\n",
       "      <th>month</th>\n",
       "      <th>weekdays</th>\n",
       "      <th>date</th>\n",
       "    </tr>\n",
       "  </thead>\n",
       "  <tbody>\n",
       "    <tr>\n",
       "      <th>68</th>\n",
       "      <td>Sukhoi Superjet-100</td>\n",
       "      <td>SU9</td>\n",
       "      <td>3000</td>\n",
       "      <td>97</td>\n",
       "      <td>64</td>\n",
       "      <td>0.659794</td>\n",
       "      <td>136642</td>\n",
       "      <td>531000.0</td>\n",
       "      <td>Belgorod</td>\n",
       "      <td>Belgorod International Airport</td>\n",
       "      <td>36.590099</td>\n",
       "      <td>50.643799</td>\n",
       "      <td>2017-01-30T09:25:00Z</td>\n",
       "      <td>2017-01-30T10:15:00Z</td>\n",
       "      <td>EGO</td>\n",
       "      <td>2017-01-30 09:28:00+00:00</td>\n",
       "      <td>2017-01-30T10:17:00Z</td>\n",
       "      <td>0 years 0 mons 0 days 0 hours 49 mins 0.00 secs</td>\n",
       "      <td>630.11</td>\n",
       "      <td>1770.6091</td>\n",
       "      <td>457608.253</td>\n",
       "      <td>1</td>\n",
       "      <td>0</td>\n",
       "      <td>2017-01-30</td>\n",
       "    </tr>\n",
       "    <tr>\n",
       "      <th>93</th>\n",
       "      <td>Sukhoi Superjet-100</td>\n",
       "      <td>SU9</td>\n",
       "      <td>3000</td>\n",
       "      <td>97</td>\n",
       "      <td>68</td>\n",
       "      <td>0.701031</td>\n",
       "      <td>136807</td>\n",
       "      <td>531000.0</td>\n",
       "      <td>Belgorod</td>\n",
       "      <td>Belgorod International Airport</td>\n",
       "      <td>36.590099</td>\n",
       "      <td>50.643799</td>\n",
       "      <td>2017-02-23T09:25:00Z</td>\n",
       "      <td>2017-02-23T10:15:00Z</td>\n",
       "      <td>EGO</td>\n",
       "      <td>2017-02-23 09:28:00+00:00</td>\n",
       "      <td>2017-02-23T10:18:00Z</td>\n",
       "      <td>0 years 0 mons 0 days 0 hours 50 mins 0.00 secs</td>\n",
       "      <td>630.11</td>\n",
       "      <td>1770.6091</td>\n",
       "      <td>460972.410</td>\n",
       "      <td>2</td>\n",
       "      <td>3</td>\n",
       "      <td>2017-02-23</td>\n",
       "    </tr>\n",
       "  </tbody>\n",
       "</table>\n",
       "</div>"
      ],
      "text/plain": [
       "                  model aircraft_code  range  seat_count  occupancy_count  \\\n",
       "68  Sukhoi Superjet-100           SU9   3000          97               64   \n",
       "93  Sukhoi Superjet-100           SU9   3000          97               68   \n",
       "\n",
       "    occupancy_rate  flight_id  revenue_sum      city  \\\n",
       "68        0.659794     136642     531000.0  Belgorod   \n",
       "93        0.701031     136807     531000.0  Belgorod   \n",
       "\n",
       "                      airport_name  longitude   latitude  \\\n",
       "68  Belgorod International Airport  36.590099  50.643799   \n",
       "93  Belgorod International Airport  36.590099  50.643799   \n",
       "\n",
       "     scheduled_departure     scheduled_arrival arrival_airport  \\\n",
       "68  2017-01-30T09:25:00Z  2017-01-30T10:15:00Z             EGO   \n",
       "93  2017-02-23T09:25:00Z  2017-02-23T10:15:00Z             EGO   \n",
       "\n",
       "            actual_departure        actual_arrival  \\\n",
       "68 2017-01-30 09:28:00+00:00  2017-01-30T10:17:00Z   \n",
       "93 2017-02-23 09:28:00+00:00  2017-02-23T10:18:00Z   \n",
       "\n",
       "                                           fly_time  distance  \\\n",
       "68  0 years 0 mons 0 days 0 hours 49 mins 0.00 secs    630.11   \n",
       "93  0 years 0 mons 0 days 0 hours 50 mins 0.00 secs    630.11   \n",
       "\n",
       "    fuel_consumption      profit  month  weekdays       date  \n",
       "68         1770.6091  457608.253      1         0 2017-01-30  \n",
       "93         1770.6091  460972.410      2         3 2017-02-23  "
      ]
     },
     "execution_count": 165,
     "metadata": {},
     "output_type": "execute_result"
    }
   ],
   "source": [
    "data[((data.date == '2017-01-30') | (data.date == '2017-02-23')) & (data.city == 'Belgorod')]"
   ]
  },
  {
   "cell_type": "code",
   "execution_count": null,
   "metadata": {},
   "outputs": [],
   "source": [
    "Других рейсов в этот день в Белгород не было"
   ]
  },
  {
   "cell_type": "markdown",
   "metadata": {},
   "source": [
    "Найдем 2-3 самых малоприбыльных рейсов в Москву"
   ]
  },
  {
   "cell_type": "code",
   "execution_count": 175,
   "metadata": {},
   "outputs": [
    {
     "data": {
      "text/html": [
       "<div>\n",
       "<style scoped>\n",
       "    .dataframe tbody tr th:only-of-type {\n",
       "        vertical-align: middle;\n",
       "    }\n",
       "\n",
       "    .dataframe tbody tr th {\n",
       "        vertical-align: top;\n",
       "    }\n",
       "\n",
       "    .dataframe thead th {\n",
       "        text-align: right;\n",
       "    }\n",
       "</style>\n",
       "<table border=\"1\" class=\"dataframe\">\n",
       "  <thead>\n",
       "    <tr style=\"text-align: right;\">\n",
       "      <th></th>\n",
       "      <th>model</th>\n",
       "      <th>aircraft_code</th>\n",
       "      <th>range</th>\n",
       "      <th>seat_count</th>\n",
       "      <th>occupancy_count</th>\n",
       "      <th>occupancy_rate</th>\n",
       "      <th>flight_id</th>\n",
       "      <th>revenue_sum</th>\n",
       "      <th>city</th>\n",
       "      <th>airport_name</th>\n",
       "      <th>longitude</th>\n",
       "      <th>latitude</th>\n",
       "      <th>scheduled_departure</th>\n",
       "      <th>scheduled_arrival</th>\n",
       "      <th>arrival_airport</th>\n",
       "      <th>actual_departure</th>\n",
       "      <th>actual_arrival</th>\n",
       "      <th>fly_time</th>\n",
       "      <th>distance</th>\n",
       "      <th>fuel_consumption</th>\n",
       "      <th>profit</th>\n",
       "      <th>month</th>\n",
       "      <th>weekdays</th>\n",
       "      <th>date</th>\n",
       "    </tr>\n",
       "  </thead>\n",
       "  <tbody>\n",
       "    <tr>\n",
       "      <th>2</th>\n",
       "      <td>Boeing 737-300</td>\n",
       "      <td>733</td>\n",
       "      <td>4200</td>\n",
       "      <td>130</td>\n",
       "      <td>97</td>\n",
       "      <td>0.746154</td>\n",
       "      <td>136122</td>\n",
       "      <td>1431000.0</td>\n",
       "      <td>Moscow</td>\n",
       "      <td>Sheremetyevo International Airport</td>\n",
       "      <td>37.4146</td>\n",
       "      <td>55.972599</td>\n",
       "      <td>2017-01-08T10:05:00Z</td>\n",
       "      <td>2017-01-08T11:45:00Z</td>\n",
       "      <td>SVO</td>\n",
       "      <td>2017-01-08 10:08:00+00:00</td>\n",
       "      <td>2017-01-08T11:48:00Z</td>\n",
       "      <td>0 years 0 mons 0 days 1 hours 40 mins 0.00 secs</td>\n",
       "      <td>1220.11</td>\n",
       "      <td>4258.1839</td>\n",
       "      <td>1254498.277</td>\n",
       "      <td>1</td>\n",
       "      <td>6</td>\n",
       "      <td>2017-01-08</td>\n",
       "    </tr>\n",
       "    <tr>\n",
       "      <th>38</th>\n",
       "      <td>Boeing 737-300</td>\n",
       "      <td>733</td>\n",
       "      <td>4200</td>\n",
       "      <td>130</td>\n",
       "      <td>97</td>\n",
       "      <td>0.746154</td>\n",
       "      <td>136360</td>\n",
       "      <td>1455400.0</td>\n",
       "      <td>Moscow</td>\n",
       "      <td>Sheremetyevo International Airport</td>\n",
       "      <td>37.4146</td>\n",
       "      <td>55.972599</td>\n",
       "      <td>2017-02-05T10:05:00Z</td>\n",
       "      <td>2017-02-05T11:45:00Z</td>\n",
       "      <td>SVO</td>\n",
       "      <td>2017-02-05 10:08:00+00:00</td>\n",
       "      <td>2017-02-05T11:48:00Z</td>\n",
       "      <td>0 years 0 mons 0 days 1 hours 40 mins 0.00 secs</td>\n",
       "      <td>1220.11</td>\n",
       "      <td>4258.1839</td>\n",
       "      <td>1286988.827</td>\n",
       "      <td>2</td>\n",
       "      <td>6</td>\n",
       "      <td>2017-02-05</td>\n",
       "    </tr>\n",
       "  </tbody>\n",
       "</table>\n",
       "</div>"
      ],
      "text/plain": [
       "             model aircraft_code  range  seat_count  occupancy_count  \\\n",
       "2   Boeing 737-300           733   4200         130               97   \n",
       "38  Boeing 737-300           733   4200         130               97   \n",
       "\n",
       "    occupancy_rate  flight_id  revenue_sum    city  \\\n",
       "2         0.746154     136122    1431000.0  Moscow   \n",
       "38        0.746154     136360    1455400.0  Moscow   \n",
       "\n",
       "                          airport_name  longitude   latitude  \\\n",
       "2   Sheremetyevo International Airport    37.4146  55.972599   \n",
       "38  Sheremetyevo International Airport    37.4146  55.972599   \n",
       "\n",
       "     scheduled_departure     scheduled_arrival arrival_airport  \\\n",
       "2   2017-01-08T10:05:00Z  2017-01-08T11:45:00Z             SVO   \n",
       "38  2017-02-05T10:05:00Z  2017-02-05T11:45:00Z             SVO   \n",
       "\n",
       "            actual_departure        actual_arrival  \\\n",
       "2  2017-01-08 10:08:00+00:00  2017-01-08T11:48:00Z   \n",
       "38 2017-02-05 10:08:00+00:00  2017-02-05T11:48:00Z   \n",
       "\n",
       "                                           fly_time  distance  \\\n",
       "2   0 years 0 mons 0 days 1 hours 40 mins 0.00 secs   1220.11   \n",
       "38  0 years 0 mons 0 days 1 hours 40 mins 0.00 secs   1220.11   \n",
       "\n",
       "    fuel_consumption       profit  month  weekdays       date  \n",
       "2          4258.1839  1254498.277      1         6 2017-01-08  \n",
       "38         4258.1839  1286988.827      2         6 2017-02-05  "
      ]
     },
     "execution_count": 175,
     "metadata": {},
     "output_type": "execute_result"
    }
   ],
   "source": [
    "data[(data.occupancy_rate < 0.75) & (data.city == 'Moscow')]"
   ]
  }
 ],
 "metadata": {
  "kernelspec": {
   "display_name": "Python 3",
   "language": "python",
   "name": "python3"
  },
  "language_info": {
   "codemirror_mode": {
    "name": "ipython",
    "version": 3
   },
   "file_extension": ".py",
   "mimetype": "text/x-python",
   "name": "python",
   "nbconvert_exporter": "python",
   "pygments_lexer": "ipython3",
   "version": "3.8.5"
  }
 },
 "nbformat": 4,
 "nbformat_minor": 4
}
